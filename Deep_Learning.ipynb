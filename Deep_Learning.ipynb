{
 "cells": [
  {
   "cell_type": "markdown",
   "id": "39764e6e-e8aa-4f6c-ad99-c678afac2cbe",
   "metadata": {},
   "source": [
    "-------"
   ]
  },
  {
   "cell_type": "markdown",
   "id": "6304cb7a-19a0-49f0-80e4-a8780c44edcc",
   "metadata": {},
   "source": [
    "# Deep Learning Into"
   ]
  },
  {
   "cell_type": "markdown",
   "id": "e1edc604-711a-4a5d-8aad-825a363d505f",
   "metadata": {},
   "source": [
    "Deep Learning outperforms traditional machine learning by extracting intricate patterns from big and unstructured data such as image pixels, large corpora of text, audio signals."
   ]
  },
  {
   "cell_type": "markdown",
   "id": "77c45153-04df-420b-8553-fb7eefe1167c",
   "metadata": {},
   "source": [
    "* Traditional machine learning -> hand-crafted feature engineering\n",
    "* Deep learning -> **feature learning** (**representation learning**) from raw data"
   ]
  },
  {
   "cell_type": "markdown",
   "id": "b5a90438-3afa-4247-b18f-85b2627770b9",
   "metadata": {},
   "source": [
    "Deep learning is a subset of machine learning where the model structure is: \n",
    "* inputs\n",
    "* hidden layers (one or many)\n",
    "* outputs "
   ]
  },
  {
   "cell_type": "markdown",
   "id": "6e24ded0-c7a2-4b83-b389-f3aea334d4e2",
   "metadata": {},
   "source": [
    "The job of **hidden layers** is to get good features  \n",
    "The job of **output layer** is to classify those features "
   ]
  },
  {
   "cell_type": "markdown",
   "id": "90efe6e3-2369-4e9e-a130-8597073d12a9",
   "metadata": {},
   "source": [
    "Hidden layers are a **black box** -> you do not need easily interpretable results (you do not care why the network knows it's a cat or a dog) "
   ]
  },
  {
   "cell_type": "markdown",
   "id": "f8ecb2ec-b16a-4cdf-be71-ce1a2ff9e655",
   "metadata": {},
   "source": [
    "Deep learning is inspired by how the human brain learns: through interconnected cells called neurons, hence the name \"neural\" networks."
   ]
  },
  {
   "cell_type": "markdown",
   "id": "624cca26-dfd4-4f3f-9fd6-6753270427f4",
   "metadata": {},
   "source": [
    "These layered model structures require far more data to learn than other supervised learning models to derive patterns from the unstructured data - usually talking about at least hundreds of thousands of data points."
   ]
  },
  {
   "cell_type": "code",
   "execution_count": 16,
   "id": "51fd9f31-71bf-4243-9a68-683842512ce3",
   "metadata": {},
   "outputs": [],
   "source": [
    "import torch"
   ]
  },
  {
   "cell_type": "code",
   "execution_count": 17,
   "id": "dd905bfa-aa00-4297-81bc-896c19ee8181",
   "metadata": {},
   "outputs": [],
   "source": [
    "# Provides neural network wrapper\n",
    "import torch.nn as nn"
   ]
  },
  {
   "cell_type": "code",
   "execution_count": 18,
   "id": "bb5cd5d7-e1ab-4d67-ba31-d7ede5cc8ff8",
   "metadata": {},
   "outputs": [],
   "source": [
    "# Activation and loss functions \n",
    "import torch.nn.functional as F"
   ]
  },
  {
   "cell_type": "code",
   "execution_count": 19,
   "id": "ac1b7aa7-c689-4df6-8507-bc62f47fa72d",
   "metadata": {},
   "outputs": [],
   "source": [
    "# Optimizer of choice - Stochastic Gradient Descent\n",
    "from torch.optim import SGD"
   ]
  },
  {
   "cell_type": "code",
   "execution_count": 20,
   "id": "677dc1e9-a78a-4dfe-8cfd-f1a859c0f2fd",
   "metadata": {},
   "outputs": [],
   "source": [
    "# Graphs \n",
    "import matplotlib.pyplot as plt\n",
    "import seaborn as sns"
   ]
  },
  {
   "cell_type": "markdown",
   "id": "ccdc5248-3360-4219-9116-218cab2dcb33",
   "metadata": {},
   "source": [
    "PyTorch shares a lot of commonalities with numpy and it also supports:\n",
    "* image data with `torchvision`\n",
    "* audio data with `torchaudio`\n",
    "* text data with `torchtext`"
   ]
  },
  {
   "cell_type": "markdown",
   "id": "77377fca-4878-4514-999f-a825e25c76f3",
   "metadata": {},
   "source": [
    "The fundamental data structure in PyTorch is called a **tensor**. A tensor is essentially an array, which can support many mathematical operations, and will form a building block for our neural networks."
   ]
  },
  {
   "cell_type": "code",
   "execution_count": 2,
   "id": "ec4f9e91-6332-4e05-b8f2-d89ea5f5abed",
   "metadata": {},
   "outputs": [],
   "source": [
    "# Tensors can be created from Python lists\n",
    "array = [[1, 2, 3], [4, 5, 6]]"
   ]
  },
  {
   "cell_type": "code",
   "execution_count": 3,
   "id": "1407bb20-97c7-450b-9012-ac5e884b037b",
   "metadata": {},
   "outputs": [],
   "source": [
    "tensor = torch.tensor (array)"
   ]
  },
  {
   "cell_type": "code",
   "execution_count": 4,
   "id": "4536fa0c-aff8-4a5c-89a8-338450892865",
   "metadata": {},
   "outputs": [
    {
     "data": {
      "text/plain": [
       "tensor([[1, 2, 3],\n",
       "        [4, 5, 6]])"
      ]
     },
     "execution_count": 4,
     "metadata": {},
     "output_type": "execute_result"
    }
   ],
   "source": [
    "tensor"
   ]
  },
  {
   "cell_type": "code",
   "execution_count": 6,
   "id": "dd98bb2b-0898-4508-a15b-bb129dc6f49d",
   "metadata": {},
   "outputs": [],
   "source": [
    "# PyTorch is similar in functionality to numpy which makes it easy to use both\n",
    "import numpy as np"
   ]
  },
  {
   "cell_type": "code",
   "execution_count": 7,
   "id": "6c0d68a5-000f-4b06-9921-2b6a7156c6f3",
   "metadata": {},
   "outputs": [],
   "source": [
    "# Load from NumPy array \n",
    "np_array = np.array(array)\n",
    "np_tensor = torch.from_numpy(np_array)"
   ]
  },
  {
   "cell_type": "code",
   "execution_count": 11,
   "id": "f559ecb1-be76-460a-be06-478255cc3b19",
   "metadata": {},
   "outputs": [
    {
     "data": {
      "text/plain": [
       "torch.Size([2, 3])"
      ]
     },
     "execution_count": 11,
     "metadata": {},
     "output_type": "execute_result"
    }
   ],
   "source": [
    " tensor.shape"
   ]
  },
  {
   "cell_type": "code",
   "execution_count": 12,
   "id": "73586c57-b221-4bfa-bb21-164e8839e622",
   "metadata": {},
   "outputs": [
    {
     "data": {
      "text/plain": [
       "torch.int64"
      ]
     },
     "execution_count": 12,
     "metadata": {},
     "output_type": "execute_result"
    }
   ],
   "source": [
    "tensor.dtype"
   ]
  },
  {
   "cell_type": "markdown",
   "id": "f4afea1b-870f-4338-9516-3106f35f6788",
   "metadata": {},
   "source": [
    " Deep learning often requires a GPU, which, compared to a CPU, can offer parallel computing capabilities, faster training times, and better performance."
   ]
  },
  {
   "cell_type": "code",
   "execution_count": 13,
   "id": "66c7e963-657b-40b9-a4ce-5e7522b44940",
   "metadata": {},
   "outputs": [
    {
     "data": {
      "text/plain": [
       "device(type='cpu')"
      ]
     },
     "execution_count": 13,
     "metadata": {},
     "output_type": "execute_result"
    }
   ],
   "source": [
    "tensor.device"
   ]
  },
  {
   "cell_type": "markdown",
   "id": "0780c630-5d09-4481-a91b-ac59844ccede",
   "metadata": {},
   "source": [
    "---------"
   ]
  },
  {
   "cell_type": "markdown",
   "id": "1bab0e7e-dc11-406b-bf2f-7a9b2ed0448e",
   "metadata": {},
   "source": [
    "# Tensor operations "
   ]
  },
  {
   "cell_type": "code",
   "execution_count": 14,
   "id": "ffe926cf-4dc0-4126-af13-62059594a292",
   "metadata": {},
   "outputs": [],
   "source": [
    "a = torch.tensor([[1, 1],[2, 2]])\n",
    "b = torch.tensor ([[2, 2],[3, 3]])"
   ]
  },
  {
   "cell_type": "code",
   "execution_count": 15,
   "id": "b6940878-b74d-491e-8f21-2a68204c72d4",
   "metadata": {},
   "outputs": [
    {
     "data": {
      "text/plain": [
       "tensor([[3, 3],\n",
       "        [5, 5]])"
      ]
     },
     "execution_count": 15,
     "metadata": {},
     "output_type": "execute_result"
    }
   ],
   "source": [
    "# Addition\n",
    "a + b"
   ]
  },
  {
   "cell_type": "code",
   "execution_count": 16,
   "id": "5974fcb4-ca89-466c-b48f-ac6a72abeb80",
   "metadata": {},
   "outputs": [
    {
     "data": {
      "text/plain": [
       "tensor([[-1, -1],\n",
       "        [-1, -1]])"
      ]
     },
     "execution_count": 16,
     "metadata": {},
     "output_type": "execute_result"
    }
   ],
   "source": [
    "# Subtraction\n",
    "a - b"
   ]
  },
  {
   "cell_type": "code",
   "execution_count": 17,
   "id": "3f121091-f425-47cc-b125-94ef5e73c7bc",
   "metadata": {},
   "outputs": [
    {
     "data": {
      "text/plain": [
       "tensor([[2, 2],\n",
       "        [6, 6]])"
      ]
     },
     "execution_count": 17,
     "metadata": {},
     "output_type": "execute_result"
    }
   ],
   "source": [
    "# Element-wise multiplication\n",
    "a * b"
   ]
  },
  {
   "cell_type": "markdown",
   "id": "c286d09e-e073-419d-8b6f-47b1f8ec7785",
   "metadata": {},
   "source": [
    "Other operations: \n",
    "* transposition \n",
    "* matrix multiplication \n",
    "* concatenation"
   ]
  },
  {
   "cell_type": "code",
   "execution_count": 295,
   "id": "5bd3c0a3-c574-4b4a-a4a4-2be3a96895a6",
   "metadata": {},
   "outputs": [
    {
     "name": "stdout",
     "output_type": "stream",
     "text": [
      "tensor([[1., 1., 1.],\n",
      "        [1., 1., 1.],\n",
      "        [1., 1., 1.]])\n",
      "tensor([[1., 0., 0.],\n",
      "        [0., 1., 0.],\n",
      "        [0., 0., 1.]])\n"
     ]
    }
   ],
   "source": [
    "# Create a matrix of ones with shape 3 by 3\n",
    "tensor_of_ones = torch.ones(3, 3)\n",
    "\n",
    "# Create an identity matrix with shape 3 by 3\n",
    "identity_tensor = torch.eye(3)\n",
    "\n",
    "# Do a matrix multiplication of tensor_of_ones with identity_tensor\n",
    "matrices_multiplied = torch.matmul(tensor_of_ones, identity_tensor)\n",
    "print(matrices_multiplied)\n",
    "\n",
    "# Do an element-wise multiplication of tensor_of_ones with identity_tensor\n",
    "element_multiplication = tensor_of_ones * identity_tensor\n",
    "print(element_multiplication)"
   ]
  },
  {
   "cell_type": "markdown",
   "id": "ee99fbdb-d8e2-40d3-9d49-a2072ae6f9c0",
   "metadata": {},
   "source": [
    "------------"
   ]
  },
  {
   "cell_type": "markdown",
   "id": "357f9a0a-d638-4463-aef7-5e7973b79f07",
   "metadata": {},
   "source": [
    "# Smallest Neural Network"
   ]
  },
  {
   "cell_type": "code",
   "execution_count": 300,
   "id": "9a50ebab-3fab-40c1-a885-7c4c5177e968",
   "metadata": {},
   "outputs": [],
   "source": [
    "class Net(nn.Module):\n",
    "    def __init__(self):\n",
    "        super(Net, self).__init__()\n",
    "        \n",
    "        # Instantiate all 2 linear layers  \n",
    "        self.fc1 = nn.Linear(784, 200)\n",
    "        self.fc2 = nn.Linear(200, 10)\n",
    "\n",
    "    def forward(self, x):\n",
    "      \n",
    "        # Use the instantiated layers and return x\n",
    "        x = self.fc1(x)\n",
    "        x = self.fc2(x)\n",
    "        return x"
   ]
  },
  {
   "cell_type": "markdown",
   "id": "d3433a68-6890-4de0-9a2f-1007b1e33c3b",
   "metadata": {},
   "source": [
    "No hidden layers, just input and output "
   ]
  },
  {
   "cell_type": "code",
   "execution_count": 21,
   "id": "d4a714c5-9e28-432f-b4a3-bf3cd280ed3b",
   "metadata": {},
   "outputs": [],
   "source": [
    "import torch.nn as nn "
   ]
  },
  {
   "cell_type": "code",
   "execution_count": 22,
   "id": "b6c57d0c-b53b-454c-a5fa-b30b0377269c",
   "metadata": {},
   "outputs": [],
   "source": [
    "# Create first layer -  one row with three \"features\" or \"neurons\"\n",
    "input_tensor = torch.tensor(\n",
    "    [[0.3471, 0.4547, -0.2356]]\n",
    ")"
   ]
  },
  {
   "cell_type": "code",
   "execution_count": 23,
   "id": "3a5a400f-532f-40f5-a509-5613a5eebee7",
   "metadata": {},
   "outputs": [],
   "source": [
    "# Next layer - a linear layer - takes an input, applies a linear function, and returns output\n",
    "linear_layer = nn.Linear(in_features=3, out_features=2)"
   ]
  },
  {
   "cell_type": "code",
   "execution_count": 24,
   "id": "faa4961d-0899-490d-9944-12abc9cb2e93",
   "metadata": {},
   "outputs": [],
   "source": [
    "# Pass input_tensor to linear_layer to generate an output.\n",
    "output = linear_layer(input_tensor)"
   ]
  },
  {
   "cell_type": "code",
   "execution_count": 25,
   "id": "f7477e66-64e6-43f6-832a-bee56f97aedd",
   "metadata": {},
   "outputs": [
    {
     "data": {
      "text/plain": [
       "tensor([[-0.4975, -0.2546]], grad_fn=<AddmmBackward0>)"
      ]
     },
     "execution_count": 25,
     "metadata": {},
     "output_type": "execute_result"
    }
   ],
   "source": [
    "# Output is a tensor with the number of features that we designated\n",
    "output"
   ]
  },
  {
   "cell_type": "markdown",
   "id": "61c9606a-7daf-4557-a34b-623abbcc0836",
   "metadata": {},
   "source": [
    "Each linear layer has a set of **weights** and **biases** associated with it:"
   ]
  },
  {
   "cell_type": "code",
   "execution_count": 27,
   "id": "adbd04bb-e68e-4bea-8e6a-d3bb13b90215",
   "metadata": {},
   "outputs": [
    {
     "data": {
      "text/plain": [
       "Parameter containing:\n",
       "tensor([[-0.5042, -0.4743,  0.1546],\n",
       "        [-0.2103,  0.4613, -0.4945]], requires_grad=True)"
      ]
     },
     "execution_count": 27,
     "metadata": {},
     "output_type": "execute_result"
    }
   ],
   "source": [
    "linear_layer.weight"
   ]
  },
  {
   "cell_type": "code",
   "execution_count": 28,
   "id": "d95d29bc-9f6d-4521-838f-f8f0ccd02bea",
   "metadata": {},
   "outputs": [
    {
     "data": {
      "text/plain": [
       "Parameter containing:\n",
       "tensor([-0.0704, -0.5078], requires_grad=True)"
      ]
     },
     "execution_count": 28,
     "metadata": {},
     "output_type": "execute_result"
    }
   ],
   "source": [
    "linear_layer.bias"
   ]
  },
  {
   "cell_type": "markdown",
   "id": "0c39ba78-d346-4284-bcae-39cd6dd00d4d",
   "metadata": {},
   "source": [
    "Linear layer operation: \n",
    "$$ output = W_0   @   input + b_0 $$\n",
    "where @ operator denotes a matrix multiplication. "
   ]
  },
  {
   "cell_type": "markdown",
   "id": "f87136c2-288f-44a0-80ff-2ced0da5edc1",
   "metadata": {},
   "source": [
    "Weights and biases are initialized randomly. They are not useful until they are tuned"
   ]
  },
  {
   "cell_type": "markdown",
   "id": "6940968a-ce86-48e2-b58e-c24fb2907257",
   "metadata": {},
   "source": [
    "Networks with only linear layers are called **fully connected** because each neuron in one layer is connected to each neuron in the next layer"
   ]
  },
  {
   "cell_type": "markdown",
   "id": "8dc9883f-0445-4e0b-b3ee-77f2adf8466d",
   "metadata": {},
   "source": [
    "----------"
   ]
  },
  {
   "cell_type": "code",
   "execution_count": 21,
   "id": "27249009-435b-4d8b-aaa6-a47603111748",
   "metadata": {},
   "outputs": [],
   "source": [
    "## create a neural network class by creating a class that inherits from nn.Module.\n",
    "class BasicNN(nn.Module):\n",
    "\n",
    "    def __init__(self): # __init__() is the class constructor function, and we use it to initialize the weights and biases.\n",
    "        \n",
    "        super().__init__() # initialize an instance of the parent class, nn.Model.\n",
    "        \n",
    "        ## Now create the weights and biases that we need for our neural network.\n",
    "        ## Each weight or bias is an nn.Parameter, which gives us the option to optimize the parameter by setting\n",
    "        ## requires_grad, which is short for \"requires gradient\", to True. Since we don't need to optimize any of these\n",
    "        ## parameters now, we set requires_grad=False.\n",
    "        ##\n",
    "        ## NOTE: Because our neural network is already fit to the data, we will input specific values\n",
    "        ## for each weight and bias. In contrast, if we had not already fit the neural network to the data,\n",
    "        ## we might start with a random initalization of the weights and biases.\n",
    "        self.w00 = nn.Parameter(torch.tensor(1.7), requires_grad=False)\n",
    "        self.b00 = nn.Parameter(torch.tensor(-0.85), requires_grad=False)\n",
    "        self.w01 = nn.Parameter(torch.tensor(-40.8), requires_grad=False)\n",
    "        \n",
    "        self.w10 = nn.Parameter(torch.tensor(12.6), requires_grad=False)\n",
    "        self.b10 = nn.Parameter(torch.tensor(0.0), requires_grad=False)\n",
    "        self.w11 = nn.Parameter(torch.tensor(2.7), requires_grad=False)\n",
    "\n",
    "        self.final_bias = nn.Parameter(torch.tensor(-16.), requires_grad=False)\n",
    "        \n",
    "        \n",
    "    def forward(self, input): ## forward() takes an input value and runs it though the neural network \n",
    "                              ## illustrated at the top of this notebook. \n",
    "        \n",
    "        ## the next three lines implement the top of the neural network (using the top node in the hidden layer).\n",
    "        input_to_top_relu = input * self.w00 + self.b00\n",
    "        top_relu_output = F.relu(input_to_top_relu)\n",
    "        scaled_top_relu_output = top_relu_output * self.w01\n",
    "        \n",
    "        ## the next three lines implement the bottom of the neural network (using the bottom node in the hidden layer).\n",
    "        input_to_bottom_relu = input * self.w10 + self.b10\n",
    "        bottom_relu_output = F.relu(input_to_bottom_relu)\n",
    "        scaled_bottom_relu_output = bottom_relu_output * self.w11\n",
    "        \n",
    "        ## here, we combine both the top and bottom nodes from the hidden layer with the final bias.\n",
    "        input_to_final_relu = scaled_top_relu_output + scaled_bottom_relu_output + self.final_bias\n",
    "        \n",
    "        output = F.relu(input_to_final_relu)\n",
    "    \n",
    "        return output # output is the predicted effectiveness for a drug dose."
   ]
  },
  {
   "cell_type": "code",
   "execution_count": 22,
   "id": "3ae96e52-4486-40cc-9a80-65ee5c55a192",
   "metadata": {},
   "outputs": [
    {
     "name": "stdout",
     "output_type": "stream",
     "text": [
      "w00 tensor(1.7000)\n",
      "b00 tensor(-0.8500)\n",
      "w01 tensor(-40.8000)\n",
      "w10 tensor(12.6000)\n",
      "b10 tensor(0.)\n",
      "w11 tensor(2.7000)\n",
      "final_bias tensor(-16.)\n"
     ]
    }
   ],
   "source": [
    "## create the neural network. \n",
    "model = BasicNN()\n",
    "\n",
    "## print out the name and value for each parameter\n",
    "for name, param in model.named_parameters():\n",
    "    print(name, param.data)"
   ]
  },
  {
   "cell_type": "code",
   "execution_count": 23,
   "id": "28978a91-499a-4439-9e61-cfed46e9472b",
   "metadata": {},
   "outputs": [
    {
     "data": {
      "text/plain": [
       "tensor([0.0000, 0.1000, 0.2000, 0.3000, 0.4000, 0.5000, 0.6000, 0.7000, 0.8000,\n",
       "        0.9000, 1.0000])"
      ]
     },
     "execution_count": 23,
     "metadata": {},
     "output_type": "execute_result"
    }
   ],
   "source": [
    "## now create the different doses we want to run through the neural network.\n",
    "## torch.linspace() creates the sequence of numbers between, and including, 0 and 1.\n",
    "input_doses = torch.linspace(start=0, end=1, steps=11)\n",
    "\n",
    "# now print out the doses to make sure they are what we expect...\n",
    "input_doses"
   ]
  },
  {
   "cell_type": "code",
   "execution_count": 24,
   "id": "22b57456-0004-481a-83a3-dbde111e5177",
   "metadata": {},
   "outputs": [
    {
     "data": {
      "text/plain": [
       "Text(0.5, 0, 'Dose')"
      ]
     },
     "execution_count": 24,
     "metadata": {},
     "output_type": "execute_result"
    },
    {
     "data": {
      "image/png": "[encoded data removed]",
      "text/plain": [
       "<Figure size 640x480 with 1 Axes>"
      ]
     },
     "metadata": {},
     "output_type": "display_data"
    }
   ],
   "source": [
    "## create the neural network. \n",
    "model = BasicNN() \n",
    "\n",
    "## now run the different doses through the neural network.\n",
    "output_values = model(input_doses)\n",
    "\n",
    "## Now draw a graph that shows the effectiveness for each dose.\n",
    "##\n",
    "## First, set the style for seaborn so that the graph looks cool.\n",
    "sns.set(style=\"whitegrid\")\n",
    "\n",
    "## create the graph (you might not see it at this point, but you will after we save it as a PDF).\n",
    "sns.lineplot(x=input_doses, \n",
    "             y=output_values, \n",
    "             color='green', \n",
    "             linewidth=2.5)\n",
    "\n",
    "## now label the y- and x-axes.\n",
    "plt.ylabel('Effectiveness')\n",
    "plt.xlabel('Dose')\n",
    "\n",
    "## optionally, save the graph as a PDF.\n",
    "# plt.savefig('BasicNN.pdf')"
   ]
  },
  {
   "cell_type": "markdown",
   "id": "b42848d9-55cf-427e-8f31-a86bd8d3aa77",
   "metadata": {},
   "source": [
    "# Neural Network with Multiple Layers"
   ]
  },
  {
   "cell_type": "code",
   "execution_count": 34,
   "id": "3b819b04-8d45-41b1-9467-294c2e37a29a",
   "metadata": {},
   "outputs": [],
   "source": [
    "# Create network with three linear layers using Sequential container\n",
    "model = nn.Sequential(\n",
    "    nn.Linear(10, 18),\n",
    "    nn.Linear (18, 20), # takes the 18 from the first layer\n",
    "    nn.Linear (20, 5) # takes 20 from the second layer\n",
    ")"
   ]
  },
  {
   "cell_type": "code",
   "execution_count": 37,
   "id": "fb9c5641-0e58-4ee2-b1bc-ce6d2396d658",
   "metadata": {},
   "outputs": [],
   "source": [
    "input_tensor = torch.tensor([[-0.0014,  0.4038,  1.0305,  0.7521, 0.7489, -0.3968,  0.0113, -1.3844, 0.8705, -0.9743]])"
   ]
  },
  {
   "cell_type": "code",
   "execution_count": 43,
   "id": "79593470-a73a-43c9-9c94-eb06495e8cb2",
   "metadata": {},
   "outputs": [
    {
     "data": {
      "text/plain": [
       "tensor([[-0.0014,  0.4038,  1.0305,  0.7521,  0.7489, -0.3968,  0.0113, -1.3844,\n",
       "          0.8705, -0.9743]])"
      ]
     },
     "execution_count": 43,
     "metadata": {},
     "output_type": "execute_result"
    }
   ],
   "source": [
    "input_tensor"
   ]
  },
  {
   "cell_type": "code",
   "execution_count": 44,
   "id": "5ac65b7a-41f0-4f1b-92b0-53335217611a",
   "metadata": {},
   "outputs": [],
   "source": [
    "# Pass input_tensor to model to obtain output\n",
    "output_tensor = model(input_tensor)"
   ]
  },
  {
   "cell_type": "code",
   "execution_count": 45,
   "id": "48851606-867b-4689-af91-a7387fef52fa",
   "metadata": {},
   "outputs": [
    {
     "data": {
      "text/plain": [
       "tensor([[ 0.1910, -0.2748, -0.1261,  0.1329,  0.1232]],\n",
       "       grad_fn=<AddmmBackward0>)"
      ]
     },
     "execution_count": 45,
     "metadata": {},
     "output_type": "execute_result"
    }
   ],
   "source": [
    "# Output is still not yet meaningful as the weights and biases are not tuned\n",
    "output_tensor"
   ]
  },
  {
   "cell_type": "code",
   "execution_count": 25,
   "id": "a1d4815c-673f-44de-b9aa-24abe1fda3ee",
   "metadata": {},
   "outputs": [],
   "source": [
    "# Now optimizing with backpropagation \n",
    "## create a neural network by creating a class that inherits from nn.Module.\n",
    "## NOTE: This code is the same as before, except we changed the class name to BasicNN_train and we modified \n",
    "##       final_bias in two ways:\n",
    "##       1) we set the value of the tensor to 0, and\n",
    "##       2) we set \"requires_grad=True\".\n",
    "class BasicNN_train(nn.Module):\n",
    "\n",
    "    def __init__(self): # __init__ is the class constructor function, and we use it to initialize the weights and biases.\n",
    "        \n",
    "        super().__init__() # initialize an instance of the parent class, nn.Module.\n",
    "        \n",
    "        self.w00 = nn.Parameter(torch.tensor(1.7), requires_grad=False)\n",
    "        self.b00 = nn.Parameter(torch.tensor(-0.85), requires_grad=False)\n",
    "        self.w01 = nn.Parameter(torch.tensor(-40.8), requires_grad=False)\n",
    "        \n",
    "        self.w10 = nn.Parameter(torch.tensor(12.6), requires_grad=False)\n",
    "        self.b10 = nn.Parameter(torch.tensor(0.0), requires_grad=False)\n",
    "        self.w11 = nn.Parameter(torch.tensor(2.7), requires_grad=False)\n",
    "\n",
    "        ## we want to modify final_bias to demonstrate how to optimize it with backpropagation.\n",
    "        ## The optimal value for final_bias is -16...\n",
    "#         self.final_bias = nn.Parameter(torch.tensor(-16.), requires_grad=False)\n",
    "        ## ...so we set it to 0 and tell Pytorch that it now needs to calculate the gradient for this parameter.\n",
    "        self.final_bias = nn.Parameter(torch.tensor(0.), requires_grad=True) \n",
    "        \n",
    "    def forward(self, input):\n",
    "        \n",
    "        input_to_top_relu = input * self.w00 + self.b00\n",
    "        top_relu_output = F.relu(input_to_top_relu)\n",
    "        scaled_top_relu_output = top_relu_output * self.w01\n",
    "        \n",
    "        input_to_bottom_relu = input * self.w10 + self.b10\n",
    "        bottom_relu_output = F.relu(input_to_bottom_relu)\n",
    "        scaled_bottom_relu_output = bottom_relu_output * self.w11\n",
    "    \n",
    "        input_to_final_relu = scaled_top_relu_output + scaled_bottom_relu_output + self.final_bias\n",
    "        \n",
    "        output = F.relu(input_to_final_relu)\n",
    "        \n",
    "        return output"
   ]
  },
  {
   "cell_type": "markdown",
   "id": "ddcc41cc-6858-46c8-95be-55736d3fe581",
   "metadata": {},
   "source": [
    "Requires gradient set to True tells PyTorch that we need to optimize this specific parameter "
   ]
  },
  {
   "cell_type": "code",
   "execution_count": 26,
   "id": "5dfb36ed-3258-4a48-922d-f34fbbd58095",
   "metadata": {},
   "outputs": [
    {
     "data": {
      "text/plain": [
       "Text(0.5, 0, 'Dose')"
      ]
     },
     "execution_count": 26,
     "metadata": {},
     "output_type": "execute_result"
    },
    {
     "data": {
      "image/png": "[encoded data removed]",
      "text/plain": [
       "<Figure size 640x480 with 1 Axes>"
      ]
     },
     "metadata": {},
     "output_type": "display_data"
    }
   ],
   "source": [
    "## create the neural network. \n",
    "model = BasicNN_train() \n",
    "\n",
    "## now run the different doses through the neural network.\n",
    "output_values = model(input_doses)\n",
    "\n",
    "## Now draw a graph that shows the effectiveness for each dose.\n",
    "##\n",
    "## set the style for seaborn so that the graph looks cool.\n",
    "sns.set(style=\"whitegrid\")\n",
    "\n",
    "## create the graph (you might not see it at this point, but you will after we save it as a PDF).\n",
    "sns.lineplot(x=input_doses, \n",
    "             y=output_values.detach(), ## NOTE: because final_bias has a gradident, we call detach() \n",
    "                                       ## to return a new tensor that only has the value and not the gradient.\n",
    "             color='green', \n",
    "             linewidth=2.5)\n",
    "\n",
    "## now label the y- and x-axes.\n",
    "plt.ylabel('Effectiveness')\n",
    "plt.xlabel('Dose')\n",
    "\n",
    "## lastly, save the graph as a PDF.\n",
    "# plt.savefig('BasicNN_train.pdf')"
   ]
  },
  {
   "cell_type": "code",
   "execution_count": 27,
   "id": "8115120c-a52d-4158-a3ec-7e6a16d102ea",
   "metadata": {},
   "outputs": [],
   "source": [
    "## create the training data for the neural network.\n",
    "inputs = torch.tensor([0., 0.5, 1.]) # x \n",
    "labels = torch.tensor([0., 1., 0.]) # observed values or y "
   ]
  },
  {
   "cell_type": "code",
   "execution_count": 28,
   "id": "47752eca-d102-4809-a728-261c2d6e91a6",
   "metadata": {},
   "outputs": [
    {
     "name": "stdout",
     "output_type": "stream",
     "text": [
      "Final bias, before optimization: tensor(0.)\n",
      "\n"
     ]
    }
   ],
   "source": [
    "## create the neural network we want to train.\n",
    "model = BasicNN_train()\n",
    "\n",
    "optimizer = SGD(model.parameters(), lr=0.1) ## here we're creating an optimizer to train the neural network.\n",
    "                                            ## NOTE: There are a bunch of different ways to optimize a neural network.\n",
    "                                            ## In this example, we'll use Stochastic Gradient Descent (SGD). However,\n",
    "                                            ## another popular algortihm is Adam (which will be covered in a StatQuest).\n",
    "\n",
    "print(\"Final bias, before optimization: \" + str(model.final_bias.data) + \"\\n\")"
   ]
  },
  {
   "cell_type": "code",
   "execution_count": 29,
   "id": "291087d3-6a3c-49ab-a97f-703fbdfea582",
   "metadata": {},
   "outputs": [
    {
     "name": "stdout",
     "output_type": "stream",
     "text": [
      "Step: 0 Final Bias: tensor(-3.2020)\n",
      "\n",
      "Step: 1 Final Bias: tensor(-5.7636)\n",
      "\n",
      "Step: 2 Final Bias: tensor(-7.8129)\n",
      "\n",
      "Step: 3 Final Bias: tensor(-9.4523)\n",
      "\n",
      "Step: 4 Final Bias: tensor(-10.7638)\n",
      "\n",
      "Step: 5 Final Bias: tensor(-11.8131)\n",
      "\n",
      "Step: 6 Final Bias: tensor(-12.6525)\n",
      "\n",
      "Step: 7 Final Bias: tensor(-13.3240)\n",
      "\n",
      "Step: 8 Final Bias: tensor(-13.8612)\n",
      "\n",
      "Step: 9 Final Bias: tensor(-14.2909)\n",
      "\n",
      "Step: 10 Final Bias: tensor(-14.6348)\n",
      "\n",
      "Step: 11 Final Bias: tensor(-14.9098)\n",
      "\n",
      "Step: 12 Final Bias: tensor(-15.1298)\n",
      "\n",
      "Step: 13 Final Bias: tensor(-15.3059)\n",
      "\n",
      "Step: 14 Final Bias: tensor(-15.4467)\n",
      "\n",
      "Step: 15 Final Bias: tensor(-15.5594)\n",
      "\n",
      "Step: 16 Final Bias: tensor(-15.6495)\n",
      "\n",
      "Step: 17 Final Bias: tensor(-15.7216)\n",
      "\n",
      "Step: 18 Final Bias: tensor(-15.7793)\n",
      "\n",
      "Step: 19 Final Bias: tensor(-15.8254)\n",
      "\n",
      "Step: 20 Final Bias: tensor(-15.8623)\n",
      "\n",
      "Step: 21 Final Bias: tensor(-15.8919)\n",
      "\n",
      "Step: 22 Final Bias: tensor(-15.9155)\n",
      "\n",
      "Step: 23 Final Bias: tensor(-15.9344)\n",
      "\n",
      "Step: 24 Final Bias: tensor(-15.9495)\n",
      "\n",
      "Step: 25 Final Bias: tensor(-15.9616)\n",
      "\n",
      "Step: 26 Final Bias: tensor(-15.9713)\n",
      "\n",
      "Step: 27 Final Bias: tensor(-15.9790)\n",
      "\n",
      "Step: 28 Final Bias: tensor(-15.9852)\n",
      "\n",
      "Step: 29 Final Bias: tensor(-15.9902)\n",
      "\n",
      "Step: 30 Final Bias: tensor(-15.9941)\n",
      "\n",
      "Step: 31 Final Bias: tensor(-15.9973)\n",
      "\n",
      "Step: 32 Final Bias: tensor(-15.9999)\n",
      "\n",
      "Step: 33 Final Bias: tensor(-16.0019)\n",
      "\n",
      "Num steps: 34\n",
      "Total loss: 6.58966600894928e-05\n",
      "Final bias, after optimization: tensor(-16.0019)\n"
     ]
    }
   ],
   "source": [
    "## this is the optimization loop. Each time the optimizer sees all of the training data is called an \"epoch\".\n",
    "for epoch in range(100):\n",
    "        \n",
    "    ## we create and initialize total_loss for each epoch so that we can evaluate how well model fits the\n",
    "    ## training data. At first, when the model doesn't fit the training data very well, total_loss\n",
    "    ## will be large. However, as gradient descent improves the fit, total_loss will get smaller and smaller.\n",
    "    ## If total_loss gets really small, we can decide that the model fits the data well enough and stop\n",
    "    ## optimizing the fit. Otherwise, we can just keep optimizing until we reach the maximum number of epochs. \n",
    "    total_loss = 0\n",
    "    \n",
    "    ## this internal loop is where the optimizer sees all of the training data and where we \n",
    "    ## calculate the total_loss for all of the training data.\n",
    "    for iteration in range(len(inputs)):\n",
    "        \n",
    "        input_i = inputs[iteration] ## extract a single input value (a single dose)...\n",
    "        label_i = labels[iteration] ## ...and its corresponding label (the effectiveness for the dose).\n",
    "        \n",
    "        output_i = model(input_i) ## calculate the neural network output for the input (the single dose).\n",
    "        \n",
    "        loss = (output_i - label_i)**2 ## calculate the loss for the single value.\n",
    "                                       ## NOTE: Because output_i = model(input_i), \"loss\" has a connection to \"model\"\n",
    "                                       ## and the derivative (calculated in the next step) is kept and accumulated\n",
    "                                       ## in \"model\".\n",
    "        \n",
    "        loss.backward() # backward() calculates the derivative for that single value and adds it to the previous one.\n",
    "        \n",
    "        total_loss += float(loss) # accumulate the total loss for this epoch.\n",
    "        \n",
    "        \n",
    "    if (total_loss < 0.0001):\n",
    "        print(\"Num steps: \" + str(epoch))\n",
    "        break\n",
    "      \n",
    "    optimizer.step() ## take a step toward the optimal value.\n",
    "    optimizer.zero_grad() ## This zeroes out the gradient stored in \"model\". \n",
    "                          ## Remember, by default, gradients are added to the previous step (the gradients are accumulated),\n",
    "                          ## and we took advantage of this process to calculate the derivative one data point at a time.\n",
    "                          ## NOTE: \"optimizer\" has access to \"model\" because of how it was created with the call \n",
    "                          ## (made earlier): optimizer = SGD(model.parameters(), lr=0.1).\n",
    "                          ## ALSO NOTE: Alternatively, we can zero out the gradient with model.zero_grad().\n",
    "    \n",
    "    print(\"Step: \" + str(epoch) + \" Final Bias: \" + str(model.final_bias.data) + \"\\n\")\n",
    "    ## now go back to the start of the loop and go through another epoch.\n",
    "\n",
    "print(\"Total loss: \" + str(total_loss))\n",
    "print(\"Final bias, after optimization: \" + str(model.final_bias.data))"
   ]
  },
  {
   "cell_type": "markdown",
   "id": "3f9e55a3-127f-47d6-af93-4daa33cc4717",
   "metadata": {},
   "source": [
    "`loss.backward()` accumulates the derivatives each time we go through the nested loop "
   ]
  },
  {
   "cell_type": "code",
   "execution_count": 30,
   "id": "03ffa0df-bbb0-4df8-842d-84d827280c0c",
   "metadata": {},
   "outputs": [
    {
     "data": {
      "text/plain": [
       "Text(0.5, 0, 'Dose')"
      ]
     },
     "execution_count": 30,
     "metadata": {},
     "output_type": "execute_result"
    },
    {
     "data": {
      "image/png": "[encoded data removed]",
      "text/plain": [
       "<Figure size 640x480 with 1 Axes>"
      ]
     },
     "metadata": {},
     "output_type": "display_data"
    }
   ],
   "source": [
    "## run the different doses through the neural network\n",
    "output_values = model(input_doses)\n",
    "\n",
    "## set the style for seaborn so that the graph looks cool.\n",
    "sns.set(style=\"whitegrid\")\n",
    "\n",
    "## create the graph (you might not see it at this point, but you will after we save it as a PDF).\n",
    "sns.lineplot(x=input_doses, \n",
    "             y=output_values.detach(), ## NOTE: we call detach() because final_bias has a gradient\n",
    "             color='green', \n",
    "             linewidth=2.5)\n",
    "\n",
    "## now label the y- and x-axes.\n",
    "plt.ylabel('Effectiveness')\n",
    "plt.xlabel('Dose')\n",
    "\n",
    "## lastly, save the graph as a PDF.\n",
    "# plt.savefig('BascNN_optimized.pdf')"
   ]
  },
  {
   "cell_type": "code",
   "execution_count": null,
   "id": "39247994-9619-490d-b8b9-8a2908564251",
   "metadata": {},
   "outputs": [],
   "source": []
  },
  {
   "cell_type": "code",
   "execution_count": null,
   "id": "0c900603-6965-4cb4-8d60-eac38441f5ed",
   "metadata": {},
   "outputs": [],
   "source": []
  },
  {
   "cell_type": "code",
   "execution_count": null,
   "id": "12cdabef-bf4c-4418-9bf5-71bcdac1645a",
   "metadata": {},
   "outputs": [],
   "source": []
  },
  {
   "cell_type": "code",
   "execution_count": null,
   "id": "f7ecf53c-1839-46dc-a91a-5f1d8784fe1a",
   "metadata": {},
   "outputs": [],
   "source": []
  },
  {
   "cell_type": "markdown",
   "id": "783f4431-84d9-4c9d-9dd5-96b904efca99",
   "metadata": {},
   "source": [
    "-------"
   ]
  },
  {
   "cell_type": "markdown",
   "id": "6eb83358-6274-4f88-875b-661966c00697",
   "metadata": {},
   "source": [
    "# Discovering activation functions"
   ]
  },
  {
   "cell_type": "markdown",
   "id": "cf5b034c-773b-483a-bf90-cee05c0032e4",
   "metadata": {},
   "source": [
    "**Stacked linear operations**:\n",
    "* Each linear layer multiplies its respective input with layer weights and adds biases\n",
    "* Even with multiple stacked linear layers, output still has linear relationship with input"
   ]
  },
  {
   "cell_type": "markdown",
   "id": "06beae15-1a36-43b5-962b-55f70a38e1ad",
   "metadata": {},
   "source": [
    "**Activation functions**\n",
    "* Add non-linearity to the network\n",
    "* A model can learn more complex relationships with non-linearity\n",
    "* The output will no longer be a linear function of the input"
   ]
  },
  {
   "cell_type": "markdown",
   "id": "8ef1ce5a-eb24-4d85-93f7-952303d618ef",
   "metadata": {},
   "source": [
    "**e** is approximately equal to 2.71828 and is the base of natural logarithms."
   ]
  },
  {
   "cell_type": "markdown",
   "id": "baf87f53-9988-440e-899d-2f06ccb23509",
   "metadata": {},
   "source": [
    "Examples: \n",
    "* Sigmoid - e^x/(e^x+1)\n",
    "* tanh\n",
    "* ReLU - max(x, 0)\n",
    "* Leaky ReLU\n",
    "* Maxout\n",
    "* Softmax\n",
    "* ELU\n",
    "* Softplus - log(1+e^x)"
   ]
  },
  {
   "cell_type": "markdown",
   "id": "38367918-3ca3-4b0f-babd-7168ad759aa5",
   "metadata": {},
   "source": [
    "The **Softplus** activation function is a smooth approximation to the ReLU (Rectified Linear Unit) function."
   ]
  },
  {
   "cell_type": "code",
   "execution_count": 15,
   "id": "499214a0-f12b-45cd-9428-09650cbc7d87",
   "metadata": {},
   "outputs": [
    {
     "name": "stdout",
     "output_type": "stream",
     "text": [
      "tensor([0.0635, 0.3466, 1.0635, 2.0091])\n"
     ]
    }
   ],
   "source": [
    "import torch\n",
    "import torch.nn.functional as F\n",
    "\n",
    "# Define custom parameters\n",
    "beta = 2   # Scale factor -> Larger beta makes curve steeper\n",
    "threshold = 15  # Threshold for stability -> Prevents exponential overflow\n",
    "\n",
    "# Applying Softplus with custom parameters\n",
    "y = F.softplus(x, beta=beta, threshold=threshold)\n",
    "print(y)"
   ]
  },
  {
   "cell_type": "code",
   "execution_count": 14,
   "id": "39782966-c9f6-4b0c-afac-d096687a4461",
   "metadata": {},
   "outputs": [
    {
     "name": "stdout",
     "output_type": "stream",
     "text": [
      "tensor([0.3133, 0.6931, 1.3133, 2.1269])\n"
     ]
    }
   ],
   "source": [
    "import torch\n",
    "import torch.nn as nn\n",
    "\n",
    "# Define a model or layer with Softplus\n",
    "class MyModel(nn.Module):\n",
    "    def __init__(self):\n",
    "        super(MyModel, self).__init__()\n",
    "        self.softplus = nn.Softplus()\n",
    "\n",
    "    def forward(self, x):\n",
    "        return self.softplus(x)\n",
    "\n",
    "# Example tensor\n",
    "x = torch.tensor([-1.0, 0.0, 1.0, 2.0])\n",
    "\n",
    "# Apply the model or layer\n",
    "model = MyModel()\n",
    "y = model(x)\n",
    "print(y)"
   ]
  },
  {
   "cell_type": "markdown",
   "id": "4f6774ec-902a-4738-915d-39a8f40b903c",
   "metadata": {},
   "source": [
    "The output of the last linear layer is the **pre-activation output**, which would be pass to activation functions to obtain **transformed output**."
   ]
  },
  {
   "cell_type": "markdown",
   "id": "f7d22977-2123-4c86-a14f-4f0b73c041af",
   "metadata": {},
   "source": [
    "**Sigmoid function**:\n",
    "* used in binary classification\n",
    "* the output of the sigmoid is passed through the common threshold (0.5) to classify as 0 or 1"
   ]
  },
  {
   "cell_type": "code",
   "execution_count": 53,
   "id": "e5f04b81-789e-48d0-a018-29887267c11e",
   "metadata": {},
   "outputs": [],
   "source": [
    "input_tensor = torch.tensor([[-0.0014,  0.4038,  1.0305,  0.7521, 0.7489, -0.3968]])"
   ]
  },
  {
   "cell_type": "code",
   "execution_count": 55,
   "id": "1c316e19-1de7-45a7-87db-f77e181893bd",
   "metadata": {},
   "outputs": [],
   "source": [
    "# Instantiate the activation function\n",
    "sigmoid = nn.Sigmoid()"
   ]
  },
  {
   "cell_type": "code",
   "execution_count": 56,
   "id": "2e4df8dd-11a6-4946-9fda-651bef798600",
   "metadata": {},
   "outputs": [],
   "source": [
    "# Sigmoid as last step in network of linear layers is equivalent to traditional logistic regression.\n",
    "model = nn.Sequential(\n",
    "    nn.Linear(6, 4), # First linear layer \n",
    "    nn.Linear(4, 1), # Second linear layer \n",
    "    nn.Sigmoid() # Sigmoid activation function\n",
    ")"
   ]
  },
  {
   "cell_type": "code",
   "execution_count": 57,
   "id": "12033ab6-0d9d-475e-8596-c2183cd35e49",
   "metadata": {},
   "outputs": [],
   "source": [
    "output = model(input_tensor)"
   ]
  },
  {
   "cell_type": "code",
   "execution_count": 58,
   "id": "187ff5b4-b6ab-4857-9868-42c80ce49353",
   "metadata": {},
   "outputs": [
    {
     "data": {
      "text/plain": [
       "tensor([[0.4378]], grad_fn=<SigmoidBackward0>)"
      ]
     },
     "execution_count": 58,
     "metadata": {},
     "output_type": "execute_result"
    }
   ],
   "source": [
    "output"
   ]
  },
  {
   "cell_type": "markdown",
   "id": "cee604c5-f254-4cac-8fbc-3fcc36a6c139",
   "metadata": {},
   "source": [
    "**Softmax**: \n",
    "* used for multi-class classification problems\n",
    "* outputs N elements equal to softmax N elements\n",
    "* outputs a probability distribution\n",
    "    * each element is a probability (it's bounded between 0 and 1)\n",
    "    * the prediction is the class with the highest probability\n",
    "    * the sum of the output vector is equal to 1"
   ]
  },
  {
   "cell_type": "code",
   "execution_count": 59,
   "id": "87d4bb78-3eb0-4ab3-878c-cc2a0ef5fc5a",
   "metadata": {},
   "outputs": [],
   "source": [
    "# Create an input tensor\n",
    "input_tensor = torch.tensor(\n",
    "    [[4.3, 6.1, 2.3]])"
   ]
  },
  {
   "cell_type": "code",
   "execution_count": 60,
   "id": "0fc589c3-ead2-4f3e-861f-ea599ff559c6",
   "metadata": {},
   "outputs": [],
   "source": [
    "# Apply softmax along the last dimension\n",
    "probabilities = nn.Softmax(dim=-1)\n",
    "output_tensor = probabilities(input_tensor)"
   ]
  },
  {
   "cell_type": "code",
   "execution_count": 65,
   "id": "091d387b-8b69-46f0-90a9-72fc023502fc",
   "metadata": {},
   "outputs": [
    {
     "data": {
      "text/plain": [
       "tensor([[0.1392, 0.8420, 0.0188]])"
      ]
     },
     "execution_count": 65,
     "metadata": {},
     "output_type": "execute_result"
    }
   ],
   "source": [
    "output_tensor"
   ]
  },
  {
   "cell_type": "code",
   "execution_count": 64,
   "id": "93aef83d-7bc0-4aac-9102-7b7db914de43",
   "metadata": {},
   "outputs": [
    {
     "data": {
      "text/plain": [
       "tensor(1.)"
      ]
     },
     "execution_count": 64,
     "metadata": {},
     "output_type": "execute_result"
    }
   ],
   "source": [
    "# All the probabilities are summed to 1\n",
    "output_tensor.sum()"
   ]
  },
  {
   "cell_type": "markdown",
   "id": "480e6379-fbbc-47e3-afe3-cf85d10e2026",
   "metadata": {},
   "source": [
    "Similar to sigmoid, softmax can be the last layer in nn.Sequential container:"
   ]
  },
  {
   "cell_type": "code",
   "execution_count": 71,
   "id": "4ed2c490-b7d2-43ba-a6bc-ecee1a05b83e",
   "metadata": {},
   "outputs": [],
   "source": [
    "input_tensor = torch.Tensor([[3, 4, 6, 7, 10, 12, 2, 3, 6, 8, 9]])"
   ]
  },
  {
   "cell_type": "code",
   "execution_count": 72,
   "id": "c6152ce1-4f1d-4247-93f7-1d43e55df2ab",
   "metadata": {},
   "outputs": [],
   "source": [
    "# Update network below to perform a multi-class classification with four labels\n",
    "model = nn.Sequential(\n",
    "  nn.Linear(11, 20),\n",
    "  nn.Linear(20, 12),\n",
    "  nn.Linear(12, 6),\n",
    "  nn.Linear(6, 4), \n",
    "  nn.Softmax(dim=-1)\n",
    ")"
   ]
  },
  {
   "cell_type": "code",
   "execution_count": 73,
   "id": "7a54dc45-9db8-4f52-8022-1d8984165c35",
   "metadata": {},
   "outputs": [],
   "source": [
    "output = model(input_tensor)"
   ]
  },
  {
   "cell_type": "code",
   "execution_count": 74,
   "id": "1f724d0b-ec08-481d-836d-e2a06a0b2273",
   "metadata": {},
   "outputs": [
    {
     "data": {
      "text/plain": [
       "tensor([[0.3869, 0.1211, 0.3253, 0.1667]], grad_fn=<SoftmaxBackward0>)"
      ]
     },
     "execution_count": 74,
     "metadata": {},
     "output_type": "execute_result"
    }
   ],
   "source": [
    "output"
   ]
  },
  {
   "cell_type": "code",
   "execution_count": 75,
   "id": "0c810dc6-d99f-42ad-8617-b732f4f96148",
   "metadata": {},
   "outputs": [
    {
     "data": {
      "text/plain": [
       "tensor(1.0000, grad_fn=<SumBackward0>)"
      ]
     },
     "execution_count": 75,
     "metadata": {},
     "output_type": "execute_result"
    }
   ],
   "source": [
    "output.sum()"
   ]
  },
  {
   "cell_type": "markdown",
   "id": "88d0fd37-8cd9-4e0d-a2d9-3af728507226",
   "metadata": {},
   "source": [
    "--------"
   ]
  },
  {
   "cell_type": "markdown",
   "id": "d65604b4-12d3-465f-a113-08b2266553aa",
   "metadata": {},
   "source": [
    "# Forward pass"
   ]
  },
  {
   "cell_type": "markdown",
   "id": "71fdc43f-907b-4f92-bef3-866a1b83ed11",
   "metadata": {},
   "source": [
    "Neural networks are **computational graphs**"
   ]
  },
  {
   "cell_type": "markdown",
   "id": "16a98441-d74b-4ffa-bce6-a141bea27c38",
   "metadata": {},
   "source": [
    "* Input data is **passed forward** or **propagated** through a network \n",
    "* Computations performed at each layer\n",
    "* Outputs of each layer passed to each subsequent layer\n",
    "* Output of final layer -> **prediction** \n",
    "* Used for both training and prediction"
   ]
  },
  {
   "cell_type": "markdown",
   "id": "f0b9cb14-f2ba-41dc-91d1-ee088ce7816f",
   "metadata": {},
   "source": [
    "Possible outcomes: \n",
    "* binary classification\n",
    "* multiclass classification\n",
    "* regression"
   ]
  },
  {
   "cell_type": "markdown",
   "id": "6f08bd21-c74f-4179-a704-7f2db0a84622",
   "metadata": {},
   "source": [
    "**Backward pass** or **backpropagation** is used to update weights and biasses during training:   \n",
    "The derivatives are calculated in PyTorch using the reverse mode of audto-differentiation\n",
    "1. Propagate data forward\n",
    "2. Compare outputs to true values\n",
    "3. Backpropagate to update model weights and biases\n",
    "4. Repeat until weights and biases are tuned to produce useful output "
   ]
  },
  {
   "cell_type": "code",
   "execution_count": 297,
   "id": "5bc7258f-ce09-401d-ae75-c1e305f67713",
   "metadata": {},
   "outputs": [
    {
     "name": "stdout",
     "output_type": "stream",
     "text": [
      "Gradient of x is: tensor(5.)\n",
      "Gradient of y is: tensor(5.)\n",
      "Gradient of z is: tensor(1.)\n"
     ]
    }
   ],
   "source": [
    "# Initialize x, y and z to values 4, -3 and 5\n",
    "x = torch.tensor(4., requires_grad=True)\n",
    "y = torch.tensor(-3., requires_grad=True)\n",
    "z = torch.tensor(5., requires_grad=True)\n",
    "\n",
    "# Set q to sum of x and y, set f to product of q with z\n",
    "q = x + y\n",
    "f = q * z\n",
    "\n",
    "# Compute the derivatives\n",
    "f.backward()\n",
    "\n",
    "# Print the gradients\n",
    "print(\"Gradient of x is: \" + str(x.grad))\n",
    "print(\"Gradient of y is: \" + str(y.grad))\n",
    "print(\"Gradient of z is: \" + str(z.grad))"
   ]
  },
  {
   "cell_type": "code",
   "execution_count": 77,
   "id": "ba3a33ad-0d8e-489b-9e49-2d1c7d6e8032",
   "metadata": {},
   "outputs": [],
   "source": [
    "# Create input data of shape 5x6\n",
    "input_data = torch.tensor(\n",
    "         [[-0.4421,  1.5207,  2.0607, -0.3647,  0.4691,  0.0946],\n",
    "         [-0.9155, -0.0475, -1.3645,  0.6336, -1.9520, -0.3398],\n",
    "         [ 0.7406,  1.6763, -0.8511,  0.2432,  0.1123, -0.0633],\n",
    "         [-1.6630, -0.0718, -0.1285,  0.5396, -0.0288, -0.8622],\n",
    "         [-0.7413,  1.7920, -0.0883, -0.6685,  0.4745, -0.4245]])"
   ]
  },
  {
   "cell_type": "code",
   "execution_count": 80,
   "id": "36cdaf49-352e-4d64-b08b-9b895743dc44",
   "metadata": {},
   "outputs": [],
   "source": [
    "# Create binary classification model\n",
    "model = nn.Sequential(\n",
    "   nn.Linear(6, 4), # First linear layer\n",
    "   nn.Linear(4, 1), # Second linear layer\n",
    "   nn.Sigmoid() # Sigmoid activation function\n",
    ")"
   ]
  },
  {
   "cell_type": "code",
   "execution_count": 81,
   "id": "faa389e3-19a5-48d9-aa76-600b1e69d240",
   "metadata": {},
   "outputs": [],
   "source": [
    "# Pass input data through model\n",
    "output = model(input_data)"
   ]
  },
  {
   "cell_type": "code",
   "execution_count": 82,
   "id": "fdf5a734-ae72-4072-a123-41715f4deeed",
   "metadata": {},
   "outputs": [
    {
     "data": {
      "text/plain": [
       "tensor([[0.6231],\n",
       "        [0.3340],\n",
       "        [0.3838],\n",
       "        [0.5316],\n",
       "        [0.4841]], grad_fn=<SigmoidBackward0>)"
      ]
     },
     "execution_count": 82,
     "metadata": {},
     "output_type": "execute_result"
    }
   ],
   "source": [
    "# 5x1 -> everything that is over 0.5 to be Class 1 and the rest Class 0\n",
    "output # The output is worthless without the backpropagation to update the weights and biases"
   ]
  },
  {
   "cell_type": "code",
   "execution_count": 83,
   "id": "1a7c0c6b-60df-48b2-af7f-b46a2f7a14fa",
   "metadata": {},
   "outputs": [],
   "source": [
    "# Specify model has three classes\n",
    "n_classes = 3"
   ]
  },
  {
   "cell_type": "code",
   "execution_count": 84,
   "id": "06f4554e-d52f-49f2-a6c8-4889f0735598",
   "metadata": {},
   "outputs": [],
   "source": [
    "# Create multiclass classification model\n",
    "model = nn.Sequential(\n",
    "   nn.Linear(6, 4), # First linear layer\n",
    "   nn.Linear(4, n_classes), # Second linear layer\n",
    "   nn.Softmax(dim=-1) # Softmax activation\n",
    ")"
   ]
  },
  {
   "cell_type": "code",
   "execution_count": 85,
   "id": "2b51372a-59b2-43ab-85af-2a5d40ffb5f1",
   "metadata": {},
   "outputs": [],
   "source": [
    "# Pass input data through model\n",
    "output = model(input_data)"
   ]
  },
  {
   "cell_type": "code",
   "execution_count": 86,
   "id": "8de95fc6-1680-4a0e-bcec-6534c4d8461f",
   "metadata": {},
   "outputs": [
    {
     "data": {
      "text/plain": [
       "tensor([[0.4052, 0.2676, 0.3272],\n",
       "        [0.1850, 0.3362, 0.4788],\n",
       "        [0.2383, 0.3374, 0.4244],\n",
       "        [0.3149, 0.2976, 0.3875],\n",
       "        [0.3193, 0.2929, 0.3878]], grad_fn=<SoftmaxBackward0>)"
      ]
     },
     "execution_count": 86,
     "metadata": {},
     "output_type": "execute_result"
    }
   ],
   "source": [
    "# Each row sums to one\n",
    "output"
   ]
  },
  {
   "cell_type": "code",
   "execution_count": 87,
   "id": "def5c7a0-6cca-42ef-a498-0123dea93ca8",
   "metadata": {},
   "outputs": [
    {
     "data": {
      "text/plain": [
       "torch.Size([5, 3])"
      ]
     },
     "execution_count": 87,
     "metadata": {},
     "output_type": "execute_result"
    }
   ],
   "source": [
    "# Value with highest probability is assigned predicted label in each row\n",
    "output.shape"
   ]
  },
  {
   "cell_type": "code",
   "execution_count": 89,
   "id": "ce9b4617-36cb-41a4-89b1-60301d1e6c80",
   "metadata": {},
   "outputs": [],
   "source": [
    "# Create regression model\n",
    "model = nn.Sequential(\n",
    "   nn.Linear(6, 4), # First linear layer\n",
    "   nn.Linear(4, 1) # Second linear layer\n",
    ") # No activation function"
   ]
  },
  {
   "cell_type": "code",
   "execution_count": 90,
   "id": "c080af42-4b6c-4a36-a4dc-6945b2739420",
   "metadata": {},
   "outputs": [],
   "source": [
    "# Pass input data through model\n",
    "output = model(input_data)"
   ]
  },
  {
   "cell_type": "code",
   "execution_count": 91,
   "id": "11bf659a-cfa3-4108-85e7-66ab1fe544de",
   "metadata": {},
   "outputs": [
    {
     "data": {
      "text/plain": [
       "tensor([[ 0.0101],\n",
       "        [ 0.5466],\n",
       "        [ 0.1231],\n",
       "        [ 0.2389],\n",
       "        [-0.0445]], grad_fn=<AddmmBackward0>)"
      ]
     },
     "execution_count": 91,
     "metadata": {},
     "output_type": "execute_result"
    }
   ],
   "source": [
    "# The exact value prediction\n",
    "output"
   ]
  },
  {
   "cell_type": "markdown",
   "id": "d462d049-eedf-4d19-b0a0-9412e221a55b",
   "metadata": {},
   "source": [
    "--------"
   ]
  },
  {
   "cell_type": "markdown",
   "id": "9cef5c3e-a830-4dc7-9b93-36d6932ae128",
   "metadata": {},
   "source": [
    "# Loss function"
   ]
  },
  {
   "cell_type": "markdown",
   "id": "723af3f6-56d1-47de-bfa9-5a11dfb876df",
   "metadata": {},
   "source": [
    "* Gives feedback to model during training\n",
    "* Takes in model prediction $\\hat{y}$ and ground truth $y$\n",
    "* Outputs a float:\n",
    "    * Correct prediction -> low loss\n",
    "    * Incorrect prediction -> high loss "
   ]
  },
  {
   "cell_type": "markdown",
   "id": "a04e7a11-70b7-4246-8a8d-28d4fe0605f7",
   "metadata": {},
   "source": [
    "For regression -> **least squared loss**  \n",
    "For classification -> **soft-max cross-entropy loss**  \n",
    "More complicated problems (object detection) are using more complicated loss "
   ]
  },
  {
   "cell_type": "markdown",
   "id": "41eae271-4a65-4465-aa1d-0ac62900f94b",
   "metadata": {},
   "source": [
    "Loss functions are used rather than just accuracy because they are **differentiable**"
   ]
  },
  {
   "cell_type": "markdown",
   "id": "34a49101-59d0-4468-a5fe-9836d7bccc68",
   "metadata": {},
   "source": [
    "$$ loss = F(y, \\hat{y}) $$"
   ]
  },
  {
   "cell_type": "markdown",
   "id": "9aa3257e-746e-456e-805a-d8130ec8427f",
   "metadata": {},
   "source": [
    "* $y$ is a single integer (class label)\n",
    "* $\\hat{y}$ is a tensor (output of softmax)"
   ]
  },
  {
   "cell_type": "markdown",
   "id": "8aad29a6-4738-46e5-b7e5-37d417e5da89",
   "metadata": {},
   "source": [
    "To compare an integer with a tensor of order one, use **one-hot encoding**:\n",
    "* create a binary vector where the ground truth gets *True* while the rest of the values are *False*"
   ]
  },
  {
   "cell_type": "code",
   "execution_count": 94,
   "id": "13dade38-3fdf-4489-9dc6-652fc6a1eb28",
   "metadata": {},
   "outputs": [],
   "source": [
    "import torch.nn.functional as F"
   ]
  },
  {
   "cell_type": "code",
   "execution_count": 96,
   "id": "f16c4d32-93ec-4f1c-b2cd-06ca0d54a65b",
   "metadata": {},
   "outputs": [
    {
     "data": {
      "text/plain": [
       "tensor([1, 0, 0])"
      ]
     },
     "execution_count": 96,
     "metadata": {},
     "output_type": "execute_result"
    }
   ],
   "source": [
    "# Assuming the first class is the ground truth for the tensor \n",
    "F.one_hot(torch.tensor(0), num_classes = 3)"
   ]
  },
  {
   "cell_type": "markdown",
   "id": "bd1228ad-ddcb-4ddd-9f3b-be0ab2d08122",
   "metadata": {},
   "source": [
    "**Cross entropy loss** in PyTorch is the most used loss function for the classification problems "
   ]
  },
  {
   "cell_type": "code",
   "execution_count": 404,
   "id": "a7fbac01-ba1f-470b-916f-51c2582bbe1f",
   "metadata": {},
   "outputs": [],
   "source": [
    "from torch.nn import CrossEntropyLoss"
   ]
  },
  {
   "cell_type": "code",
   "execution_count": 405,
   "id": "be54852d-71a5-4089-bf8c-a43ee5c671e6",
   "metadata": {},
   "outputs": [],
   "source": [
    "# Scores are model predictions before the final softmax function\n",
    "scores = torch.tensor([[-0.1211,  0.1059]])"
   ]
  },
  {
   "cell_type": "code",
   "execution_count": 406,
   "id": "b5995fd3-8303-4bf1-87dc-4335c3f4ef8e",
   "metadata": {},
   "outputs": [],
   "source": [
    "# One hot encoded ground truth label\n",
    "one_hot_target = torch.tensor([[1, 0]])"
   ]
  },
  {
   "cell_type": "code",
   "execution_count": 407,
   "id": "d4f4674f-2612-4c43-9d01-10abcd7ea716",
   "metadata": {},
   "outputs": [],
   "source": [
    "# Instantiate the loss function\n",
    "criterion = CrossEntropyLoss()"
   ]
  },
  {
   "cell_type": "code",
   "execution_count": 408,
   "id": "44be315e-aee9-4ed8-b4ee-ebfc3170a16d",
   "metadata": {},
   "outputs": [
    {
     "data": {
      "text/plain": [
       "tensor(0.8131, dtype=torch.float64)"
      ]
     },
     "execution_count": 408,
     "metadata": {},
     "output_type": "execute_result"
    }
   ],
   "source": [
    "# Produce the loss values \n",
    "criterion(scores.double(), one_hot_target.double())"
   ]
  },
  {
   "cell_type": "code",
   "execution_count": 409,
   "id": "21faa0a4-e052-4bbe-bdb6-4a9d663995f4",
   "metadata": {},
   "outputs": [],
   "source": [
    "y = [2]\n",
    "scores = torch.tensor([[0.1, 6.0, -2.0, 3.2]])"
   ]
  },
  {
   "cell_type": "code",
   "execution_count": 410,
   "id": "a09413a9-34d0-47c0-b4ac-3246ffde9f47",
   "metadata": {},
   "outputs": [],
   "source": [
    "# Create a one-hot encoded vector of the label y\n",
    "one_hot_label = F.one_hot(torch.tensor(y), num_classes = scores.shape[1])"
   ]
  },
  {
   "cell_type": "code",
   "execution_count": 411,
   "id": "185a4c3f-7104-4e20-8223-2c1c01174cf2",
   "metadata": {},
   "outputs": [
    {
     "data": {
      "text/plain": [
       "tensor([[0, 0, 1, 0]])"
      ]
     },
     "execution_count": 411,
     "metadata": {},
     "output_type": "execute_result"
    }
   ],
   "source": [
    "one_hot_label"
   ]
  },
  {
   "cell_type": "code",
   "execution_count": 412,
   "id": "244807e6-1901-402f-8d9a-755d7e1d4b37",
   "metadata": {},
   "outputs": [],
   "source": [
    "# Create the cross entropy loss function\n",
    "criterion = nn.CrossEntropyLoss()"
   ]
  },
  {
   "cell_type": "code",
   "execution_count": 413,
   "id": "e9e8b0aa-f907-4d90-a866-4b2e8de25c02",
   "metadata": {},
   "outputs": [],
   "source": [
    "# Calculate the cross entropy loss\n",
    "loss = criterion(scores.double(), one_hot_label.double())"
   ]
  },
  {
   "cell_type": "code",
   "execution_count": 414,
   "id": "932371ed-1761-4872-878f-01dafa9dcefc",
   "metadata": {},
   "outputs": [
    {
     "data": {
      "text/plain": [
       "tensor(8.0619, dtype=torch.float64)"
      ]
     },
     "execution_count": 414,
     "metadata": {},
     "output_type": "execute_result"
    }
   ],
   "source": [
    "loss"
   ]
  },
  {
   "cell_type": "markdown",
   "id": "1dd1f1cf-cb21-4f18-988b-cd7b7dfc9383",
   "metadata": {},
   "source": [
    "----"
   ]
  },
  {
   "cell_type": "markdown",
   "id": "eb966e63-fcf2-4f3e-b194-85d11fd39cb1",
   "metadata": {},
   "source": [
    "# Using Derivatives "
   ]
  },
  {
   "cell_type": "markdown",
   "id": "ea12b0d8-7084-4483-972b-08fa05e6fb32",
   "metadata": {},
   "source": [
    "**Gradient** is the term for derivatives used in deep learning. "
   ]
  },
  {
   "cell_type": "markdown",
   "id": "d0328bd5-0a7e-4832-899b-40b4cb3ac2a9",
   "metadata": {},
   "source": [
    "A gradient tells us how much the loss would change if we slightly modify a particular weight or bias."
   ]
  },
  {
   "cell_type": "markdown",
   "id": "0060f408-33ef-46b7-9df7-10434cf7a21c",
   "metadata": {},
   "source": [
    "The gradient points in the direction of the steepest increase of the loss function. Therefore, to minimize the loss, the model's parameters are updated in the opposite direction of the gradient. This is why the method is called **gradient descent**."
   ]
  },
  {
   "cell_type": "markdown",
   "id": "31163c74-bcb1-4724-a2f5-c7b1280e4a25",
   "metadata": {},
   "source": [
    "The magnitude of the gradient influences the size of the steps taken in the parameter space. A larger gradient might indicate a steep slope where significant improvements can be made, leading to larger steps. "
   ]
  },
  {
   "cell_type": "markdown",
   "id": "5df0d436-d119-4106-bae1-bc94552c2d85",
   "metadata": {},
   "source": [
    "Backpropagation is used to compute these gradients. "
   ]
  },
  {
   "cell_type": "markdown",
   "id": "de2fca16-2929-4cd3-ba32-34bb56a69961",
   "metadata": {},
   "source": [
    "Backpropagation concepts: \n",
    "* Calculate local gradients for L0, L1 and LN using backpropagation\n",
    "* Calculate loss gradients with respect to LN, then use LN gradients to calculate LN-1 gradients, and so on till reaching L0"
   ]
  },
  {
   "cell_type": "code",
   "execution_count": 120,
   "id": "c5bbfe3f-11d3-47d5-8a45-36e482d62d6c",
   "metadata": {},
   "outputs": [],
   "source": [
    "sample = torch.tensor([[1.0, 2.0, 3.0, 4.0, 5.0, 6.0, 7.0, 8.0, 9.0, 10.0, 11.0, 12.0, 13.0, 14.0, 15.0, 16.0]])"
   ]
  },
  {
   "cell_type": "code",
   "execution_count": 121,
   "id": "c2a8811f-006b-4591-9e16-9ce9463f2cef",
   "metadata": {},
   "outputs": [],
   "source": [
    "# Create the model and run a forward pass\n",
    "model = nn.Sequential(nn.Linear(16, 8),\n",
    "                   nn.Linear(8, 4),\n",
    "                   nn.Linear(4, 2))"
   ]
  },
  {
   "cell_type": "code",
   "execution_count": 122,
   "id": "6e0e4d71-0e6f-4758-8d1d-3bcab79d1e4f",
   "metadata": {},
   "outputs": [],
   "source": [
    "prediction = model(sample)"
   ]
  },
  {
   "cell_type": "code",
   "execution_count": 123,
   "id": "f396d44b-6b91-4b4f-b2c2-e0f8971162e3",
   "metadata": {},
   "outputs": [
    {
     "data": {
      "text/plain": [
       "tensor([[2.1613, 2.0922]], grad_fn=<AddmmBackward0>)"
      ]
     },
     "execution_count": 123,
     "metadata": {},
     "output_type": "execute_result"
    }
   ],
   "source": [
    "prediction"
   ]
  },
  {
   "cell_type": "code",
   "execution_count": 125,
   "id": "ee53fdd6-bbb0-48e9-8e98-bb91801686e0",
   "metadata": {},
   "outputs": [],
   "source": [
    "# Calculate the loss and compute the gradients\n",
    "criterion = CrossEntropyLoss()"
   ]
  },
  {
   "cell_type": "code",
   "execution_count": null,
   "id": "494dcd16-b422-4f47-af74-92f9aa3e848d",
   "metadata": {},
   "outputs": [],
   "source": [
    "loss = criterion(prediction, target)\n",
    "loss.backward()"
   ]
  },
  {
   "cell_type": "code",
   "execution_count": null,
   "id": "86fd8c93-9173-4696-abcd-dfd98d127313",
   "metadata": {},
   "outputs": [],
   "source": [
    "# Access each layer's gradients\n",
    "model[0].weight.grad, model[0].bias.grad\n",
    "model[1].weight.grad, model[1].bias.grad\n",
    "model[2].weight.grad, model[2].bias.grad"
   ]
  },
  {
   "cell_type": "code",
   "execution_count": 128,
   "id": "160df21d-9d0c-48bf-b3a1-22e6877d13d5",
   "metadata": {},
   "outputs": [],
   "source": [
    "# Manually update the weights by subtracting local gradients scaled by the learning rate\n",
    "# Learning rate is typically small\n",
    "lr = 0.001"
   ]
  },
  {
   "cell_type": "markdown",
   "id": "85adb49a-6cd3-41a5-a9a4-3d402a9b9775",
   "metadata": {},
   "source": [
    "-------"
   ]
  },
  {
   "cell_type": "markdown",
   "id": "8797d643-1c05-4954-a321-42826f359009",
   "metadata": {},
   "source": [
    "**Convex** function -> one local minimum == global minimum  \n",
    "**Non-convex** function -> multiple local minima"
   ]
  },
  {
   "cell_type": "markdown",
   "id": "b4c109c5-fb57-4f55-bc90-758a11f5300f",
   "metadata": {},
   "source": [
    "Loss functions used in deep learning are **NOT** convex  \n",
    "For non-convex functions, iterative process such as gradient descent is used  \n",
    "In PyTorch, an **optimizer** takes care of weight updates  \n",
    "The most common optimizer is stochastic gradient descent (SGD)  "
   ]
  },
  {
   "cell_type": "code",
   "execution_count": 131,
   "id": "f7c4b1e8-d699-436a-a025-097d8590cb24",
   "metadata": {},
   "outputs": [],
   "source": [
    "import torch.optim as optim"
   ]
  },
  {
   "cell_type": "code",
   "execution_count": 132,
   "id": "b3dab24d-3b1d-4193-af42-b7a923d0c548",
   "metadata": {},
   "outputs": [],
   "source": [
    " # Create the optimizer\n",
    "optimizer = optim.SGD(model.parameters(), lr=0.001)"
   ]
  },
  {
   "cell_type": "code",
   "execution_count": 133,
   "id": "c30c8be0-7acd-4c58-9701-cdb730443dc8",
   "metadata": {},
   "outputs": [],
   "source": [
    "# Optimizer handles updating model parameters (or weights) after calculation of local gradients"
   ]
  },
  {
   "cell_type": "code",
   "execution_count": 134,
   "id": "5c9dd160-0585-42c2-b33f-ebf519b70d9c",
   "metadata": {},
   "outputs": [],
   "source": [
    "optimizer.step()"
   ]
  },
  {
   "cell_type": "markdown",
   "id": "735976a2-af47-4a99-8044-70b8463a0fb5",
   "metadata": {},
   "source": [
    "A critical part of training PyTorch models is to calculate gradients of the weight and bias tensors with respect to a loss function."
   ]
  },
  {
   "cell_type": "code",
   "execution_count": 168,
   "id": "32a2ec6d-699b-4687-a058-acd112a2de78",
   "metadata": {},
   "outputs": [],
   "source": [
    "preds = torch.tensor([[1.3822, 1.0100]])"
   ]
  },
  {
   "cell_type": "code",
   "execution_count": 169,
   "id": "bb5be804-d563-4048-b2fb-a2d566a735a5",
   "metadata": {},
   "outputs": [],
   "source": [
    "target = torch.tensor([[1., 0.]])"
   ]
  },
  {
   "cell_type": "code",
   "execution_count": 142,
   "id": "6f668d88-81be-40a4-b6cb-5499e1b81e05",
   "metadata": {},
   "outputs": [],
   "source": [
    "bias = torch.tensor([-0.6617, -1.0373])"
   ]
  },
  {
   "cell_type": "code",
   "execution_count": 143,
   "id": "8080955f-0f6b-449f-bfbf-cfb9b57d3ed1",
   "metadata": {},
   "outputs": [],
   "source": [
    "weight = torch.tensor([[ 1.2630,  0.9749,  0.5577,  0.4896,  0.4237, -0.5220, -0.4037,  0.9209,\n",
    "         -0.1666],\n",
    "        [1.4096,  0.2154,  0.2460,  2.5087,  1.5676,  0.9976, -1.5033,  0.2270,\n",
    "         -0.8001]])"
   ]
  },
  {
   "cell_type": "code",
   "execution_count": 144,
   "id": "94b2aafc-d766-4e4a-8945-7a849a9abf05",
   "metadata": {},
   "outputs": [],
   "source": [
    "criterion = nn.CrossEntropyLoss()"
   ]
  },
  {
   "cell_type": "code",
   "execution_count": 145,
   "id": "b44afc28-582f-491f-8213-83cb0fba6b24",
   "metadata": {},
   "outputs": [],
   "source": [
    "# Calculate the loss\n",
    "loss = criterion(preds, target)"
   ]
  },
  {
   "cell_type": "code",
   "execution_count": 146,
   "id": "3e35cfda-cbe3-4010-82c4-e180290f423b",
   "metadata": {},
   "outputs": [
    {
     "data": {
      "text/plain": [
       "tensor(0.5243)"
      ]
     },
     "execution_count": 146,
     "metadata": {},
     "output_type": "execute_result"
    }
   ],
   "source": [
    "loss"
   ]
  },
  {
   "cell_type": "code",
   "execution_count": 148,
   "id": "75781c38-fa1e-45e8-9e12-94f683d8c81e",
   "metadata": {},
   "outputs": [
    {
     "name": "stdout",
     "output_type": "stream",
     "text": [
      "None\n",
      "None\n"
     ]
    }
   ],
   "source": [
    "# Display gradients of the weight and bias tensors in order\n",
    "print(weight.grad)\n",
    "print(bias.grad)"
   ]
  },
  {
   "cell_type": "code",
   "execution_count": 149,
   "id": "da5846c7-8cf2-4a21-9149-67b528d87ecc",
   "metadata": {},
   "outputs": [],
   "source": [
    "model = nn.Sequential(nn.Linear(16, 8),\n",
    "                      nn.Sigmoid(),\n",
    "                      nn.Linear(8, 2))"
   ]
  },
  {
   "cell_type": "markdown",
   "id": "713955da-6a48-4c8a-a612-e347c000ec8a",
   "metadata": {},
   "source": [
    "Each layer parameter can be accessed by indexing the created model directly"
   ]
  },
  {
   "cell_type": "code",
   "execution_count": 156,
   "id": "fe4ade10-ad47-45b1-b8e0-696570eb14ee",
   "metadata": {},
   "outputs": [],
   "source": [
    "# Access the weight of the first linear layer\n",
    "weight_0 = model[0].weight"
   ]
  },
  {
   "cell_type": "code",
   "execution_count": 162,
   "id": "253ad826-2db7-4e60-9bb0-b35ab282a709",
   "metadata": {},
   "outputs": [
    {
     "data": {
      "text/plain": [
       "Parameter containing:\n",
       "tensor([[-0.1402,  0.0082,  0.0404,  0.1229, -0.1140,  0.1675, -0.1319,  0.1233,\n",
       "         -0.0673, -0.1484,  0.0642,  0.2357, -0.0714,  0.1308,  0.1764,  0.1410],\n",
       "        [-0.0011, -0.1917, -0.1992, -0.0559,  0.0513,  0.2279,  0.1319,  0.1533,\n",
       "          0.0806,  0.2045,  0.1577,  0.1492,  0.0729,  0.1653,  0.1133,  0.0428],\n",
       "        [-0.1938,  0.0097,  0.0279,  0.0908, -0.0907, -0.1991,  0.0864,  0.1462,\n",
       "         -0.1461, -0.1680,  0.1509, -0.0076,  0.2454, -0.0143,  0.0187, -0.1407],\n",
       "        [-0.2279,  0.0637,  0.1996, -0.0499, -0.0177, -0.0644,  0.0366,  0.1378,\n",
       "         -0.2217,  0.1801,  0.0165,  0.2362, -0.1251, -0.0148, -0.0759,  0.0861],\n",
       "        [-0.0338, -0.1130,  0.0052,  0.1851, -0.1426, -0.0204, -0.0702,  0.0642,\n",
       "          0.0680, -0.1035, -0.2240, -0.0530, -0.1464, -0.1871, -0.1343,  0.2128],\n",
       "        [-0.0961, -0.0782, -0.1108, -0.0920,  0.0109,  0.0672, -0.1494, -0.0396,\n",
       "          0.0363, -0.0523, -0.1537,  0.1493,  0.2103,  0.0538,  0.1044,  0.0685],\n",
       "        [-0.1688, -0.0654, -0.1475,  0.2498,  0.0812,  0.1825, -0.1892,  0.2027,\n",
       "         -0.1499, -0.0436,  0.0553,  0.0437,  0.0072, -0.1323,  0.1780, -0.1311],\n",
       "        [-0.0529,  0.1567,  0.0349, -0.1441,  0.0609, -0.0380, -0.2086,  0.0161,\n",
       "          0.0714,  0.0895, -0.0357, -0.0284,  0.1684, -0.0784, -0.1298,  0.2404]],\n",
       "       requires_grad=True)"
      ]
     },
     "execution_count": 162,
     "metadata": {},
     "output_type": "execute_result"
    }
   ],
   "source": [
    "weight_0"
   ]
  },
  {
   "cell_type": "code",
   "execution_count": 153,
   "id": "3bd37edf-3983-4d64-b807-a68c2b397d3b",
   "metadata": {},
   "outputs": [],
   "source": [
    "# Access the bias of the second linear layer\n",
    "bias_1 = model[2].bias"
   ]
  },
  {
   "cell_type": "code",
   "execution_count": 154,
   "id": "eaacf5e7-75b1-4ba2-9365-d4365ee5204b",
   "metadata": {},
   "outputs": [
    {
     "data": {
      "text/plain": [
       "Parameter containing:\n",
       "tensor([-0.1040, -0.3191], requires_grad=True)"
      ]
     },
     "execution_count": 154,
     "metadata": {},
     "output_type": "execute_result"
    }
   ],
   "source": [
    "bias_1"
   ]
  },
  {
   "cell_type": "code",
   "execution_count": 160,
   "id": "8c809ddb-2d5d-4bf9-b783-2b54643e21fd",
   "metadata": {},
   "outputs": [],
   "source": [
    "# Access the gradients of the weight of each linear layer\n",
    "grads0 = weight_0.grad"
   ]
  },
  {
   "cell_type": "code",
   "execution_count": 161,
   "id": "96eaa4a8-e034-4170-a3a5-87264520e88d",
   "metadata": {},
   "outputs": [],
   "source": [
    "grads0"
   ]
  },
  {
   "cell_type": "code",
   "execution_count": 165,
   "id": "be17261e-6f23-42c1-9519-5fa6c03f71b5",
   "metadata": {},
   "outputs": [],
   "source": [
    "# Create the optimizer\n",
    "optimizer = optim.SGD(model.parameters(), lr=0.001)"
   ]
  },
  {
   "cell_type": "code",
   "execution_count": 171,
   "id": "c2e5fe49-3484-4d44-a1e9-8ea4653d0b05",
   "metadata": {},
   "outputs": [],
   "source": [
    "# Update the model's parameters using the optimizer\n",
    "optimizer.step()"
   ]
  },
  {
   "cell_type": "code",
   "execution_count": 173,
   "id": "3f7b3f99-df5e-4c54-91ec-f42361c60096",
   "metadata": {},
   "outputs": [
    {
     "name": "stdout",
     "output_type": "stream",
     "text": [
      "Epoch 0, Loss: 15.425226211547852\n",
      "Epoch 1, Loss: 14.664009094238281\n",
      "Epoch 2, Loss: 13.94487190246582\n",
      "Epoch 3, Loss: 13.265230178833008\n",
      "Epoch 4, Loss: 12.622669219970703\n",
      "Epoch 5, Loss: 12.01494026184082\n",
      "Epoch 6, Loss: 11.439940452575684\n",
      "Epoch 7, Loss: 10.895700454711914\n",
      "Epoch 8, Loss: 10.380388259887695\n",
      "Epoch 9, Loss: 9.892281532287598\n",
      "Epoch 10, Loss: 9.429779052734375\n",
      "Epoch 11, Loss: 8.991376876831055\n",
      "Epoch 12, Loss: 8.575669288635254\n",
      "Epoch 13, Loss: 8.181343078613281\n",
      "Epoch 14, Loss: 7.807163238525391\n",
      "Epoch 15, Loss: 7.4519829750061035\n",
      "Epoch 16, Loss: 7.11471700668335\n",
      "Epoch 17, Loss: 6.794353485107422\n",
      "Epoch 18, Loss: 6.489943027496338\n",
      "Epoch 19, Loss: 6.200596809387207\n",
      "Epoch 20, Loss: 5.925478935241699\n",
      "Epoch 21, Loss: 5.663807392120361\n",
      "Epoch 22, Loss: 5.414844036102295\n",
      "Epoch 23, Loss: 5.17789888381958\n",
      "Epoch 24, Loss: 4.952323913574219\n",
      "Epoch 25, Loss: 4.737505912780762\n",
      "Epoch 26, Loss: 4.5328755378723145\n",
      "Epoch 27, Loss: 4.337891578674316\n",
      "Epoch 28, Loss: 4.152045726776123\n",
      "Epoch 29, Loss: 3.9748618602752686\n",
      "Epoch 30, Loss: 3.805889844894409\n",
      "Epoch 31, Loss: 3.6447055339813232\n",
      "Epoch 32, Loss: 3.4909110069274902\n",
      "Epoch 33, Loss: 3.344128370285034\n",
      "Epoch 34, Loss: 3.2040042877197266\n",
      "Epoch 35, Loss: 3.070204257965088\n",
      "Epoch 36, Loss: 2.9424118995666504\n",
      "Epoch 37, Loss: 2.820329189300537\n",
      "Epoch 38, Loss: 2.703674554824829\n",
      "Epoch 39, Loss: 2.59218168258667\n",
      "Epoch 40, Loss: 2.485599994659424\n",
      "Epoch 41, Loss: 2.3836913108825684\n",
      "Epoch 42, Loss: 2.2862303256988525\n",
      "Epoch 43, Loss: 2.193005084991455\n",
      "Epoch 44, Loss: 2.103813648223877\n",
      "Epoch 45, Loss: 2.018465995788574\n",
      "Epoch 46, Loss: 1.9367811679840088\n",
      "Epoch 47, Loss: 1.8585885763168335\n",
      "Epoch 48, Loss: 1.7837255001068115\n",
      "Epoch 49, Loss: 1.712037444114685\n",
      "Epoch 50, Loss: 1.64337956905365\n",
      "Epoch 51, Loss: 1.5776128768920898\n",
      "Epoch 52, Loss: 1.514606237411499\n",
      "Epoch 53, Loss: 1.4542346000671387\n",
      "Epoch 54, Loss: 1.3963794708251953\n",
      "Epoch 55, Loss: 1.3409277200698853\n",
      "Epoch 56, Loss: 1.2877730131149292\n",
      "Epoch 57, Loss: 1.2368128299713135\n",
      "Epoch 58, Loss: 1.1879510879516602\n",
      "Epoch 59, Loss: 1.1410949230194092\n",
      "Epoch 60, Loss: 1.0961564779281616\n",
      "Epoch 61, Loss: 1.0530534982681274\n",
      "Epoch 62, Loss: 1.011704921722412\n",
      "Epoch 63, Loss: 0.9720355272293091\n",
      "Epoch 64, Loss: 0.9339736700057983\n",
      "Epoch 65, Loss: 0.8974498510360718\n",
      "Epoch 66, Loss: 0.862398624420166\n",
      "Epoch 67, Loss: 0.828757643699646\n",
      "Epoch 68, Loss: 0.7964667081832886\n",
      "Epoch 69, Loss: 0.7654691934585571\n",
      "Epoch 70, Loss: 0.735710859298706\n",
      "Epoch 71, Loss: 0.7071394324302673\n",
      "Epoch 72, Loss: 0.6797060370445251\n",
      "Epoch 73, Loss: 0.6533626317977905\n",
      "Epoch 74, Loss: 0.6280645728111267\n",
      "Epoch 75, Loss: 0.603767991065979\n",
      "Epoch 76, Loss: 0.5804321765899658\n",
      "Epoch 77, Loss: 0.5580174326896667\n",
      "Epoch 78, Loss: 0.5364862680435181\n",
      "Epoch 79, Loss: 0.5158021450042725\n",
      "Epoch 80, Loss: 0.49593067169189453\n",
      "Epoch 81, Loss: 0.47683900594711304\n",
      "Epoch 82, Loss: 0.4584950804710388\n",
      "Epoch 83, Loss: 0.4408687949180603\n",
      "Epoch 84, Loss: 0.4239315092563629\n",
      "Epoch 85, Loss: 0.4076553285121918\n",
      "Epoch 86, Loss: 0.3920135796070099\n",
      "Epoch 87, Loss: 0.376980721950531\n",
      "Epoch 88, Loss: 0.3625327944755554\n",
      "Epoch 89, Loss: 0.3486461043357849\n",
      "Epoch 90, Loss: 0.3352983593940735\n",
      "Epoch 91, Loss: 0.32246828079223633\n",
      "Epoch 92, Loss: 0.3101350665092468\n",
      "Epoch 93, Loss: 0.29827916622161865\n",
      "Epoch 94, Loss: 0.28688162565231323\n",
      "Epoch 95, Loss: 0.2759242057800293\n",
      "Epoch 96, Loss: 0.2653901278972626\n",
      "Epoch 97, Loss: 0.2552624046802521\n",
      "Epoch 98, Loss: 0.24552473425865173\n",
      "Epoch 99, Loss: 0.2361619472503662\n"
     ]
    }
   ],
   "source": [
    "import torch\n",
    "import torch.nn as nn\n",
    "import torch.optim as optim\n",
    "\n",
    "# 1. Define a simple linear model\n",
    "model = nn.Linear(in_features=1, out_features=1)\n",
    "\n",
    "# 2. Define a loss function\n",
    "loss_function = nn.MSELoss()\n",
    "\n",
    "# 3. Create an optimizer\n",
    "optimizer = optim.SGD(model.parameters(), lr=0.01)\n",
    "\n",
    "# 4. Create dummy data\n",
    "x = torch.randn(10, 1)  # 10 random input values\n",
    "y = 2 * x + 3  # a simple linear relationship with some noise\n",
    "\n",
    "# 5. Training loop\n",
    "for epoch in range(100):  # 20 iterations\n",
    "    model.train()\n",
    "\n",
    "    # Zero the gradients\n",
    "    optimizer.zero_grad()\n",
    "\n",
    "    # Forward pass: Compute predicted y by passing x to the model\n",
    "    y_pred = model(x)\n",
    "\n",
    "    # Compute and print loss\n",
    "    loss = loss_function(y_pred, y)\n",
    "    print(f'Epoch {epoch}, Loss: {loss.item()}')\n",
    "\n",
    "    # Backward pass: Compute gradient of the loss with respect to model parameters\n",
    "    loss.backward()\n",
    "\n",
    "    # Calling the step function on an Optimizer makes an update to its parameters\n",
    "    optimizer.step()"
   ]
  },
  {
   "cell_type": "markdown",
   "id": "3742c718-ef5f-4e41-b5d7-b44faa33a3fd",
   "metadata": {},
   "source": [
    "Training a neural network\n",
    "1. Create a model\n",
    "2. Choose a loss function\n",
    "3. Create a dataset\n",
    "4. Define an optimizer\n",
    "5. Run a training loop, where for each sample of the dataset, we repeat:\n",
    "    * Calculating loss (forward pass) \n",
    "    * Calculating local gradients \n",
    "    * Updating model parameters"
   ]
  },
  {
   "cell_type": "markdown",
   "id": "ed975c00-274b-4d4f-b68d-bc76739911d0",
   "metadata": {},
   "source": [
    "# Mean Squared Error Loss"
   ]
  },
  {
   "cell_type": "markdown",
   "id": "febbb8a8-608c-43f1-9898-887ca0fb3673",
   "metadata": {},
   "source": [
    "* MSE loss is the squared difference between the prediction and the ground truth.\n",
    "* Used for the regression problems since **cross entropy loss** is used in classification problems."
   ]
  },
  {
   "cell_type": "code",
   "execution_count": 190,
   "id": "e9f14a40-012d-470b-b0f5-668003d6ef25",
   "metadata": {},
   "outputs": [
    {
     "name": "stdout",
     "output_type": "stream",
     "text": [
      "tensor(81.)\n"
     ]
    }
   ],
   "source": [
    "y_hat = np.array(10)\n",
    "y = np.array(1)\n",
    "\n",
    "# Calculate the MSELoss using NumPy\n",
    "mse_numpy = np.mean((y_hat - y)**2)\n",
    "\n",
    "# Create the MSELoss function\n",
    "criterion = nn.MSELoss()\n",
    "\n",
    "# Calculate the MSELoss using the created loss function\n",
    "mse_pytorch = criterion(torch.tensor(y_hat).float(), torch.tensor(y).float())\n",
    "print(mse_pytorch)"
   ]
  },
  {
   "cell_type": "code",
   "execution_count": 177,
   "id": "fbaa60ac-5796-44fb-bec5-9b4393b839b3",
   "metadata": {},
   "outputs": [],
   "source": [
    "criterion = nn.MSELoss()"
   ]
  },
  {
   "cell_type": "code",
   "execution_count": 178,
   "id": "9ceae591-26ae-4e9c-9508-45e2430d183d",
   "metadata": {},
   "outputs": [],
   "source": [
    "# Prediction and target are float tensors\n",
    "loss = criterion(prediction, target)"
   ]
  },
  {
   "cell_type": "code",
   "execution_count": 179,
   "id": "5f319c44-ae06-4a77-98e7-691f0a25d961",
   "metadata": {},
   "outputs": [
    {
     "data": {
      "text/plain": [
       "tensor(2.8630, grad_fn=<MseLossBackward0>)"
      ]
     },
     "execution_count": 179,
     "metadata": {},
     "output_type": "execute_result"
    }
   ],
   "source": [
    "loss"
   ]
  },
  {
   "cell_type": "code",
   "execution_count": 415,
   "id": "6b41cba4-3f21-4936-8faa-038aba9656d6",
   "metadata": {},
   "outputs": [
    {
     "name": "stdout",
     "output_type": "stream",
     "text": [
      "tensor(0.0117)\n"
     ]
    }
   ],
   "source": [
    "# Initialize the scores and ground truth\n",
    "logits = torch.tensor([[-1.2, 0.12, 4.8]])\n",
    "ground_truth = torch.tensor([2])\n",
    "\n",
    "# Instantiate cross entropy loss\n",
    "criterion = nn.CrossEntropyLoss()\n",
    "\n",
    "# Compute and print the loss\n",
    "loss = criterion(logits, ground_truth)\n",
    "print(loss)"
   ]
  },
  {
   "cell_type": "markdown",
   "id": "663607c2-b1d7-420a-854a-1fd95dd1bab3",
   "metadata": {},
   "source": [
    "------"
   ]
  },
  {
   "cell_type": "markdown",
   "id": "d5e0aa2a-e60d-44ef-99ca-ff2024119ea9",
   "metadata": {},
   "source": [
    "# Training loop"
   ]
  },
  {
   "cell_type": "markdown",
   "id": "e7560ce3-94f4-4655-8236-6bb28171244b",
   "metadata": {},
   "source": [
    "In scikit-learn, the whole training loop is contained in the .fit() method, but in PyTorch the loop is implemented manually."
   ]
  },
  {
   "cell_type": "code",
   "execution_count": 187,
   "id": "ec598cba-6a5d-4698-a149-003401c2af48",
   "metadata": {},
   "outputs": [],
   "source": [
    "from torch.utils.data import TensorDataset, DataLoader"
   ]
  },
  {
   "cell_type": "code",
   "execution_count": 184,
   "id": "1e75e958-1313-4e8f-923f-d7502650a840",
   "metadata": {},
   "outputs": [],
   "source": [
    "# Create the model\n",
    "model = nn.Sequential(nn.Linear(4, 2),\n",
    "                   nn.Linear(2, 1))"
   ]
  },
  {
   "cell_type": "code",
   "execution_count": 185,
   "id": "fee3b88d-ceea-46f2-b6af-0bc8a6ce5a36",
   "metadata": {},
   "outputs": [],
   "source": [
    "# Create the loss and optimizer\n",
    "criterion = nn.MSELoss()\n",
    "optimizer = optim.SGD(model.parameters(), lr=0.001)"
   ]
  },
  {
   "cell_type": "markdown",
   "id": "3c618699-8a9a-4abd-a25b-80954209d3d9",
   "metadata": {},
   "source": [
    "**Epoch** is looping through the entire dataset once and the training is usually done over multiple epochs"
   ]
  },
  {
   "cell_type": "code",
   "execution_count": null,
   "id": "7d3dfc18-f097-4cb4-8e86-1291162c5d6c",
   "metadata": {},
   "outputs": [],
   "source": [
    "# Loop through the dataset multiple times\n",
    "for epoch in range(num_epochs):\n",
    " for data in dataloader:\n",
    "     # Set the gradients to zero\n",
    "     optimizer.zero_grad()\n",
    "     # Get feature and target from the data loader\n",
    "     feature, target = data\n",
    "     # Run a forward pass\n",
    "     pred = model(feature)\n",
    "     # Compute loss and gradients\n",
    "     loss = criterion(pred, target)\n",
    "     # Call the backpropagation to calculate the gradients with respect to weight and bias\n",
    "     loss.backward()\n",
    "     # Update the parameters\n",
    "     optimizer.step()\n",
    "show_results(model, dataloader)"
   ]
  },
  {
   "cell_type": "markdown",
   "id": "1d46d76e-4b72-41d6-af84-c0fbb915d92c",
   "metadata": {},
   "source": [
    "---------"
   ]
  },
  {
   "cell_type": "markdown",
   "id": "4e1830e6-d3c4-42d6-a9f8-a6b2dbd663e3",
   "metadata": {},
   "source": [
    "# Activation functions between layers "
   ]
  },
  {
   "cell_type": "markdown",
   "id": "2b3ee29c-85c2-4499-bfad-03a9b40de5ae",
   "metadata": {},
   "source": [
    "* **sigmoid** and **softmax** functions are applied at the last linear layer of the model\n",
    "* **ReLU** and **leaky ReLU** are applied between the linear layers"
   ]
  },
  {
   "cell_type": "markdown",
   "id": "36ce09e6-2272-45bc-a1de-5aa5e748cb6d",
   "metadata": {},
   "source": [
    "Sigmoid functions:\n",
    "* Bounded between 0 and 1\n",
    "* Can be used anywhere in the network"
   ]
  },
  {
   "cell_type": "markdown",
   "id": "c079c38f-f90b-4142-9fe0-46e359b32ee9",
   "metadata": {},
   "source": [
    "Gradients:\n",
    "* Approach zero for low and high values of x (since gradients are the derivatives of the sigmoid)\n",
    "* Cause function to **saturate** (since each local gradient is a function of the previous gradient)"
   ]
  },
  {
   "cell_type": "markdown",
   "id": "a28d3d8b-27ee-4c72-b304-f3332dd5e890",
   "metadata": {},
   "source": [
    "Sigmoid function saturation can lead to **vanishing gradients** during backpropagation. This is also a problem for softmax."
   ]
  },
  {
   "cell_type": "markdown",
   "id": "8b63eef8-f47d-453c-b874-015fb60360a5",
   "metadata": {},
   "source": [
    "# ReLU"
   ]
  },
  {
   "cell_type": "markdown",
   "id": "f78e3e75-e141-40bb-b1d5-3947748b406e",
   "metadata": {},
   "source": [
    "Rectified Linear Unit (ReLU):\n",
    "$$ f(x) = max(x, 0) $$\n",
    "* for positive inputs, the output is equal to the input\n",
    "* for strictly negative inputs, the output is equal to zero\n",
    "* overcomes the vanishing gradients problem\n",
    "* has the inconvenience of outputting NULL values for negative inputs and therefore, having null gradients. Once an element of the input is negative, it will be set to zero for the rest of the training"
   ]
  },
  {
   "cell_type": "code",
   "execution_count": null,
   "id": "9fc9e32e-ac41-4de0-b134-566c6d3fd7ea",
   "metadata": {},
   "outputs": [],
   "source": [
    "# Instantiate non-linearity\n",
    "relu = nn.ReLU()\n",
    "\n",
    "# Apply non-linearity on hidden_1 and hidden_2\n",
    "hidden_1_activated = relu(torch.matmul(input_layer, weight_1))\n",
    "hidden_2_activated = relu(torch.matmul(hidden_1_activated, weight_2))\n",
    "print(torch.matmul(hidden_2_activated, weight_3))\n",
    "\n",
    "# Apply non-linearity to the product of first two weights. \n",
    "weight_composed_1_activated = relu(torch.matmul(weight_1, weight_2))\n",
    "\n",
    "# Multiply `weight_composed_1_activated` with `weight_3\n",
    "weight = torch.matmul(weight_composed_1_activated, weight_3)\n",
    "\n",
    "# Multiply input_layer with weight\n",
    "print(torch.matmul(input_layer, weight))"
   ]
  },
  {
   "cell_type": "markdown",
   "id": "1c255e2b-f5b5-4d62-b45a-c790cdcc8aeb",
   "metadata": {},
   "source": [
    "# Leaky ReLU"
   ]
  },
  {
   "cell_type": "markdown",
   "id": "e36f971c-4fbc-441e-89c4-e18c8ceae2ba",
   "metadata": {},
   "source": [
    "* for positive inputs, it behaves similarly to ReLU\n",
    "* for negative inputs, it multiplies the input by a small coefficient - **negative slope** (defaulted to 0.01)\n",
    "* the gradients for negative inputs are never null\n",
    "* overcomes NULL ReLU gradients that were created because of the negative values by using a multiplying factor for negative inputs"
   ]
  },
  {
   "cell_type": "code",
   "execution_count": 196,
   "id": "35b04a79-0fe0-453c-964d-f7059c009d99",
   "metadata": {},
   "outputs": [],
   "source": [
    "# Create a ReLU function with PyTorch\n",
    "relu_pytorch = nn.ReLU()"
   ]
  },
  {
   "cell_type": "code",
   "execution_count": 205,
   "id": "e2e526ed-bc66-4863-84c1-eb484098e629",
   "metadata": {},
   "outputs": [],
   "source": [
    "# Apply your ReLU function on x, and calculate gradients\n",
    "x = torch.tensor(-1.0, requires_grad=True) # Since the input is negative, the rectified version would convert this to 0\n",
    "y = relu_pytorch(x)\n",
    "y.backward()"
   ]
  },
  {
   "cell_type": "code",
   "execution_count": 202,
   "id": "a6c45840-5581-46c7-a6f6-2c4387cfddf4",
   "metadata": {},
   "outputs": [
    {
     "data": {
      "text/plain": [
       "tensor(0.)"
      ]
     },
     "execution_count": 202,
     "metadata": {},
     "output_type": "execute_result"
    }
   ],
   "source": [
    "# Getting the gradient of the ReLU function for x\n",
    "gradient = x.grad\n",
    "gradient"
   ]
  },
  {
   "cell_type": "code",
   "execution_count": 203,
   "id": "0b149f28-5ef7-44de-b208-594fce2050ce",
   "metadata": {},
   "outputs": [],
   "source": [
    "# Create a leaky relu function in PyTorch\n",
    "leaky_relu_pytorch = nn.LeakyReLU(negative_slope=0.05)"
   ]
  },
  {
   "cell_type": "code",
   "execution_count": 208,
   "id": "05339f4e-052f-495a-bec4-aae0c8fcf4da",
   "metadata": {},
   "outputs": [],
   "source": [
    "y = leaky_relu_pytorch(x)"
   ]
  },
  {
   "cell_type": "code",
   "execution_count": 209,
   "id": "bce67d77-1487-46b9-9081-2d5dbb4da99b",
   "metadata": {},
   "outputs": [],
   "source": [
    "y.backward()"
   ]
  },
  {
   "cell_type": "code",
   "execution_count": 210,
   "id": "4eef45f4-a11f-4bd3-b414-2ea051ac5606",
   "metadata": {},
   "outputs": [
    {
     "data": {
      "text/plain": [
       "tensor(0.0500)"
      ]
     },
     "execution_count": 210,
     "metadata": {},
     "output_type": "execute_result"
    }
   ],
   "source": [
    "# Getting the gradient of the Leaky ReLU function for x\n",
    "gradient = x.grad\n",
    "gradient"
   ]
  },
  {
   "cell_type": "markdown",
   "id": "7987d126-5829-45bc-8be9-3f7ebeafdb7d",
   "metadata": {},
   "source": [
    "-----------"
   ]
  },
  {
   "cell_type": "markdown",
   "id": "255a6ac0-4366-448f-a551-32ad74648b5b",
   "metadata": {},
   "source": [
    "# Neural Network Architecture"
   ]
  },
  {
   "cell_type": "markdown",
   "id": "a432e09c-f1ce-489f-941f-eccc923c825e",
   "metadata": {},
   "source": [
    "A neuron of a linear layer:\n",
    "* computes a linear operation using all neurons of previous layer\n",
    "* contains $N+1$ learnable parameters, where $N$ = dimension of previous layer's outputs"
   ]
  },
  {
   "cell_type": "markdown",
   "id": "a5b5d048-2672-4446-9d1a-cbe91f7189e8",
   "metadata": {},
   "source": [
    "Input and output layers dimensions are fixed:\n",
    "* input layer depends on the `n_features` \n",
    "* output layer depends on the `n_classes`"
   ]
  },
  {
   "cell_type": "markdown",
   "id": "d35daffe-4c84-484d-b345-373da41f53ca",
   "metadata": {},
   "source": [
    "* a model can have an arbitrary number of hidden layers\n",
    "* increasing the number of parameters = increasing the **model capacity**\n",
    "* capacity is measured by `n_parameters`"
   ]
  },
  {
   "cell_type": "code",
   "execution_count": 214,
   "id": "e8904e5c-598e-42c2-b6f7-8ef474eb642e",
   "metadata": {},
   "outputs": [
    {
     "data": {
      "text/plain": [
       "Sequential(\n",
       "  (0): Linear(in_features=4, out_features=2, bias=True)\n",
       "  (1): Linear(in_features=2, out_features=1, bias=True)\n",
       ")"
      ]
     },
     "execution_count": 214,
     "metadata": {},
     "output_type": "execute_result"
    }
   ],
   "source": [
    "model"
   ]
  },
  {
   "cell_type": "code",
   "execution_count": 213,
   "id": "735f971d-a817-494d-ab03-397f961f4590",
   "metadata": {},
   "outputs": [
    {
     "name": "stdout",
     "output_type": "stream",
     "text": [
      "13\n"
     ]
    }
   ],
   "source": [
    "total = 0\n",
    "\n",
    "for parameter in model.parameters():\n",
    " total += parameter.numel()\n",
    "print(total)"
   ]
  },
  {
   "cell_type": "code",
   "execution_count": 217,
   "id": "f24625f9-a50d-4256-9c80-10c760bca056",
   "metadata": {},
   "outputs": [],
   "source": [
    "def calculate_capacity(model):\n",
    "    \"\"\"Calculates the capacity of the model\"\"\"\n",
    "    total = 0\n",
    "    \n",
    "    for p in model.parameters():\n",
    "        total += p.numel()\n",
    "        return total"
   ]
  },
  {
   "cell_type": "markdown",
   "id": "b8c9ce08-dcd4-4fcd-8506-0e0033726ec6",
   "metadata": {},
   "source": [
    "--------"
   ]
  },
  {
   "cell_type": "markdown",
   "id": "cbb31f11-b9a8-40d2-9f98-5bbf790f4ad9",
   "metadata": {},
   "source": [
    "# Learning rate and momentum"
   ]
  },
  {
   "cell_type": "markdown",
   "id": "9cf76d9f-ae8d-4fb9-8fa7-0bc37e2781b5",
   "metadata": {},
   "source": [
    "Training a neural network = *solving an optimization problem*  \n",
    "Two parameters of an optimizer can be adjusted when training a model:\n",
    "* **learning rate**:\n",
    "    * controls the step size\n",
    "    * too small leads to long training times\n",
    "    * too high leads to poor performances as optimizer steps jump across the chart\n",
    "    * typical values between $10^{-2}$ and $10^{-4}$ \n",
    "* **momentum**:\n",
    "    * controls the inertia of the optimizer\n",
    "    * NULL can lead to the optimizer being stuck at a local minimum\n",
    "    * non-NULL can help find the function minimum\n",
    "    * typical values are between $0.85$ and $0.99$"
   ]
  },
  {
   "cell_type": "code",
   "execution_count": 219,
   "id": "cdb48613-6414-4504-9ba7-56e20601c54f",
   "metadata": {},
   "outputs": [],
   "source": [
    "# Stochastic Gradient Descent (SGD) optimizer\n",
    "sgd = optim.SGD(model.parameters(), lr=0.01, momentum=0.95)"
   ]
  },
  {
   "cell_type": "markdown",
   "id": "d9205391-1bfe-49bc-bad7-527ff44a35fc",
   "metadata": {},
   "source": [
    "------"
   ]
  },
  {
   "cell_type": "markdown",
   "id": "cd89e14d-23bf-49a2-96c8-bdf3d9870a75",
   "metadata": {},
   "source": [
    "# Layer initialization"
   ]
  },
  {
   "cell_type": "markdown",
   "id": "74d98087-4d49-446d-be5e-be6693ad9281",
   "metadata": {},
   "source": [
    "* Layer weights are initialized to small values\n",
    "* Layer outputs can explode if inputs and weights are not normalized\n",
    "* Weights can be initialized using different methods (e.g., with a uniform distribution)"
   ]
  },
  {
   "cell_type": "code",
   "execution_count": 220,
   "id": "33da4f17-7d9f-4e11-81e5-779ad64222e9",
   "metadata": {},
   "outputs": [],
   "source": [
    "layer = nn.Linear(64, 128)"
   ]
  },
  {
   "cell_type": "code",
   "execution_count": 221,
   "id": "30bb602b-e58b-4fc4-8a4d-1867f3d706d6",
   "metadata": {},
   "outputs": [
    {
     "data": {
      "text/plain": [
       "tensor(-0.1250, grad_fn=<MinBackward1>)"
      ]
     },
     "execution_count": 221,
     "metadata": {},
     "output_type": "execute_result"
    }
   ],
   "source": [
    "layer.weight.min()"
   ]
  },
  {
   "cell_type": "code",
   "execution_count": 222,
   "id": "99482a38-646e-4b17-a0f8-3c813f0fa72d",
   "metadata": {},
   "outputs": [
    {
     "data": {
      "text/plain": [
       "tensor(0.1250, grad_fn=<MaxBackward1>)"
      ]
     },
     "execution_count": 222,
     "metadata": {},
     "output_type": "execute_result"
    }
   ],
   "source": [
    "layer.weight.max()"
   ]
  },
  {
   "cell_type": "code",
   "execution_count": 223,
   "id": "a1a2ebf4-c84d-471f-833f-8aa23ff2fd3c",
   "metadata": {},
   "outputs": [
    {
     "data": {
      "text/plain": [
       "Parameter containing:\n",
       "tensor([[0.8373, 0.9833, 0.9643,  ..., 0.6866, 0.0952, 0.7478],\n",
       "        [0.4544, 0.9587, 0.6913,  ..., 0.8510, 0.1798, 0.6685],\n",
       "        [0.0791, 0.5167, 0.8288,  ..., 0.2929, 0.6326, 0.9775],\n",
       "        ...,\n",
       "        [0.5602, 0.6386, 0.9596,  ..., 0.5102, 0.0688, 0.2611],\n",
       "        [0.4220, 0.9637, 0.7851,  ..., 0.4229, 0.4175, 0.3334],\n",
       "        [0.9042, 0.7915, 0.4723,  ..., 0.0586, 0.6882, 0.4989]],\n",
       "       requires_grad=True)"
      ]
     },
     "execution_count": 223,
     "metadata": {},
     "output_type": "execute_result"
    }
   ],
   "source": [
    "# Initialize layer weights with uniform distribution\n",
    "nn.init.uniform_(layer.weight)"
   ]
  },
  {
   "cell_type": "code",
   "execution_count": 225,
   "id": "700a7583-5600-4727-a9c0-760916e1bd2f",
   "metadata": {},
   "outputs": [
    {
     "data": {
      "text/plain": [
       "tensor(4.6074e-05, grad_fn=<MinBackward1>)"
      ]
     },
     "execution_count": 225,
     "metadata": {},
     "output_type": "execute_result"
    }
   ],
   "source": [
    "layer.weight.min()"
   ]
  },
  {
   "cell_type": "code",
   "execution_count": 226,
   "id": "1c29049d-2243-4226-aeea-359593f0442b",
   "metadata": {},
   "outputs": [
    {
     "data": {
      "text/plain": [
       "tensor(1.0000, grad_fn=<MaxBackward1>)"
      ]
     },
     "execution_count": 226,
     "metadata": {},
     "output_type": "execute_result"
    }
   ],
   "source": [
    "layer.weight.max()"
   ]
  },
  {
   "cell_type": "code",
   "execution_count": 232,
   "id": "c5d88512-f1d3-415f-9cbf-dd6aef64b455",
   "metadata": {},
   "outputs": [],
   "source": [
    "layer0 = nn.Linear(16, 32)\n",
    "layer1 = nn.Linear(32, 64)\n",
    "\n",
    "# Use uniform initialization for layer0 and layer1 weights\n",
    "nn.init.uniform_(layer0.weight)\n",
    "nn.init.uniform_(layer1.weight)\n",
    "\n",
    "model = nn.Sequential(layer0, layer1)"
   ]
  },
  {
   "cell_type": "markdown",
   "id": "7407c3ac-7194-4d44-bb89-1a81eb313e1a",
   "metadata": {},
   "source": [
    "**Transfer learning** - reusing a model trained on a first task for a second similar task, to accelerate the training process."
   ]
  },
  {
   "cell_type": "code",
   "execution_count": 227,
   "id": "a6d71ca0-c3b5-4802-9277-62ca49ad7a85",
   "metadata": {},
   "outputs": [],
   "source": [
    "torch.save(layer, 'layer.pth')"
   ]
  },
  {
   "cell_type": "code",
   "execution_count": 228,
   "id": "db670a87-a2d4-4bca-be1d-e064e9a73303",
   "metadata": {},
   "outputs": [],
   "source": [
    "new_layer = torch.load('layer.pth')"
   ]
  },
  {
   "cell_type": "markdown",
   "id": "b056a569-5667-4af8-9489-e1242dc0ff11",
   "metadata": {},
   "source": [
    "**Fine-tuning** is a type of transfer learning:\n",
    "* smaller learning rate\n",
    "* not every layer is trained (some of them are being frozen)\n",
    "* Rule of thumb: freeze early layers of network and fine-tune layers closer to output layer"
   ]
  },
  {
   "cell_type": "code",
   "execution_count": 229,
   "id": "bb7061df-1ea4-438a-8879-43f6533564c6",
   "metadata": {},
   "outputs": [],
   "source": [
    "model = nn.Sequential(nn.Linear(64, 128),\n",
    "                       nn.Linear(128, 256))"
   ]
  },
  {
   "cell_type": "code",
   "execution_count": 230,
   "id": "a3122797-cfef-4008-8c0c-6cf3344a8a2c",
   "metadata": {},
   "outputs": [],
   "source": [
    "for name, param in model.named_parameters():\n",
    " if name == '0.weight':\n",
    "     param.requires_grad = False"
   ]
  },
  {
   "cell_type": "markdown",
   "id": "a399f3df-6acd-4eac-b027-71f5c4d4c479",
   "metadata": {},
   "source": [
    "**Fine-tuning** steps:\n",
    "1. Find a model trained on a simila task \n",
    "2. Load pre-trained weights\n",
    "3. Freeze (or not) some of the layers in the model\n",
    "4. Train with a smaller learning rate\n",
    "5. Look at the loss values to see if the learning rate needs adjustments "
   ]
  },
  {
   "cell_type": "code",
   "execution_count": 231,
   "id": "e2748885-a565-4d63-bf0e-0fea806d4ca2",
   "metadata": {},
   "outputs": [],
   "source": [
    "for name, param in model.named_parameters():\n",
    "  \n",
    "    # Check if the parameters belong to the first layer\n",
    "    if name == '0.weight' or name == '0.bias':\n",
    "   \n",
    "        # Freeze the parameters\n",
    "        param.requires_grad = False\n",
    "        \n",
    "    # Check if the parameters belong to the second layer\n",
    "    if name == '1.weight' or name == '1.bias':\n",
    "      \n",
    "        # Freeze the parameters\n",
    "        param.requires_grad = False"
   ]
  },
  {
   "cell_type": "markdown",
   "id": "3b0a4e89-c52e-479f-9107-f0f5e2fd55b9",
   "metadata": {},
   "source": [
    "------"
   ]
  },
  {
   "cell_type": "markdown",
   "id": "38f741da-6d0e-4744-b45f-e3be4c2ce94b",
   "metadata": {},
   "source": [
    "# Loading data"
   ]
  },
  {
   "cell_type": "code",
   "execution_count": 233,
   "id": "9e444c1d-0245-41c7-86bc-9348b9e4ce99",
   "metadata": {},
   "outputs": [
    {
     "data": {
      "text/html": [
       "<div>\n",
       "<style scoped>\n",
       "    .dataframe tbody tr th:only-of-type {\n",
       "        vertical-align: middle;\n",
       "    }\n",
       "\n",
       "    .dataframe tbody tr th {\n",
       "        vertical-align: top;\n",
       "    }\n",
       "\n",
       "    .dataframe thead th {\n",
       "        text-align: right;\n",
       "    }\n",
       "</style>\n",
       "<table border=\"1\" class=\"dataframe\">\n",
       "  <thead>\n",
       "    <tr style=\"text-align: right;\">\n",
       "      <th></th>\n",
       "      <th>animal_name</th>\n",
       "      <th>hair</th>\n",
       "      <th>feathers</th>\n",
       "      <th>eggs</th>\n",
       "      <th>milk</th>\n",
       "      <th>predator</th>\n",
       "      <th>fins</th>\n",
       "      <th>legs</th>\n",
       "      <th>tail</th>\n",
       "      <th>type</th>\n",
       "    </tr>\n",
       "  </thead>\n",
       "  <tbody>\n",
       "    <tr>\n",
       "      <th>0</th>\n",
       "      <td>skimmer</td>\n",
       "      <td>0</td>\n",
       "      <td>1</td>\n",
       "      <td>1</td>\n",
       "      <td>0</td>\n",
       "      <td>1</td>\n",
       "      <td>0</td>\n",
       "      <td>2</td>\n",
       "      <td>1</td>\n",
       "      <td>2</td>\n",
       "    </tr>\n",
       "    <tr>\n",
       "      <th>1</th>\n",
       "      <td>gull</td>\n",
       "      <td>0</td>\n",
       "      <td>1</td>\n",
       "      <td>1</td>\n",
       "      <td>0</td>\n",
       "      <td>1</td>\n",
       "      <td>0</td>\n",
       "      <td>2</td>\n",
       "      <td>1</td>\n",
       "      <td>2</td>\n",
       "    </tr>\n",
       "    <tr>\n",
       "      <th>2</th>\n",
       "      <td>seahorse</td>\n",
       "      <td>0</td>\n",
       "      <td>0</td>\n",
       "      <td>1</td>\n",
       "      <td>0</td>\n",
       "      <td>0</td>\n",
       "      <td>1</td>\n",
       "      <td>0</td>\n",
       "      <td>1</td>\n",
       "      <td>4</td>\n",
       "    </tr>\n",
       "    <tr>\n",
       "      <th>3</th>\n",
       "      <td>tuatara</td>\n",
       "      <td>0</td>\n",
       "      <td>0</td>\n",
       "      <td>1</td>\n",
       "      <td>0</td>\n",
       "      <td>1</td>\n",
       "      <td>0</td>\n",
       "      <td>4</td>\n",
       "      <td>1</td>\n",
       "      <td>3</td>\n",
       "    </tr>\n",
       "    <tr>\n",
       "      <th>4</th>\n",
       "      <td>squirrel</td>\n",
       "      <td>1</td>\n",
       "      <td>0</td>\n",
       "      <td>0</td>\n",
       "      <td>1</td>\n",
       "      <td>0</td>\n",
       "      <td>0</td>\n",
       "      <td>2</td>\n",
       "      <td>1</td>\n",
       "      <td>1</td>\n",
       "    </tr>\n",
       "  </tbody>\n",
       "</table>\n",
       "</div>"
      ],
      "text/plain": [
       "  animal_name  hair  feathers  eggs  milk  predator  fins  legs  tail  type\n",
       "0     skimmer     0         1     1     0         1     0     2     1     2\n",
       "1        gull     0         1     1     0         1     0     2     1     2\n",
       "2    seahorse     0         0     1     0         0     1     0     1     4\n",
       "3     tuatara     0         0     1     0         1     0     4     1     3\n",
       "4    squirrel     1         0     0     1         0     0     2     1     1"
      ]
     },
     "execution_count": 233,
     "metadata": {},
     "output_type": "execute_result"
    }
   ],
   "source": [
    "import pandas as pd\n",
    "from io import StringIO\n",
    "\n",
    "# Data provided as a string\n",
    "data_str = \"\"\"animal_name,hair,feathers,eggs,milk,predator,fins,legs,tail,type\n",
    "skimmer,0,1,1,0,1,0,2,1,2\n",
    "gull,0,1,1,0,1,0,2,1,2\n",
    "seahorse,0,0,1,0,0,1,0,1,4\n",
    "tuatara,0,0,1,0,1,0,4,1,3\n",
    "squirrel,1,0,0,1,0,0,2,1,1\"\"\"\n",
    "\n",
    "# Use StringIO to convert string data to a file-like object\n",
    "data = StringIO(data_str)\n",
    "\n",
    "# Create the DataFrame\n",
    "df = pd.read_csv(data)\n",
    "\n",
    "df.head()"
   ]
  },
  {
   "cell_type": "markdown",
   "id": "2421dfe0-0c06-4276-8cef-065607282f96",
   "metadata": {},
   "source": [
    "Type key: \n",
    "* (1) mammal \n",
    "* (2) bird\n",
    "* (3) reptile\n",
    "* (4) fish\n",
    "* (5) amphibian\n",
    "* (6) bug\n",
    "* (7) invertebrate"
   ]
  },
  {
   "cell_type": "code",
   "execution_count": 238,
   "id": "324ae932-a56f-41ab-a467-f6a576d2f5f9",
   "metadata": {},
   "outputs": [],
   "source": [
    "animals = df.copy()"
   ]
  },
  {
   "cell_type": "code",
   "execution_count": 239,
   "id": "166cdf9c-73cc-45b7-ac72-f311a4a1893e",
   "metadata": {},
   "outputs": [
    {
     "data": {
      "text/html": [
       "<div>\n",
       "<style scoped>\n",
       "    .dataframe tbody tr th:only-of-type {\n",
       "        vertical-align: middle;\n",
       "    }\n",
       "\n",
       "    .dataframe tbody tr th {\n",
       "        vertical-align: top;\n",
       "    }\n",
       "\n",
       "    .dataframe thead th {\n",
       "        text-align: right;\n",
       "    }\n",
       "</style>\n",
       "<table border=\"1\" class=\"dataframe\">\n",
       "  <thead>\n",
       "    <tr style=\"text-align: right;\">\n",
       "      <th></th>\n",
       "      <th>hair</th>\n",
       "      <th>feathers</th>\n",
       "      <th>eggs</th>\n",
       "      <th>milk</th>\n",
       "      <th>predator</th>\n",
       "      <th>fins</th>\n",
       "      <th>legs</th>\n",
       "      <th>tail</th>\n",
       "    </tr>\n",
       "  </thead>\n",
       "  <tbody>\n",
       "    <tr>\n",
       "      <th>0</th>\n",
       "      <td>0</td>\n",
       "      <td>1</td>\n",
       "      <td>1</td>\n",
       "      <td>0</td>\n",
       "      <td>1</td>\n",
       "      <td>0</td>\n",
       "      <td>2</td>\n",
       "      <td>1</td>\n",
       "    </tr>\n",
       "    <tr>\n",
       "      <th>1</th>\n",
       "      <td>0</td>\n",
       "      <td>1</td>\n",
       "      <td>1</td>\n",
       "      <td>0</td>\n",
       "      <td>1</td>\n",
       "      <td>0</td>\n",
       "      <td>2</td>\n",
       "      <td>1</td>\n",
       "    </tr>\n",
       "    <tr>\n",
       "      <th>2</th>\n",
       "      <td>0</td>\n",
       "      <td>0</td>\n",
       "      <td>1</td>\n",
       "      <td>0</td>\n",
       "      <td>0</td>\n",
       "      <td>1</td>\n",
       "      <td>0</td>\n",
       "      <td>1</td>\n",
       "    </tr>\n",
       "    <tr>\n",
       "      <th>3</th>\n",
       "      <td>0</td>\n",
       "      <td>0</td>\n",
       "      <td>1</td>\n",
       "      <td>0</td>\n",
       "      <td>1</td>\n",
       "      <td>0</td>\n",
       "      <td>4</td>\n",
       "      <td>1</td>\n",
       "    </tr>\n",
       "    <tr>\n",
       "      <th>4</th>\n",
       "      <td>1</td>\n",
       "      <td>0</td>\n",
       "      <td>0</td>\n",
       "      <td>1</td>\n",
       "      <td>0</td>\n",
       "      <td>0</td>\n",
       "      <td>2</td>\n",
       "      <td>1</td>\n",
       "    </tr>\n",
       "  </tbody>\n",
       "</table>\n",
       "</div>"
      ],
      "text/plain": [
       "   hair  feathers  eggs  milk  predator  fins  legs  tail\n",
       "0     0         1     1     0         1     0     2     1\n",
       "1     0         1     1     0         1     0     2     1\n",
       "2     0         0     1     0         0     1     0     1\n",
       "3     0         0     1     0         1     0     4     1\n",
       "4     1         0     0     1         0     0     2     1"
      ]
     },
     "execution_count": 239,
     "metadata": {},
     "output_type": "execute_result"
    }
   ],
   "source": [
    "animals[animals.columns[1:-1]]"
   ]
  },
  {
   "cell_type": "code",
   "execution_count": 248,
   "id": "30c1683d-c73e-417b-a1e5-0b5a05c4275e",
   "metadata": {},
   "outputs": [],
   "source": [
    "# Define input features\n",
    "features = animals[animals.columns[1:-1]]\n",
    "X = np.array(features.astype(float))"
   ]
  },
  {
   "cell_type": "code",
   "execution_count": 249,
   "id": "1cf2fca1-43d2-4a3f-91c1-0502e39940db",
   "metadata": {},
   "outputs": [
    {
     "data": {
      "text/plain": [
       "array([[0., 1., 1., 0., 1., 0., 2., 1.],\n",
       "       [0., 1., 1., 0., 1., 0., 2., 1.],\n",
       "       [0., 0., 1., 0., 0., 1., 0., 1.],\n",
       "       [0., 0., 1., 0., 1., 0., 4., 1.],\n",
       "       [1., 0., 0., 1., 0., 0., 2., 1.]])"
      ]
     },
     "execution_count": 249,
     "metadata": {},
     "output_type": "execute_result"
    }
   ],
   "source": [
    "X"
   ]
  },
  {
   "cell_type": "code",
   "execution_count": 250,
   "id": "41df0733-721b-4221-a8ed-516ad1fbb756",
   "metadata": {},
   "outputs": [],
   "source": [
    "# Define target features (ground truth)\n",
    "target = animals[animals.columns[-1]]\n",
    "y = np.array(target).astype(float)"
   ]
  },
  {
   "cell_type": "code",
   "execution_count": 251,
   "id": "c39dd3e8-d4a9-472d-85b0-0af4f14ca1a7",
   "metadata": {},
   "outputs": [
    {
     "data": {
      "text/plain": [
       "array([2., 2., 4., 3., 1.])"
      ]
     },
     "execution_count": 251,
     "metadata": {},
     "output_type": "execute_result"
    }
   ],
   "source": [
    "y"
   ]
  },
  {
   "cell_type": "code",
   "execution_count": 252,
   "id": "9eb1c665-4184-4233-b548-d51a67002e23",
   "metadata": {},
   "outputs": [],
   "source": [
    "# Instantiate dataset class\n",
    "dataset = TensorDataset(torch.tensor(X).float(), torch.tensor(y).float())"
   ]
  },
  {
   "cell_type": "code",
   "execution_count": 257,
   "id": "5f15e483-c481-42fc-9e7f-84911489e296",
   "metadata": {},
   "outputs": [
    {
     "name": "stdout",
     "output_type": "stream",
     "text": [
      "input sample: tensor([0., 1., 1., 0., 1., 0., 2., 1.])\n",
      "label_sample: tensor(2.)\n"
     ]
    }
   ],
   "source": [
    "# Access an individual sample\n",
    "sample = dataset[0]\n",
    "input_sample, label_sample = sample\n",
    "print('input sample:', input_sample)\n",
    "print('label_sample:', label_sample)"
   ]
  },
  {
   "cell_type": "code",
   "execution_count": 259,
   "id": "1643edc8-b553-4cda-84bd-c1e36d922a38",
   "metadata": {},
   "outputs": [],
   "source": [
    "# Batch size determines how many samples are taken from the dataset per iteration\n",
    "batch_size = 2\n",
    "# Shuffle parameter tells the dataloader to shuffle the data on each iteration\n",
    "shuffle = True"
   ]
  },
  {
   "cell_type": "code",
   "execution_count": 261,
   "id": "117805c5-fbac-448d-a614-eaabbc17e162",
   "metadata": {},
   "outputs": [],
   "source": [
    "# Create a DataLoader\n",
    "dataloader = DataLoader(dataset,\n",
    "                        batch_size=batch_size,\n",
    "                        shuffle=shuffle\n",
    ")"
   ]
  },
  {
   "cell_type": "code",
   "execution_count": 262,
   "id": "3356d254-bac2-47d5-a5ea-68d3358efdcd",
   "metadata": {},
   "outputs": [
    {
     "name": "stdout",
     "output_type": "stream",
     "text": [
      "batch inputs tensor([[0., 0., 1., 0., 1., 0., 4., 1.],\n",
      "        [0., 1., 1., 0., 1., 0., 2., 1.]])\n",
      "batch labels tensor([3., 2.])\n",
      "batch inputs tensor([[0., 1., 1., 0., 1., 0., 2., 1.],\n",
      "        [1., 0., 0., 1., 0., 0., 2., 1.]])\n",
      "batch labels tensor([2., 1.])\n",
      "batch inputs tensor([[0., 0., 1., 0., 0., 1., 0., 1.]])\n",
      "batch labels tensor([4.])\n"
     ]
    }
   ],
   "source": [
    "# Iterate over the dataloader\n",
    "# Each iteration will include 2 animals, but the last iteration would have only one since we have an odd number \n",
    "for batch_inputs, batch_labels in dataloader:\n",
    "    print('batch inputs', batch_inputs)\n",
    "    print('batch labels', batch_labels)"
   ]
  },
  {
   "cell_type": "code",
   "execution_count": null,
   "id": "47795bc9-1c79-4948-af2c-2fce702da911",
   "metadata": {},
   "outputs": [],
   "source": []
  },
  {
   "cell_type": "code",
   "execution_count": null,
   "id": "d686a90e-b5ff-4b7b-9e5d-47ae040580dd",
   "metadata": {},
   "outputs": [],
   "source": []
  },
  {
   "cell_type": "code",
   "execution_count": 263,
   "id": "f76359f3-9280-4d6e-8473-744b4f407e8e",
   "metadata": {},
   "outputs": [],
   "source": [
    "dataframe = pd.read_csv('water_potability.csv')"
   ]
  },
  {
   "cell_type": "code",
   "execution_count": 264,
   "id": "f0efa1a9-bb6d-4da6-b81d-1912d53b74b0",
   "metadata": {},
   "outputs": [],
   "source": [
    "# Load the different columns into two PyTorch tensors\n",
    "features = torch.tensor(np.array(\n",
    "  dataframe[['ph', 'Sulfate', 'Conductivity', 'Organic_carbon']])).float()\n",
    "target = torch.tensor(np.array(\n",
    "  dataframe['Potability'])).float()"
   ]
  },
  {
   "cell_type": "code",
   "execution_count": 265,
   "id": "c71a040a-d6db-4a2c-8125-ecad930729cc",
   "metadata": {},
   "outputs": [],
   "source": [
    "# Create a dataset from the two generated tensors\n",
    "dataset = TensorDataset(features, target)"
   ]
  },
  {
   "cell_type": "code",
   "execution_count": 268,
   "id": "55c50f79-2702-4fa0-ba25-0f2d3ae297f2",
   "metadata": {},
   "outputs": [
    {
     "data": {
      "text/plain": [
       "(tensor([0.5873, 0.6473, 0.2930, 0.6545]), tensor(0.))"
      ]
     },
     "execution_count": 268,
     "metadata": {},
     "output_type": "execute_result"
    }
   ],
   "source": [
    "# Preview\n",
    "dataset[0]"
   ]
  },
  {
   "cell_type": "code",
   "execution_count": 269,
   "id": "54a7fba3-1294-4358-87ac-3d5d385763d9",
   "metadata": {},
   "outputs": [],
   "source": [
    "# Create a dataloader using the above dataset\n",
    "dataloader = DataLoader(dataset, shuffle=True, batch_size=2)\n",
    "# Iterate over the data loader and unpack the values\n",
    "x, y = next(iter(dataloader))"
   ]
  },
  {
   "cell_type": "code",
   "execution_count": 270,
   "id": "600495b6-dc8d-4144-9cf2-1bcb2051b5a7",
   "metadata": {},
   "outputs": [
    {
     "data": {
      "text/plain": [
       "tensor([[0.4177, 0.6453, 0.6194, 0.2672],\n",
       "        [0.3387, 0.6273, 0.5351, 0.3732]])"
      ]
     },
     "execution_count": 270,
     "metadata": {},
     "output_type": "execute_result"
    }
   ],
   "source": [
    "x"
   ]
  },
  {
   "cell_type": "code",
   "execution_count": 271,
   "id": "a5015af2-314e-4312-88d6-87af8261467c",
   "metadata": {},
   "outputs": [
    {
     "data": {
      "text/plain": [
       "tensor([0., 0.])"
      ]
     },
     "execution_count": 271,
     "metadata": {},
     "output_type": "execute_result"
    }
   ],
   "source": [
    "y"
   ]
  },
  {
   "cell_type": "code",
   "execution_count": 272,
   "id": "514d90ee-8432-440a-9467-89e2652afb95",
   "metadata": {},
   "outputs": [],
   "source": [
    "# Create a model using the nn.Sequential API\n",
    "model = nn.Sequential(\n",
    "  nn.Linear(4, 16), \n",
    "  nn.Linear(16, 1)\n",
    ")"
   ]
  },
  {
   "cell_type": "code",
   "execution_count": 273,
   "id": "acb17e27-37ec-44b4-8a5a-4b04d97f0fca",
   "metadata": {},
   "outputs": [
    {
     "data": {
      "text/plain": [
       "tensor([[-0.0090],\n",
       "        [ 0.0138],\n",
       "        [ 0.0978],\n",
       "        ...,\n",
       "        [-0.0814],\n",
       "        [ 0.0306],\n",
       "        [-0.0118]], grad_fn=<AddmmBackward0>)"
      ]
     },
     "execution_count": 273,
     "metadata": {},
     "output_type": "execute_result"
    }
   ],
   "source": [
    "output = model(features)\n",
    "output"
   ]
  },
  {
   "cell_type": "markdown",
   "id": "00bc9fd4-29e4-4d8b-a08d-f8baf28a0b6a",
   "metadata": {},
   "source": [
    "----------"
   ]
  },
  {
   "cell_type": "markdown",
   "id": "907e6016-46b2-4bf5-bfe7-52f66e2ba091",
   "metadata": {},
   "source": [
    "# Evaluate performance"
   ]
  },
  {
   "cell_type": "markdown",
   "id": "8c88a008-7a92-4981-a941-b47b3a35cc38",
   "metadata": {},
   "source": [
    "| Dataset     | Percentage | Purpose                         |\n",
    "|-------------|------------|---------------------------------|\n",
    "| Training    | 80-90%     | Used to adjust the model's parameters |\n",
    "| Validation  | 10-20%     | Used for hyperparameter tuning  |\n",
    "| Testing     | 5-10%      | Only used once to calculate final metrics |"
   ]
  },
  {
   "cell_type": "markdown",
   "id": "6be3859b-e129-4a26-b699-cd0e422dfa28",
   "metadata": {},
   "source": [
    "Training loss:\n",
    "* sum up the loss for each iteration of the training set dataloader\n",
    "* at the end of the epoch, we calculate the mean training loss"
   ]
  },
  {
   "cell_type": "code",
   "execution_count": null,
   "id": "9033f7ae-09de-42b4-874b-3fc4d310d953",
   "metadata": {},
   "outputs": [],
   "source": [
    "training_loss = 0.0\n",
    "for i, data in enumerate(trainloader, 0):\n",
    "    # Run the forward pass\n",
    "...\n",
    "    # Calculate the loss\n",
    "    loss = criterion(outputs, labels)\n",
    "    # Calculate the gradients\n",
    "...\n",
    "    # Calculate and sum the loss\n",
    "    training_loss += loss.item()\n",
    "epoch_loss = training_loss / len(trainloader)"
   ]
  },
  {
   "cell_type": "markdown",
   "id": "a6feacab-128f-408c-a86f-c16e2582100c",
   "metadata": {},
   "source": [
    "Validation loss: \n",
    "* After the training epoch, we iterate over the validation set and calculate the average validation loss\n",
    "* The validation epoch loop is slightly different. We first need to use the dot-eval method of the model to put the model in evaluation mode, because some layers in PyTorch models behave differently at training versus validation stages.\n",
    "* We also add a Python context with torch-dot-no_grad, indicating we will not be performing gradient calculation in this epoch."
   ]
  },
  {
   "cell_type": "code",
   "execution_count": null,
   "id": "0e3f0223-1acb-465f-9198-7cd549d9ec8c",
   "metadata": {},
   "outputs": [],
   "source": [
    "validation_loss = 0.0\n",
    " model.eval() # Put model in evaluation mode\n",
    " with torch.no_grad(): # Speed up the forward pass\n",
    "   for i, data in enumerate(validationloader, 0):\n",
    "       # Run the forward pass\n",
    "       ...\n",
    "       # Calculate the loss\n",
    "       loss = criterion(outputs, labels)\n",
    "       validation_loss += loss.item()\n",
    " epoch_loss = validation_loss / len(validationloader)\n",
    " model.train()"
   ]
  },
  {
   "cell_type": "markdown",
   "id": "d44ee668-baf2-41da-9910-ab7e1036d2dd",
   "metadata": {},
   "source": [
    "# Torchmetrics"
   ]
  },
  {
   "cell_type": "code",
   "execution_count": 278,
   "id": "a4953eca-cd72-480e-b9a9-58288357cd14",
   "metadata": {},
   "outputs": [],
   "source": [
    "import torchmetrics"
   ]
  },
  {
   "cell_type": "code",
   "execution_count": null,
   "id": "eb250427-e053-4a36-81ed-0400091b4a37",
   "metadata": {},
   "outputs": [],
   "source": [
    "# Create accuracy metric using torch metrics\n",
    "metric = torchmetrics.Accuracy(task=\"multiclass\", num_classes=3)\n",
    "for i, data in enumerate(dataloader, 0):\n",
    " features, labels = data\n",
    " outputs = model(features)\n",
    " # Calculate accuracy over the batch\n",
    " acc = metric(output, labels.argmax(dim=-1))\n",
    "# Calculate accuracy over the whole epoch\n",
    "acc = metric.compute()\n",
    "print(f\"Accuracy on all data: {acc}\")\n",
    "# Reset the metric for the next epoch (training or validation)\n",
    "metric.reset()"
   ]
  },
  {
   "cell_type": "markdown",
   "id": "869ddab9-f544-42b8-b9e4-7e2998565977",
   "metadata": {},
   "source": [
    "# Fight overfitting"
   ]
  },
  {
   "cell_type": "markdown",
   "id": "f8ec906d-dd22-4cd9-976d-b5bb180af9bb",
   "metadata": {},
   "source": [
    "**Overfitting** - the model does not generalize to unseen data.\n",
    "* model memorizes training data\n",
    "* good performances on the training set / poor performances on the validation set"
   ]
  },
  {
   "cell_type": "markdown",
   "id": "b833a894-4690-419e-b4ad-ba968ed8c44c",
   "metadata": {},
   "source": [
    "| Problem     | Solution |\n",
    "|-------------|------------|\n",
    "| Dataset is not large enough    | Get more data / use data augmentation    | \n",
    "| Model has too much capacity  | Reduce model size / add dropout    | \n",
    "| Weights are too large     | Weight decay     | "
   ]
  },
  {
   "cell_type": "markdown",
   "id": "9db0a305-69ad-48e7-8bee-28e912382979",
   "metadata": {},
   "source": [
    "**Regularization** using a dropout layer:\n",
    "* Randomly zeroes out elements of the input tensor during training\n",
    "* Dropout is added after the activation function\n",
    "* Behaves differently during training and evaluation; we must remember to switch modes using `model.train()` and `model.eval()`"
   ]
  },
  {
   "cell_type": "code",
   "execution_count": 280,
   "id": "d7b04d56-0db9-47ab-b5c7-e3b6955acfa3",
   "metadata": {},
   "outputs": [],
   "source": [
    "model = nn.Sequential(nn.Linear(8, 4),\n",
    "                   nn.ReLU(),\n",
    "                   nn.Dropout(p=0.5)) # Set the droupout probability"
   ]
  },
  {
   "cell_type": "code",
   "execution_count": 287,
   "id": "3b9e62e0-1948-4343-aa08-a478d0b528a3",
   "metadata": {},
   "outputs": [],
   "source": [
    "features = torch.randn((1, 8))"
   ]
  },
  {
   "cell_type": "code",
   "execution_count": 290,
   "id": "2c8b7931-3413-487e-ae70-8beb1714c27c",
   "metadata": {},
   "outputs": [
    {
     "data": {
      "text/plain": [
       "tensor([[0.0000, 0.0000, 0.0000, 3.0710]], grad_fn=<MulBackward0>)"
      ]
     },
     "execution_count": 290,
     "metadata": {},
     "output_type": "execute_result"
    }
   ],
   "source": [
    "model(features)"
   ]
  },
  {
   "cell_type": "markdown",
   "id": "59ac8726-177d-4504-b4ee-a70a0351c884",
   "metadata": {},
   "source": [
    "**Weight decay**\n",
    "* Optimizer's weight_decay parameter takes values between zero and one (Typically small value, e.g. 1e-3)\n",
    "* Weight decay adds penalty to loss function to discourage large weights and biases \n",
    "* The higher the parameter, the less likely the model is to overfit"
   ]
  },
  {
   "cell_type": "code",
   "execution_count": 291,
   "id": "06176aea-aff9-4cfe-86bc-898961d95d0c",
   "metadata": {},
   "outputs": [],
   "source": [
    "optimizer = optim.SGD(model.parameters(), lr=1e-3, weight_decay=1e-4)"
   ]
  },
  {
   "cell_type": "code",
   "execution_count": 292,
   "id": "844d2acb-cc99-4b20-8ed6-7570f79feb18",
   "metadata": {},
   "outputs": [
    {
     "data": {
      "text/plain": [
       "SGD (\n",
       "Parameter Group 0\n",
       "    dampening: 0\n",
       "    differentiable: False\n",
       "    foreach: None\n",
       "    lr: 0.001\n",
       "    maximize: False\n",
       "    momentum: 0\n",
       "    nesterov: False\n",
       "    weight_decay: 0.0001\n",
       ")"
      ]
     },
     "execution_count": 292,
     "metadata": {},
     "output_type": "execute_result"
    }
   ],
   "source": [
    "optimizer"
   ]
  },
  {
   "cell_type": "markdown",
   "id": "8402c3c0-7ec5-4d01-844c-5ce278078b6f",
   "metadata": {},
   "source": [
    "-------"
   ]
  },
  {
   "cell_type": "markdown",
   "id": "334bdacc-8507-4660-8e59-b58a8b6937f3",
   "metadata": {},
   "source": [
    "# Improve model's performance"
   ]
  },
  {
   "cell_type": "markdown",
   "id": "b3a3142c-8596-4580-8efb-06fa057717a7",
   "metadata": {},
   "source": [
    "* (1) Overfit the training set:\n",
    "    * showcases that the problem is solvable \n",
    "    * sets a performance baseline  \n",
    "* (2) Reduce overfitting: \n",
    "     * improve perfrormance on the validation set  \n",
    "* (3) Fine-tune hyperparameters"
   ]
  },
  {
   "cell_type": "markdown",
   "id": "14a5bf91-b050-4ebd-857b-82881ffbebc8",
   "metadata": {},
   "source": [
    "Step 1: overfit the training set  \n",
    "Modify the training loop to overfit a single data point (batch size of 1)"
   ]
  },
  {
   "cell_type": "code",
   "execution_count": null,
   "id": "e3dbfb58-29f2-4ac5-b04d-ed025c226467",
   "metadata": {},
   "outputs": [],
   "source": [
    "# This should reach 1.0 accuracy and 0 loss\n",
    "# This helps finding bugs in the code\n",
    "features, labels = next(iter(trainloader))\n",
    "for i in range(1e3):\n",
    "    outputs = model(features)\n",
    "    loss = criterion(outputs, labels)\n",
    "    loss.backward()\n",
    "    optimizer.step()"
   ]
  },
  {
   "cell_type": "code",
   "execution_count": null,
   "id": "f214f26d-aef5-4af1-bdf0-da2e35594ee5",
   "metadata": {},
   "outputs": [],
   "source": [
    "# Goal: minimize the training loss create large enough model\n",
    "# Use a default learning rate"
   ]
  },
  {
   "cell_type": "code",
   "execution_count": null,
   "id": "742d41e7-6974-4fce-bc3f-1d8fcb329f90",
   "metadata": {},
   "outputs": [],
   "source": [
    "Step 2: reduce overfitting\n",
    "Goal: maximize the validation accuracy\n",
    "Experiment with:\n",
    "    Dropout\n",
    "    Data augmentation Weight decay\n",
    "    Reducing model capacity\n",
    "    Keep track of each hyperparameter and report maximum validation accuracy"
   ]
  },
  {
   "cell_type": "code",
   "execution_count": null,
   "id": "53931303-5b22-448c-a2c5-536013b83d02",
   "metadata": {},
   "outputs": [],
   "source": [
    "Step 3: fine-tune hyperparameters\n"
   ]
  },
  {
   "cell_type": "code",
   "execution_count": null,
   "id": "d6624f13-a947-4d6b-8cc7-b5f8c511e6b6",
   "metadata": {},
   "outputs": [],
   "source": [
    "# Grid search\n",
    "for factor in range(2, 6):\n",
    "    lr = 10 ** -factor"
   ]
  },
  {
   "cell_type": "code",
   "execution_count": null,
   "id": "e54a998d-adc4-4798-a135-b68bced9c765",
   "metadata": {},
   "outputs": [],
   "source": [
    "# Random search\n",
    "factor = np.random.uniform(2, 6)\n",
    "lr = 10 ** -factor"
   ]
  },
  {
   "cell_type": "code",
   "execution_count": null,
   "id": "076d39d4-4a6d-41d1-8133-96843ebaf078",
   "metadata": {},
   "outputs": [],
   "source": [
    "values = []\n",
    "for idx in range(10):\n",
    "    # Randomly sample a learning rate factor between 0.01 and 0.0001\n",
    "    factor = np.random.uniform(2, 4)\n",
    "    lr = 10 ** -factor\n",
    "    \n",
    "    # Randomly sample a momentum between 0.85 and 0.99\n",
    "    momentum = np.random.uniform(0.85, 0.99)\n",
    "    \n",
    "    values.append((lr, momentum))"
   ]
  },
  {
   "cell_type": "markdown",
   "id": "84e487a1-d39b-43a2-a6b8-9e43be0cf000",
   "metadata": {},
   "source": [
    "--------"
   ]
  },
  {
   "cell_type": "markdown",
   "id": "78ebfe0e-ef4f-478d-96af-d920b200503c",
   "metadata": {},
   "source": [
    "# Object-Oriended Programming"
   ]
  },
  {
   "cell_type": "code",
   "execution_count": 304,
   "id": "893de213-44de-424e-ae26-6c9447fc33d3",
   "metadata": {},
   "outputs": [],
   "source": [
    "import pandas as pd"
   ]
  },
  {
   "cell_type": "code",
   "execution_count": 306,
   "id": "f52ec147-6bc7-4d0c-bff0-b4ff51512250",
   "metadata": {},
   "outputs": [],
   "source": [
    "df = pd.read_csv('water_potability.csv')"
   ]
  },
  {
   "cell_type": "code",
   "execution_count": 307,
   "id": "e3f875de-23b7-4e01-bc2d-61c11f43b8ed",
   "metadata": {},
   "outputs": [
    {
     "data": {
      "text/html": [
       "<div>\n",
       "<style scoped>\n",
       "    .dataframe tbody tr th:only-of-type {\n",
       "        vertical-align: middle;\n",
       "    }\n",
       "\n",
       "    .dataframe tbody tr th {\n",
       "        vertical-align: top;\n",
       "    }\n",
       "\n",
       "    .dataframe thead th {\n",
       "        text-align: right;\n",
       "    }\n",
       "</style>\n",
       "<table border=\"1\" class=\"dataframe\">\n",
       "  <thead>\n",
       "    <tr style=\"text-align: right;\">\n",
       "      <th></th>\n",
       "      <th>ph</th>\n",
       "      <th>Hardness</th>\n",
       "      <th>Solids</th>\n",
       "      <th>Chloramines</th>\n",
       "      <th>Sulfate</th>\n",
       "      <th>Conductivity</th>\n",
       "      <th>Organic_carbon</th>\n",
       "      <th>Trihalomethanes</th>\n",
       "      <th>Turbidity</th>\n",
       "      <th>Potability</th>\n",
       "    </tr>\n",
       "  </thead>\n",
       "  <tbody>\n",
       "    <tr>\n",
       "      <th>0</th>\n",
       "      <td>0.587349</td>\n",
       "      <td>0.577747</td>\n",
       "      <td>0.386298</td>\n",
       "      <td>0.568199</td>\n",
       "      <td>0.647347</td>\n",
       "      <td>0.292985</td>\n",
       "      <td>0.654522</td>\n",
       "      <td>0.795029</td>\n",
       "      <td>0.630115</td>\n",
       "      <td>0</td>\n",
       "    </tr>\n",
       "    <tr>\n",
       "      <th>1</th>\n",
       "      <td>0.643654</td>\n",
       "      <td>0.441300</td>\n",
       "      <td>0.314381</td>\n",
       "      <td>0.439304</td>\n",
       "      <td>0.514545</td>\n",
       "      <td>0.356685</td>\n",
       "      <td>0.377248</td>\n",
       "      <td>0.202914</td>\n",
       "      <td>0.520358</td>\n",
       "      <td>0</td>\n",
       "    </tr>\n",
       "    <tr>\n",
       "      <th>2</th>\n",
       "      <td>0.388934</td>\n",
       "      <td>0.470876</td>\n",
       "      <td>0.506122</td>\n",
       "      <td>0.524364</td>\n",
       "      <td>0.561537</td>\n",
       "      <td>0.142913</td>\n",
       "      <td>0.249922</td>\n",
       "      <td>0.401487</td>\n",
       "      <td>0.219973</td>\n",
       "      <td>0</td>\n",
       "    </tr>\n",
       "    <tr>\n",
       "      <th>3</th>\n",
       "      <td>0.725820</td>\n",
       "      <td>0.715942</td>\n",
       "      <td>0.506141</td>\n",
       "      <td>0.521683</td>\n",
       "      <td>0.751819</td>\n",
       "      <td>0.148683</td>\n",
       "      <td>0.467200</td>\n",
       "      <td>0.658678</td>\n",
       "      <td>0.242428</td>\n",
       "      <td>0</td>\n",
       "    </tr>\n",
       "    <tr>\n",
       "      <th>4</th>\n",
       "      <td>0.610517</td>\n",
       "      <td>0.532588</td>\n",
       "      <td>0.237701</td>\n",
       "      <td>0.270288</td>\n",
       "      <td>0.495155</td>\n",
       "      <td>0.494792</td>\n",
       "      <td>0.409721</td>\n",
       "      <td>0.469762</td>\n",
       "      <td>0.585049</td>\n",
       "      <td>0</td>\n",
       "    </tr>\n",
       "    <tr>\n",
       "      <th>...</th>\n",
       "      <td>...</td>\n",
       "      <td>...</td>\n",
       "      <td>...</td>\n",
       "      <td>...</td>\n",
       "      <td>...</td>\n",
       "      <td>...</td>\n",
       "      <td>...</td>\n",
       "      <td>...</td>\n",
       "      <td>...</td>\n",
       "      <td>...</td>\n",
       "    </tr>\n",
       "    <tr>\n",
       "      <th>2006</th>\n",
       "      <td>0.636224</td>\n",
       "      <td>0.580511</td>\n",
       "      <td>0.277748</td>\n",
       "      <td>0.418063</td>\n",
       "      <td>0.522486</td>\n",
       "      <td>0.342184</td>\n",
       "      <td>0.310364</td>\n",
       "      <td>0.402799</td>\n",
       "      <td>0.627156</td>\n",
       "      <td>1</td>\n",
       "    </tr>\n",
       "    <tr>\n",
       "      <th>2007</th>\n",
       "      <td>0.470143</td>\n",
       "      <td>0.548826</td>\n",
       "      <td>0.301347</td>\n",
       "      <td>0.538273</td>\n",
       "      <td>0.498565</td>\n",
       "      <td>0.231359</td>\n",
       "      <td>0.565061</td>\n",
       "      <td>0.175889</td>\n",
       "      <td>0.395061</td>\n",
       "      <td>1</td>\n",
       "    </tr>\n",
       "    <tr>\n",
       "      <th>2008</th>\n",
       "      <td>0.817826</td>\n",
       "      <td>0.087434</td>\n",
       "      <td>0.656389</td>\n",
       "      <td>0.670774</td>\n",
       "      <td>0.369089</td>\n",
       "      <td>0.431872</td>\n",
       "      <td>0.563265</td>\n",
       "      <td>0.285745</td>\n",
       "      <td>0.578674</td>\n",
       "      <td>1</td>\n",
       "    </tr>\n",
       "    <tr>\n",
       "      <th>2009</th>\n",
       "      <td>0.424187</td>\n",
       "      <td>0.464092</td>\n",
       "      <td>0.459656</td>\n",
       "      <td>0.541633</td>\n",
       "      <td>0.615572</td>\n",
       "      <td>0.388360</td>\n",
       "      <td>0.397780</td>\n",
       "      <td>0.449156</td>\n",
       "      <td>0.440004</td>\n",
       "      <td>1</td>\n",
       "    </tr>\n",
       "    <tr>\n",
       "      <th>2010</th>\n",
       "      <td>0.322425</td>\n",
       "      <td>0.492891</td>\n",
       "      <td>0.841409</td>\n",
       "      <td>0.492136</td>\n",
       "      <td>0.656047</td>\n",
       "      <td>0.588709</td>\n",
       "      <td>0.471422</td>\n",
       "      <td>0.503458</td>\n",
       "      <td>0.591867</td>\n",
       "      <td>1</td>\n",
       "    </tr>\n",
       "  </tbody>\n",
       "</table>\n",
       "<p>2011 rows × 10 columns</p>\n",
       "</div>"
      ],
      "text/plain": [
       "            ph  Hardness    Solids  Chloramines   Sulfate  Conductivity  \\\n",
       "0     0.587349  0.577747  0.386298     0.568199  0.647347      0.292985   \n",
       "1     0.643654  0.441300  0.314381     0.439304  0.514545      0.356685   \n",
       "2     0.388934  0.470876  0.506122     0.524364  0.561537      0.142913   \n",
       "3     0.725820  0.715942  0.506141     0.521683  0.751819      0.148683   \n",
       "4     0.610517  0.532588  0.237701     0.270288  0.495155      0.494792   \n",
       "...        ...       ...       ...          ...       ...           ...   \n",
       "2006  0.636224  0.580511  0.277748     0.418063  0.522486      0.342184   \n",
       "2007  0.470143  0.548826  0.301347     0.538273  0.498565      0.231359   \n",
       "2008  0.817826  0.087434  0.656389     0.670774  0.369089      0.431872   \n",
       "2009  0.424187  0.464092  0.459656     0.541633  0.615572      0.388360   \n",
       "2010  0.322425  0.492891  0.841409     0.492136  0.656047      0.588709   \n",
       "\n",
       "      Organic_carbon  Trihalomethanes  Turbidity  Potability  \n",
       "0           0.654522         0.795029   0.630115           0  \n",
       "1           0.377248         0.202914   0.520358           0  \n",
       "2           0.249922         0.401487   0.219973           0  \n",
       "3           0.467200         0.658678   0.242428           0  \n",
       "4           0.409721         0.469762   0.585049           0  \n",
       "...              ...              ...        ...         ...  \n",
       "2006        0.310364         0.402799   0.627156           1  \n",
       "2007        0.565061         0.175889   0.395061           1  \n",
       "2008        0.563265         0.285745   0.578674           1  \n",
       "2009        0.397780         0.449156   0.440004           1  \n",
       "2010        0.471422         0.503458   0.591867           1  \n",
       "\n",
       "[2011 rows x 10 columns]"
      ]
     },
     "execution_count": 307,
     "metadata": {},
     "output_type": "execute_result"
    }
   ],
   "source": [
    "df"
   ]
  },
  {
   "cell_type": "markdown",
   "id": "bd003d91-7974-4a78-8947-d045aea8b6f8",
   "metadata": {},
   "source": [
    "To train a model: \n",
    "* build a PyTorch dataset\n",
    "* set up a DataLoader \n",
    "* define a model"
   ]
  },
  {
   "cell_type": "code",
   "execution_count": 308,
   "id": "780a00aa-ec90-41a3-b617-0218544acdee",
   "metadata": {},
   "outputs": [],
   "source": [
    "from torch.utils.data import Dataset"
   ]
  },
  {
   "cell_type": "code",
   "execution_count": 309,
   "id": "0df99ab9-ca0f-4a3e-b2b0-8e699c2a29c1",
   "metadata": {},
   "outputs": [],
   "source": [
    "class WaterDataset(Dataset):\n",
    "    def __init__(self, csv_path):\n",
    "        # Ensure that the custom class behaves like the parent class\n",
    "        super().__init__()\n",
    "        # Read the csv an store it in the data attribute as numpy array\n",
    "        df = pd.read_csv(csv_path)\n",
    "        self.data = df.to_numpy()\n",
    "    \n",
    "    def __len__(self):\n",
    "        \"\"\"Get total size of a dataset - the first element of datas shape\"\"\"\n",
    "        return self.data.shape[0]\n",
    "\n",
    "    def __getitem__(self, idx):\n",
    "        \"\"\"Return features and label for a single sample at index idx\"\"\" \n",
    "        features = self.data[idx, :-1]\n",
    "        label = self.data[idx, -1]\n",
    "        return features, label"
   ]
  },
  {
   "cell_type": "code",
   "execution_count": 310,
   "id": "b42960ee-8b95-42d6-b0c2-6088f643218f",
   "metadata": {},
   "outputs": [],
   "source": [
    "# Create the instance of the custom class \n",
    "dataset_train = WaterDataset('water_potability.csv')"
   ]
  },
  {
   "cell_type": "code",
   "execution_count": 316,
   "id": "04d82cf3-6006-4e33-9551-96123f6982c0",
   "metadata": {},
   "outputs": [
    {
     "data": {
      "text/plain": [
       "2011"
      ]
     },
     "execution_count": 316,
     "metadata": {},
     "output_type": "execute_result"
    }
   ],
   "source": [
    "len(dataset_train)"
   ]
  },
  {
   "cell_type": "code",
   "execution_count": 317,
   "id": "397f3f7e-bdc3-463c-8be9-d1a6ec533ab9",
   "metadata": {},
   "outputs": [],
   "source": [
    "from torch.utils.data import DataLoader"
   ]
  },
  {
   "cell_type": "code",
   "execution_count": 318,
   "id": "79bfda61-6e04-4661-aeb2-693b8f2fe245",
   "metadata": {},
   "outputs": [],
   "source": [
    "dataloader_train = DataLoader(\n",
    "    dataset_train,\n",
    "    batch_size=2,\n",
    "    shuffle=True,\n",
    ")"
   ]
  },
  {
   "cell_type": "code",
   "execution_count": 323,
   "id": "3d3f0f4f-d74e-4516-854d-88412b44b945",
   "metadata": {},
   "outputs": [],
   "source": [
    "# get one batch from the Dataloader\n",
    "features, labels = next(iter(dataloader_train))"
   ]
  },
  {
   "cell_type": "code",
   "execution_count": 324,
   "id": "6cc005d3-1952-49c2-aa8d-a91b59885414",
   "metadata": {},
   "outputs": [
    {
     "data": {
      "text/plain": [
       "tensor([[0.5958, 0.6207, 0.2228, 0.4080, 0.5640, 0.3810, 0.6128, 0.5574, 0.4707],\n",
       "        [0.5564, 0.4374, 0.5669, 0.5438, 0.6570, 0.2591, 0.3647, 0.4480, 0.3488]],\n",
       "       dtype=torch.float64)"
      ]
     },
     "execution_count": 324,
     "metadata": {},
     "output_type": "execute_result"
    }
   ],
   "source": [
    "features"
   ]
  },
  {
   "cell_type": "code",
   "execution_count": 325,
   "id": "4b616d92-93f3-437a-83d9-622d8b573a5c",
   "metadata": {},
   "outputs": [
    {
     "data": {
      "text/plain": [
       "tensor([1., 1.], dtype=torch.float64)"
      ]
     },
     "execution_count": 325,
     "metadata": {},
     "output_type": "execute_result"
    }
   ],
   "source": [
    "labels"
   ]
  },
  {
   "cell_type": "markdown",
   "id": "5fcb742c-abd1-45bb-b939-aa7984c8ceed",
   "metadata": {},
   "source": [
    "**Sequential models** are great for small models: "
   ]
  },
  {
   "cell_type": "code",
   "execution_count": 326,
   "id": "6a9a6507-4685-404e-b417-16ed5fc1e24f",
   "metadata": {},
   "outputs": [],
   "source": [
    "net = nn.Sequential(\n",
    "    nn.Linear(9, 16),\n",
    "    nn.ReLU(),\n",
    "    nn.Linear(16, 8),\n",
    "    nn.ReLU(),\n",
    "    nn.Linear(8, 1),\n",
    "    nn.Sigmoid(),\n",
    ")"
   ]
  },
  {
   "cell_type": "markdown",
   "id": "c7feb688-3165-40d8-b192-5411e66b5634",
   "metadata": {},
   "source": [
    "Using classes gives us more flexibility to customize as complexity grows:"
   ]
  },
  {
   "cell_type": "code",
   "execution_count": 327,
   "id": "3e0559bc-3de0-4382-be0e-9ce2d52a9ae6",
   "metadata": {},
   "outputs": [],
   "source": [
    "class Net(nn.Module):\n",
    "     def __init__(self):\n",
    "         \"\"\"Contains the layers to use\"\"\"\n",
    "         super(Net, self).__init__()\n",
    "         self.fc1 = nn.Linear(9, 16)\n",
    "         self.fc2 = nn.Linear(16, 8)\n",
    "         self.fc3 = nn.Linear(8, 1)\n",
    "         \n",
    "     def forward(self, x):\n",
    "         \"\"\"Describes what happens to the input when passed to the model\"\"\"\n",
    "         x = nn.functional.relu(self.fc1(x))\n",
    "         x = nn.functional.relu(self.fc2(x))\n",
    "         x = nn.functional.sigmoid(self.fc3(x))\n",
    "         return x"
   ]
  },
  {
   "cell_type": "code",
   "execution_count": 328,
   "id": "469e73f2-0cac-456a-b81e-7a9f7dfd3cbb",
   "metadata": {},
   "outputs": [],
   "source": [
    "# Instantiate the object of a custom class \n",
    "net = Net()"
   ]
  },
  {
   "cell_type": "markdown",
   "id": "bdfb43ef-a386-4ce8-a455-ce12f1c1ab6b",
   "metadata": {},
   "source": [
    "--------"
   ]
  },
  {
   "cell_type": "markdown",
   "id": "a471063c-f8ff-43a9-9507-3b6b8baa8aae",
   "metadata": {},
   "source": [
    "# Optimizers, training, and evaluation"
   ]
  },
  {
   "cell_type": "markdown",
   "id": "4b970aa4-cc49-40e0-9281-371542191843",
   "metadata": {},
   "source": [
    "Training loop:\n",
    "* define loss function (**criterion**):\n",
    "    * **BCELoss** - **Binary Cross-Entropy**\n",
    "* define optimizer\n",
    "    * **SGD** - **Stochastic Gradient Descen**\n",
    "* Iterate over epochs and training batches\n",
    "* Clear gradients\n",
    "* Forward pass: get model's outputs Compute loss\n",
    "* Compute gradients\n",
    "* Optimizer's step: update params"
   ]
  },
  {
   "cell_type": "code",
   "execution_count": 329,
   "id": "eb1b0909-6715-4663-848a-45e3c3303994",
   "metadata": {},
   "outputs": [],
   "source": [
    "import torch.nn as nn\n",
    "import torch.optim as optim"
   ]
  },
  {
   "cell_type": "code",
   "execution_count": 331,
   "id": "e9b5cda3-fa26-469d-bbfb-d08e5db99843",
   "metadata": {},
   "outputs": [],
   "source": [
    "criterion = nn.BCELoss()\n",
    "optimizer = optim.SGD(net.parameters(), lr=0.01)"
   ]
  },
  {
   "cell_type": "code",
   "execution_count": null,
   "id": "1df804fd-67b8-4c75-a539-faf68f02f9a6",
   "metadata": {},
   "outputs": [],
   "source": [
    "for epoch in range(1000):\n",
    "    for features, labels in dataloader_train:\n",
    "        # Clear gradients\n",
    "        optimizer.zero_grad()\n",
    "        # Propagate \n",
    "        outputs = net(features)\n",
    "        # Compute loss \n",
    "        loss = criterion(outputs, labels.view(-1, 1))\n",
    "        # Backpropagate - compute gradients\n",
    "        loss.backward()\n",
    "        # Update parameters \n",
    "        optimizer.step()"
   ]
  },
  {
   "cell_type": "markdown",
   "id": "9aeb5104-a0d5-4c97-9fb2-433c5b0cca41",
   "metadata": {},
   "source": [
    "**Stochastic Gradient Descent (SGD)**  \n",
    "Update depends on learning rate   \n",
    "Simple and efficient, for basic models   \n",
    "Rarely used in practice  "
   ]
  },
  {
   "cell_type": "code",
   "execution_count": 334,
   "id": "8437e8aa-8350-405f-a6f2-3e455a9edd28",
   "metadata": {},
   "outputs": [],
   "source": [
    "optimizer = optim.SGD(net.parameters(), lr=0.01)"
   ]
  },
  {
   "cell_type": "markdown",
   "id": "8b56f1cf-4176-41a0-9d4b-b76e15a234de",
   "metadata": {},
   "source": [
    "**Adaptive Gradient (Adagrad)**  \n",
    "Adapts learning rate for each parameter   \n",
    "Good for sparse data   \n",
    "May decrease the learning rate too fast"
   ]
  },
  {
   "cell_type": "code",
   "execution_count": 335,
   "id": "92902d48-38bc-40d5-adb8-a36077842767",
   "metadata": {},
   "outputs": [],
   "source": [
    "optimizer = optim.Adagrad(net.parameters(), lr=0.01)"
   ]
  },
  {
   "cell_type": "markdown",
   "id": "88338b71-c957-4c48-ba5f-3a6ebf8e1edb",
   "metadata": {},
   "source": [
    "**Root Mean Square Propagation (RMSprop)**"
   ]
  },
  {
   "cell_type": "markdown",
   "id": "7ec8bb55-fe6c-4be7-a550-7475860a5073",
   "metadata": {},
   "source": [
    "Update for each parameter based on the size of its previous gradients"
   ]
  },
  {
   "cell_type": "code",
   "execution_count": 336,
   "id": "f3a1e92a-9787-4cb0-9acd-144e2a74150e",
   "metadata": {},
   "outputs": [],
   "source": [
    "optimizer = optim.RMSprop(net.parameters(), lr=0.01)"
   ]
  },
  {
   "cell_type": "markdown",
   "id": "7c9ab8eb-9b1d-413a-9547-11e060341371",
   "metadata": {},
   "source": [
    "**Adaptive Moment Estimation (Adam)**  \n",
    "Arguably the most versatile and widely used   \n",
    "RMSprop + gradient momentum  \n",
    "Often used as the go-to optimizer  "
   ]
  },
  {
   "cell_type": "code",
   "execution_count": 338,
   "id": "531283a2-dc89-495d-97e0-84d5dacdbd8b",
   "metadata": {},
   "outputs": [],
   "source": [
    "optimizer = optim.Adam(net.parameters(), lr=0.01)"
   ]
  },
  {
   "cell_type": "code",
   "execution_count": null,
   "id": "dc30425b-c831-485a-9f9a-59e19828fcd7",
   "metadata": {},
   "outputs": [],
   "source": [
    "import torch.optim as optim\n",
    "\n",
    "net = Net()\n",
    "\n",
    "# Define the SGD optimizer\n",
    "optimizer = optim.SGD(net.parameters(), lr=0.001)\n",
    "\n",
    "train_model(\n",
    "    optimizer=optimizer,\n",
    "    net=net,\n",
    "    num_epochs=10,\n",
    ")"
   ]
  },
  {
   "cell_type": "markdown",
   "id": "6e634c22-b697-47c4-842d-9816d8b06175",
   "metadata": {},
   "source": [
    "------------"
   ]
  },
  {
   "cell_type": "markdown",
   "id": "038f4459-53d2-407f-af8f-5d3547266f3a",
   "metadata": {},
   "source": [
    "# Evaluation"
   ]
  },
  {
   "cell_type": "code",
   "execution_count": 340,
   "id": "bd21196d-2bb5-481f-a2bc-a64bfe6a6588",
   "metadata": {},
   "outputs": [],
   "source": [
    "from torchmetrics import Accuracy"
   ]
  },
  {
   "cell_type": "code",
   "execution_count": 341,
   "id": "9b39bd90-a84d-4ec6-af29-50fdaf11d9a9",
   "metadata": {},
   "outputs": [],
   "source": [
    "# Set up accuracy metric \n",
    "acc = Accuracy(task=\"binary\")"
   ]
  },
  {
   "cell_type": "code",
   "execution_count": null,
   "id": "091c3a76-71a0-4b22-80cb-ec9302230071",
   "metadata": {},
   "outputs": [],
   "source": [
    "# Put model in eval mode and iterate over test data batches with no gradients\n",
    "net.eval()\n",
    "with torch.no_grad():\n",
    " for features, labels in dataloader_test:\n",
    "     # Pass data to model to get predicted probabilities\n",
    "     outputs = net(features)\n",
    "     # Compute predicted labels\n",
    "     preds = (outputs >= 0.5).float()\n",
    "     # Update accuracy metric\n",
    "     acc(preds, labels.view(-1, 1))"
   ]
  },
  {
   "cell_type": "code",
   "execution_count": null,
   "id": "1106fe79-86d2-4ee3-b703-f4517f2ae2e9",
   "metadata": {},
   "outputs": [],
   "source": [
    "# Compute and print the overall accuracy\n",
    "accuracy = acc.compute()\n",
    "print(f\"Accuracy: {accuracy}\")"
   ]
  },
  {
   "cell_type": "markdown",
   "id": "0620cde4-7de3-4a40-82ee-0c86af22a1ce",
   "metadata": {},
   "source": [
    "---------"
   ]
  },
  {
   "cell_type": "markdown",
   "id": "3ea8079c-22b4-4bc3-8821-fd866da88f92",
   "metadata": {},
   "source": [
    "# Vanishing and exploding gradients"
   ]
  },
  {
   "cell_type": "markdown",
   "id": "4f5c408c-8513-41cf-bd11-549b94ab0561",
   "metadata": {},
   "source": [
    "* **Vanishing gradients**\n",
    "    * Gradients get smaller and smaller during backward pass\n",
    "    * Earlier layers get small parameter updates \n",
    "    * Model doesn't learn\n",
    "* **Exploding gradients**\n",
    "    * Gradients get bigger and bigger \n",
    "    * Parameter updates are too large \n",
    "    * Training diverges"
   ]
  },
  {
   "cell_type": "markdown",
   "id": "68221f80-0e8a-4b06-8ac8-b9801274ffea",
   "metadata": {},
   "source": [
    "Solution to unstable gradients: \n",
    "1. Proper weights initialization\n",
    "2. Good activations\n",
    "3. Batch normalization"
   ]
  },
  {
   "cell_type": "code",
   "execution_count": 345,
   "id": "36b5fd85-2b64-4f85-bf69-d84425318ba1",
   "metadata": {},
   "outputs": [
    {
     "name": "stdout",
     "output_type": "stream",
     "text": [
      "Parameter containing:\n",
      "tensor([[-0.0284,  0.2466,  0.1711, -0.2987, -0.3480, -0.0218,  0.2176,  0.2545]],\n",
      "       requires_grad=True)\n"
     ]
    }
   ],
   "source": [
    "# Get weights\n",
    "layer = nn.Linear(8, 1)\n",
    "print(layer.weight)"
   ]
  },
  {
   "cell_type": "markdown",
   "id": "4808eaeb-3847-4481-a2d6-3b03586a3e87",
   "metadata": {},
   "source": [
    "Good initialization ensures:\n",
    "* Variance of layer inputs = variance of layer outputs \n",
    "* Variance of gradients the same before and after a layer  "
   ]
  },
  {
   "cell_type": "markdown",
   "id": "24b81b30-ad2b-451a-9b99-b7b260364aa6",
   "metadata": {},
   "source": [
    "How to achieve this depends on the activation:\n",
    "* For ReLU and similar, we can use He/Kaiming initialization"
   ]
  },
  {
   "cell_type": "code",
   "execution_count": 346,
   "id": "7d64e268-089a-4af9-98cd-90e1c63a8a92",
   "metadata": {},
   "outputs": [
    {
     "name": "stdout",
     "output_type": "stream",
     "text": [
      "Parameter containing:\n",
      "tensor([[ 0.1498,  0.1678,  0.4096,  0.7964,  0.8137,  0.4881, -0.6439, -0.6895]],\n",
      "       requires_grad=True)\n"
     ]
    }
   ],
   "source": [
    "import torch.nn.init as init\n",
    "\n",
    "init.kaiming_uniform_(layer.weight)\n",
    "print(layer.weight)"
   ]
  },
  {
   "cell_type": "code",
   "execution_count": 348,
   "id": "515a12d9-afb6-4577-9fd0-d7eeebf302ce",
   "metadata": {},
   "outputs": [],
   "source": [
    "import torch.nn as nn\n",
    "import torch.nn.init as init\n",
    "\n",
    "class Net(nn.Module):\n",
    "    def __init__(self):\n",
    "        super(Net, self).__init__()\n",
    "        self.fc1 = nn.Linear(9, 16)\n",
    "        self.fc2 = nn.Linear(16, 8)\n",
    "        self.fc3 = nn.Linear(8, 1)\n",
    "         \n",
    "        init.kaiming_uniform_(self.fc1.weight)\n",
    "        init.kaiming_uniform_(self.fc2.weight)\n",
    "        init.kaiming_uniform_(\n",
    "            self.fc3.weight,\n",
    "            nonlinearity=\"sigmoid\", # Specify what functions we are using on the last layer since it's not linear \n",
    "         )\n",
    "        \n",
    "    def forward(self, x):\n",
    "        x = nn.functional.relu(self.fc1(x))\n",
    "        x = nn.functional.relu(self.fc2(x))\n",
    "        x = nn.functional.sigmoid(self.fc3(x))\n",
    "        return x"
   ]
  },
  {
   "cell_type": "markdown",
   "id": "663c8dc8-cc19-4c09-8edf-650e487d76db",
   "metadata": {},
   "source": [
    "Activations functions: \n",
    "* **ReLU** - rectified linear unit\n",
    "    * `nn.functional.relu()`\n",
    "    * dying neurons problem - since the zero is applied to the negative values\n",
    "* **ELU** - exponential linear unit \n",
    "    * `nn.functional.elu()`\n",
    "    * designed to improve on ReLU\n",
    "    * non-zero gradients for negative values - helps against dying neurons\n",
    "    * average output around zero - helps against vanishing gradients"
   ]
  },
  {
   "cell_type": "markdown",
   "id": "278c0f81-418b-4e7e-93a2-2655a5e51d11",
   "metadata": {},
   "source": [
    "**Batch normalization**  \n",
    "Operation applied after a layer:\n",
    "* accelerates training convergence\n",
    "* protects the model from vanishing and exploding gradients issues\n",
    "  \n",
    "1. Normalize the layer's outputs by:\n",
    "Subtracting the mean\n",
    "Dividing by the standard deviation\n",
    "2. Scale and shift normalized outputs using learned parameters\n",
    "Model learns optimal inputs distribution for each layer:\n",
    "Faster loss decrease\n",
    "Helps against unstable gradients"
   ]
  },
  {
   "cell_type": "code",
   "execution_count": 352,
   "id": "4643c791-24ee-423a-8fcf-63518c0c4736",
   "metadata": {},
   "outputs": [],
   "source": [
    "class Net(nn.Module):\n",
    "    def __init__(self):\n",
    "        super(Net, self).__init__()\n",
    "        self.fc1 = nn.Linear(9, 16)\n",
    "        self.fc2 = nn.Linear(16, 8)\n",
    "        self.fc3 = nn.Linear(8, 1)\n",
    "        # Add two batch normalization layers\n",
    "        self.bn1 = nn.BatchNorm1d(16)\n",
    "        self.bn2 = nn.BatchNorm1d(8)\n",
    "        \n",
    "        init.kaiming_uniform_(self.fc1.weight)\n",
    "        init.kaiming_uniform_(self.fc2.weight)\n",
    "        init.kaiming_uniform_(self.fc3.weight, nonlinearity=\"sigmoid\")\n",
    "    \n",
    "    def forward(self, x):\n",
    "        x = self.fc1(x)\n",
    "        x = self.bn1(x)\n",
    "        x = nn.functional.elu(x)\n",
    "\t\t\n",
    "        # Pass x through the second set of layers\n",
    "        x = self.fc2(x)\n",
    "        x = self.bn2(x)\n",
    "        x = nn.functional.elu(x)\n",
    "\n",
    "        x = nn.functional.sigmoid(self.fc3(x))\n",
    "        return x"
   ]
  },
  {
   "cell_type": "markdown",
   "id": "6738fea9-7359-4e2e-adca-c086148036ae",
   "metadata": {},
   "source": [
    "-------"
   ]
  },
  {
   "cell_type": "markdown",
   "id": "fb30e444-49f6-4283-b933-13b29d662b7e",
   "metadata": {},
   "source": [
    "**pixel** - picture element"
   ]
  },
  {
   "cell_type": "code",
   "execution_count": null,
   "id": "0f46dfb9-7999-48e9-b73f-eb452747f6cb",
   "metadata": {},
   "outputs": [],
   "source": [
    "Grayscale - integer in (0-255) \n",
    "Color -> RGB - Red, Green, and Blue - (52, 171, 235)"
   ]
  },
  {
   "cell_type": "code",
   "execution_count": 355,
   "id": "72124077-d322-4638-84e1-2eaa47597a6a",
   "metadata": {},
   "outputs": [],
   "source": [
    "from torchvision.datasets import ImageFolder\n",
    "from torchvision import transforms"
   ]
  },
  {
   "cell_type": "code",
   "execution_count": 356,
   "id": "817055ab-daef-4145-a792-8525b460a8a4",
   "metadata": {},
   "outputs": [],
   "source": [
    "# Define the set of transformations that will be applied to the image as it is loaded \n",
    "train_transforms = transforms.Compose([\n",
    "     transforms.ToTensor(),\n",
    "     transforms.Resize((128, 128)),\n",
    "])"
   ]
  },
  {
   "cell_type": "code",
   "execution_count": 358,
   "id": "a708d886-83eb-43b8-b4fa-f600e15a668b",
   "metadata": {},
   "outputs": [],
   "source": [
    "dataset_train = ImageFolder(\n",
    "     \"clouds/clouds_train\",\n",
    "     transform=train_transforms, # Passing the predified transformations \n",
    ")"
   ]
  },
  {
   "cell_type": "code",
   "execution_count": 359,
   "id": "511410b5-bd61-49d4-8414-217b4396ef5f",
   "metadata": {},
   "outputs": [],
   "source": [
    "dataloader_train = DataLoader(\n",
    "    dataset_train,\n",
    "    shuffle=True,\n",
    "    batch_size=1,\n",
    ")"
   ]
  },
  {
   "cell_type": "code",
   "execution_count": null,
   "id": "42185cac-e525-4f3b-ba69-9d87610f2ae8",
   "metadata": {},
   "outputs": [],
   "source": [
    "image, label = next(iter(dataloader_train))\n",
    "# (Batch size, color channels, h, w)\n",
    "print(image.shape)"
   ]
  },
  {
   "cell_type": "code",
   "execution_count": 361,
   "id": "01a4eb3b-feda-4e42-8443-7b3904b72582",
   "metadata": {},
   "outputs": [
    {
     "name": "stdout",
     "output_type": "stream",
     "text": [
      "torch.Size([128, 128, 3])\n"
     ]
    }
   ],
   "source": [
    "# Changing order and removing the batch size \n",
    "image = image.squeeze().permute(1, 2, 0)\n",
    "print(image.shape)"
   ]
  },
  {
   "cell_type": "code",
   "execution_count": 367,
   "id": "a130f2f8-b303-4ebf-9d97-70fcc51e4049",
   "metadata": {},
   "outputs": [
    {
     "data": {
      "image/png": "[encoded data removed]",
      "text/plain": [
       "<Figure size 640x480 with 1 Axes>"
      ]
     },
     "metadata": {},
     "output_type": "display_data"
    }
   ],
   "source": [
    "import matplotlib.pyplot as plt\n",
    "plt.imshow(image)\n",
    "plt.show()"
   ]
  },
  {
   "cell_type": "markdown",
   "id": "e4e40ece-055f-40bd-aad2-5115ed6c547d",
   "metadata": {},
   "source": [
    "Data augmentation: \n",
    "* Generating more data by applying random transformations to original images\n",
    "* Increase the size and diversity of the training set\n",
    "* Improve model robustness Reduce overfitting"
   ]
  },
  {
   "cell_type": "code",
   "execution_count": 373,
   "id": "294c00b8-2a20-47b8-b9fa-95290232f415",
   "metadata": {},
   "outputs": [],
   "source": [
    "train_transforms = transforms.Compose([\n",
    "    transforms.RandomHorizontalFlip(),\n",
    "    transforms.RandomRotation(45),\n",
    "    transforms.ToTensor(),\n",
    "    transforms.Resize((128, 128)),\n",
    "])"
   ]
  },
  {
   "cell_type": "code",
   "execution_count": 375,
   "id": "99e2d1c7-3741-4670-ae48-7677810d8bc4",
   "metadata": {},
   "outputs": [],
   "source": [
    "dataset_train = ImageFolder(\n",
    "     \"clouds/clouds_train\",\n",
    "     transform=train_transforms,\n",
    ")"
   ]
  },
  {
   "cell_type": "code",
   "execution_count": 376,
   "id": "a5c8edfc-7481-4b9b-92b0-fd3ec00bfc36",
   "metadata": {},
   "outputs": [
    {
     "data": {
      "image/png": "[encoded data removed]",
      "text/plain": [
       "<Figure size 640x480 with 1 Axes>"
      ]
     },
     "metadata": {},
     "output_type": "display_data"
    }
   ],
   "source": [
    "dataloader_train = DataLoader(\n",
    "  dataset_train, shuffle=True, batch_size=1\n",
    ")\n",
    "\n",
    "image, label = next(iter(dataloader_train))\n",
    "# Reshape the image tensor\n",
    "image = image.squeeze().permute(1, 2, 0)\n",
    "# Display the image\n",
    "plt.imshow(image)\n",
    "plt.show()"
   ]
  },
  {
   "cell_type": "markdown",
   "id": "2ae5f9b1-e81c-482f-aa22-aa52e9a73538",
   "metadata": {},
   "source": [
    "------------"
   ]
  },
  {
   "cell_type": "markdown",
   "id": "98c005fa-9572-4e45-925e-1d7e0d8676b9",
   "metadata": {},
   "source": [
    "# Convolutional Neural Networks"
   ]
  },
  {
   "cell_type": "markdown",
   "id": "991c56e7-dfbf-458f-bf5c-85389383ab86",
   "metadata": {},
   "source": [
    "For a grayscale image of 256 x 256 pixels, there would be 65k model inputsm layer with 1000 neurons, and 65mil parameters"
   ]
  },
  {
   "cell_type": "markdown",
   "id": "2d88106e-2777-4991-8ac8-fa641d0d79dc",
   "metadata": {},
   "source": [
    "Linear layers (why not):\n",
    "* slow training \n",
    "* overfitting \n",
    "* do not recofnize spacial patterns (recognizes the cat, but won't recognize it if it is in a different location) "
   ]
  },
  {
   "cell_type": "markdown",
   "id": "39032d26-65d3-45e2-9b76-78d307b6a448",
   "metadata": {},
   "source": [
    "**Convolutional layers**: \n",
    "* parameters are collected in one or more small grids (**filters**)\n",
    "* filters slide over the input, performing convolution operations at each position to create a **feature map**\n",
    "* feature map preserves spacial patters and uses less parameters \n",
    "* one filter = one feature map \n",
    "* apply activations to feature maps \n",
    "* all feature maps combined form the output"
   ]
  },
  {
   "cell_type": "code",
   "execution_count": 377,
   "id": "6ee4d2ee-5712-4e7c-bb17-f0a6f87eb5fb",
   "metadata": {},
   "outputs": [
    {
     "data": {
      "text/plain": [
       "Conv2d(3, 32, kernel_size=(3, 3), stride=(1, 1))"
      ]
     },
     "execution_count": 377,
     "metadata": {},
     "output_type": "execute_result"
    }
   ],
   "source": [
    "nn.Conv2d(3, 32, kernel_size=3)"
   ]
  },
  {
   "cell_type": "markdown",
   "id": "9ca887aa-9800-4c6c-9c63-f33a93f3961a",
   "metadata": {},
   "source": [
    "**Convolution**:\n",
    "* compute the dot product (scalar product) of input patch and filter \n",
    "* dot product is the `SUM(element-wise multiplication)`\n",
    "* sum the result "
   ]
  },
  {
   "cell_type": "markdown",
   "id": "ec3b296c-ba7a-4edb-974f-8db54a81c257",
   "metadata": {},
   "source": [
    "**Zero-padding**\n",
    "* Add frames of zeros to convolutional layer's input\n",
    "* Maintains spatial dimensions of the input and output tensors\n",
    "* Ensures border pixels are treated equally to others"
   ]
  },
  {
   "cell_type": "code",
   "execution_count": 378,
   "id": "958eb1a2-b4e4-4439-9c72-e96acdd56ebe",
   "metadata": {},
   "outputs": [
    {
     "data": {
      "text/plain": [
       "Conv2d(3, 32, kernel_size=(3, 3), stride=(1, 1), padding=(1, 1))"
      ]
     },
     "execution_count": 378,
     "metadata": {},
     "output_type": "execute_result"
    }
   ],
   "source": [
    "nn.Conv2d(\n",
    "  3, 32, kernel_size=3, padding=1\n",
    ")"
   ]
  },
  {
   "cell_type": "markdown",
   "id": "e80af669-25a2-400a-bf9a-faab2e6b5f83",
   "metadata": {},
   "source": [
    "**Max-padding**:\n",
    "* Slide non-overlapping window over input\n",
    "* At each position, retain only the maximum value\n",
    "* Used after convolutional layers to reduce spatial dimensions"
   ]
  },
  {
   "cell_type": "code",
   "execution_count": 379,
   "id": "dd5dc33a-1539-46ad-9274-09367137992f",
   "metadata": {},
   "outputs": [
    {
     "data": {
      "text/plain": [
       "MaxPool2d(kernel_size=2, stride=2, padding=0, dilation=1, ceil_mode=False)"
      ]
     },
     "execution_count": 379,
     "metadata": {},
     "output_type": "execute_result"
    }
   ],
   "source": [
    "nn.MaxPool2d(kernel_size=2)"
   ]
  },
  {
   "cell_type": "markdown",
   "id": "4afd4b2f-2cae-42e7-91ab-bc7ccfbc1f4c",
   "metadata": {},
   "source": [
    "# Convolutional Neural Network "
   ]
  },
  {
   "cell_type": "code",
   "execution_count": 380,
   "id": "e95f8b59-48a6-49ff-ba34-e1d9cb7248e7",
   "metadata": {},
   "outputs": [],
   "source": [
    "class Net(nn.Module):\n",
    "    def __init__(self, num_classes):\n",
    "        super().__init__()\n",
    "        \"\"\"Feature extractor: (convolution, activation, pooling) x 2 and flattened)\"\"\"\n",
    "        self.feature_extractor = nn.Sequential(\n",
    "            # First two elements are inputs and output feature maps\n",
    "            # Kernel size sets filter size (3x3)\n",
    "            # This will output 32 filters\n",
    "            nn.Conv2d(3, 32, kernel_size=3, padding=1),\n",
    "            nn.ELU(),\n",
    "            # This halves the width and height\n",
    "            nn.MaxPool2d(kernel_size=2),\n",
    "            # This will output 64 filters \n",
    "            nn.Conv2d(32, 64, kernel_size=3, padding=1),\n",
    "            nn.ELU(),\n",
    "            # Half width and height\n",
    "            nn.MaxPool2d(kernel_size=2),\n",
    "            nn.Flatten(),\n",
    "        )\n",
    "        \n",
    "        # Single linear layer\n",
    "        self.classifier = nn.Linear(64*16*16, num_classes)\n",
    "    \n",
    "    def forward(self, x):\n",
    "        \"\"\"Pass the input through feature extractor and classifier\"\"\"\n",
    "        x = self.feature_extractor(x)\n",
    "        x = self.classifier(x)\n",
    "        return x"
   ]
  },
  {
   "cell_type": "code",
   "execution_count": 381,
   "id": "745ef43f-1289-473f-8028-802719b3b103",
   "metadata": {},
   "outputs": [],
   "source": [
    "train_transforms = transforms.Compose([\n",
    "   transforms.RandomHorizontalFlip(),\n",
    "   transforms.RandomRotation(45),\n",
    "   transforms.RandomAutocontrast(),\n",
    "   transforms.ToTensor(),\n",
    "   transforms.Resize((128, 128))\n",
    "])"
   ]
  },
  {
   "cell_type": "code",
   "execution_count": 386,
   "id": "d47258f0-bfd1-4468-b261-2688874d4407",
   "metadata": {},
   "outputs": [],
   "source": [
    "dataset_train = ImageFolder(\n",
    "  \"clouds/clouds_train\",\n",
    "  transform=train_transforms,\n",
    ")\n",
    "dataloader_train = DataLoader(\n",
    "  dataset_train, shuffle=True, batch_size=16\n",
    ")"
   ]
  },
  {
   "cell_type": "code",
   "execution_count": null,
   "id": "e66bd33c-6344-45c7-ab77-6940fdb32225",
   "metadata": {},
   "outputs": [],
   "source": [
    "# Define the model\n",
    "net = Net(num_classes=7)\n",
    "# Define the loss function\n",
    "criterion = nn.CrossEntropyLoss()\n",
    "# Define the optimizer\n",
    "optimizer = optim.Adam(net.parameters(), lr=0.001)\n",
    "\n",
    "for epoch in range(3):\n",
    "    running_loss = 0.0\n",
    "    # Iterate over training batches\n",
    "    for images, labels in dataloader_train:\n",
    "        optimizer.zero_grad()\n",
    "        outputs = net(images)\n",
    "        loss = criterion(outputs, labels)\n",
    "        loss.backward()\n",
    "        optimizer.step()\n",
    "        running_loss += loss.item()\n",
    "    \n",
    "    epoch_loss = running_loss / len(dataloader_train)\n",
    "    print(f\"Epoch {epoch+1}, Loss: {epoch_loss:.4f}\")"
   ]
  },
  {
   "cell_type": "markdown",
   "id": "2f90da9b-0f7e-4024-a710-85c98e1c6eb8",
   "metadata": {},
   "source": [
    "Binary classification: **binary cross-entropy (BCE) loss**  \n",
    "Multi-class classification: **cross-entropy loss**"
   ]
  },
  {
   "cell_type": "code",
   "execution_count": 382,
   "id": "e6e0ba1a-6d26-4b6f-8056-6d933ca2304a",
   "metadata": {},
   "outputs": [],
   "source": [
    "criterion = nn.CrossEntropyLoss()"
   ]
  },
  {
   "cell_type": "code",
   "execution_count": null,
   "id": "42a851d5-230f-4120-a8ca-8f0ed2ad8937",
   "metadata": {},
   "outputs": [],
   "source": [
    "net = Net(num_classes=7)\n",
    "\n",
    "criterion = nn.CrossEntropyLoss()\n",
    "optimizer = optim.Adam(net.parameters(), lr=0.001)\n",
    "\n",
    "for epoch in range(10):\n",
    "    for images, labels in dataloader_train:\n",
    "        optimizer.zero_grad()\n",
    "        outputs = net(images)\n",
    "        loss = criterion(outputs, labels)\n",
    "        loss.backward()\n",
    "        optimizer.step()"
   ]
  },
  {
   "cell_type": "markdown",
   "id": "6be3217d-5471-4c11-a9a1-d87d4428f833",
   "metadata": {},
   "source": [
    "----------"
   ]
  },
  {
   "cell_type": "markdown",
   "id": "9dd7e818-5388-465c-97ad-c78ce88879d7",
   "metadata": {},
   "source": [
    "Data augmentation for training data"
   ]
  },
  {
   "cell_type": "code",
   "execution_count": 388,
   "id": "917396e7-4c3d-4b79-ab37-da34fad91baf",
   "metadata": {},
   "outputs": [],
   "source": [
    "train_transforms = transforms.Compose([\n",
    "     transforms.RandomHorizontalFlip(),\n",
    "     transforms.RandomRotation(45),\n",
    "     transforms.RandomAutocontrast(),\n",
    "     transforms.ToTensor(),\n",
    "     transforms.Resize((64, 64)),\n",
    "])\n",
    "\n",
    "dataset_train = ImageFolder(\n",
    "   \"clouds/clouds_train\",\n",
    "   transform=train_transforms,\n",
    ")"
   ]
  },
  {
   "cell_type": "markdown",
   "id": "fce1989e-cb9a-4061-8079-6de909810605",
   "metadata": {},
   "source": [
    "Data augmentation for test data "
   ]
  },
  {
   "cell_type": "code",
   "execution_count": 391,
   "id": "41cf18fc-d1ee-4584-a34c-1e6eb59b8c16",
   "metadata": {},
   "outputs": [],
   "source": [
    "# There is no augmentation because the model should predict a specific test image, not a random transformation of it\n",
    "test_transforms = transforms.Compose([\n",
    "     #\n",
    "     # NO DATA AUGMENTATION AT TEST TIME\n",
    "     #\n",
    "     transforms.ToTensor(),\n",
    "     transforms.Resize((64, 64)),\n",
    "])\n",
    "\n",
    "dataset_test = ImageFolder(\n",
    "   \"clouds/clouds_train\",\n",
    "   transform=test_transforms,\n",
    ")"
   ]
  },
  {
   "cell_type": "markdown",
   "id": "ead7e9e3-5e96-41dd-8f99-12b133d6175c",
   "metadata": {},
   "source": [
    "In multi-class classification: separate precision and recall for each class\n",
    "\n",
    "* **Precision** - Fraction of correct positive predictions - Fraction of cumulus-predictions that were correct\n",
    "* **Recall** - Fraction of all positive examples correctly predicted - Fraction of all cumulus examples correctly predicted"
   ]
  },
  {
   "cell_type": "markdown",
   "id": "532583e7-563f-42f2-8583-671b9f258597",
   "metadata": {},
   "source": [
    "Averaging multi-class metrics:\n",
    "With 7 classes, we have 7 precision and 7 recall scores We can analyze them per-class, or aggregate:\n",
    "* **Micro average** -> global calculation -> based for imbalanced dataset\n",
    "* **Macro average** -> mean of per-class metrics -> care about performance on small classes \n",
    "* **Weighted average** -> weighted mean of per-class metrics -> consider errors in larger classes as more important"
   ]
  },
  {
   "cell_type": "code",
   "execution_count": 392,
   "id": "87dd3eab-a9f7-46b0-b507-d2b010de46ba",
   "metadata": {},
   "outputs": [],
   "source": [
    "from torchmetrics import Recall\n",
    "recall_per_class = Recall(task=\"multiclass\", num_classes=7, average=None)\n",
    "recall_micro = Recall(task=\"multiclass\", num_classes=7, average=\"micro\")\n",
    "recall_macro = Recall(task=\"multiclass\", num_classes=7, average=\"macro\")\n",
    "recall_weighted = Recall(task=\"multiclass\", num_classes=7, average=\"weighted\")"
   ]
  },
  {
   "cell_type": "markdown",
   "id": "75501436-f3e1-416e-bafa-ba1c8824d5f7",
   "metadata": {},
   "source": [
    "**Recall** > **Precision** -> model is better at correctly identifying true positives than avoding false positives"
   ]
  },
  {
   "cell_type": "markdown",
   "id": "57b6fcbf-b83d-43a5-a9f9-4f78fd3c5f79",
   "metadata": {},
   "source": [
    "----------"
   ]
  },
  {
   "cell_type": "markdown",
   "id": "6b17463b-41e4-4087-bc01-3d8633a8bf89",
   "metadata": {},
   "source": [
    "# Handling sequences"
   ]
  },
  {
   "cell_type": "markdown",
   "id": "405a48ac-4d46-41fb-8d48-56fc0cd79f74",
   "metadata": {},
   "source": [
    "* Ordered in time or space\n",
    "* Order of the data points contains dependencies between them\n",
    "* Examples: \n",
    "    * Time series \n",
    "    * Text \n",
    "    * Audio waves "
   ]
  },
  {
   "cell_type": "markdown",
   "id": "076a7ba6-b05d-448a-a13a-5a9b8517908d",
   "metadata": {},
   "source": [
    "Task: predict future electricity consumption based on past patterns"
   ]
  },
  {
   "cell_type": "code",
   "execution_count": 393,
   "id": "0eeb1ce5-d4d8-4e76-b76d-73eb6e18e581",
   "metadata": {},
   "outputs": [
    {
     "data": {
      "text/html": [
       "<div>\n",
       "<style scoped>\n",
       "    .dataframe tbody tr th:only-of-type {\n",
       "        vertical-align: middle;\n",
       "    }\n",
       "\n",
       "    .dataframe tbody tr th {\n",
       "        vertical-align: top;\n",
       "    }\n",
       "\n",
       "    .dataframe thead th {\n",
       "        text-align: right;\n",
       "    }\n",
       "</style>\n",
       "<table border=\"1\" class=\"dataframe\">\n",
       "  <thead>\n",
       "    <tr style=\"text-align: right;\">\n",
       "      <th></th>\n",
       "      <th>timestamp</th>\n",
       "      <th>consumption</th>\n",
       "    </tr>\n",
       "  </thead>\n",
       "  <tbody>\n",
       "    <tr>\n",
       "      <th>0</th>\n",
       "      <td>2014-01-01 00:00:00</td>\n",
       "      <td>-0.932595</td>\n",
       "    </tr>\n",
       "    <tr>\n",
       "      <th>1</th>\n",
       "      <td>2014-01-01 00:15:00</td>\n",
       "      <td>-0.957931</td>\n",
       "    </tr>\n",
       "    <tr>\n",
       "      <th>2</th>\n",
       "      <td>2014-01-01 00:30:00</td>\n",
       "      <td>-0.932595</td>\n",
       "    </tr>\n",
       "    <tr>\n",
       "      <th>3</th>\n",
       "      <td>2014-01-01 00:45:00</td>\n",
       "      <td>-0.907259</td>\n",
       "    </tr>\n",
       "    <tr>\n",
       "      <th>4</th>\n",
       "      <td>2014-01-01 01:00:00</td>\n",
       "      <td>-0.881923</td>\n",
       "    </tr>\n",
       "    <tr>\n",
       "      <th>...</th>\n",
       "      <td>...</td>\n",
       "      <td>...</td>\n",
       "    </tr>\n",
       "    <tr>\n",
       "      <th>35035</th>\n",
       "      <td>2014-12-31 22:45:00</td>\n",
       "      <td>-0.070415</td>\n",
       "    </tr>\n",
       "    <tr>\n",
       "      <th>35036</th>\n",
       "      <td>2014-12-31 23:00:00</td>\n",
       "      <td>-0.045079</td>\n",
       "    </tr>\n",
       "    <tr>\n",
       "      <th>35037</th>\n",
       "      <td>2014-12-31 23:15:00</td>\n",
       "      <td>-0.045079</td>\n",
       "    </tr>\n",
       "    <tr>\n",
       "      <th>35038</th>\n",
       "      <td>2014-12-31 23:30:00</td>\n",
       "      <td>-0.045079</td>\n",
       "    </tr>\n",
       "    <tr>\n",
       "      <th>35039</th>\n",
       "      <td>2014-12-31 23:45:00</td>\n",
       "      <td>-0.095751</td>\n",
       "    </tr>\n",
       "  </tbody>\n",
       "</table>\n",
       "<p>35040 rows × 2 columns</p>\n",
       "</div>"
      ],
      "text/plain": [
       "                 timestamp  consumption\n",
       "0      2014-01-01 00:00:00    -0.932595\n",
       "1      2014-01-01 00:15:00    -0.957931\n",
       "2      2014-01-01 00:30:00    -0.932595\n",
       "3      2014-01-01 00:45:00    -0.907259\n",
       "4      2014-01-01 01:00:00    -0.881923\n",
       "...                    ...          ...\n",
       "35035  2014-12-31 22:45:00    -0.070415\n",
       "35036  2014-12-31 23:00:00    -0.045079\n",
       "35037  2014-12-31 23:15:00    -0.045079\n",
       "35038  2014-12-31 23:30:00    -0.045079\n",
       "35039  2014-12-31 23:45:00    -0.095751\n",
       "\n",
       "[35040 rows x 2 columns]"
      ]
     },
     "execution_count": 393,
     "metadata": {},
     "output_type": "execute_result"
    }
   ],
   "source": [
    "pd.read_csv('electricity_consump/electricity_test.csv')"
   ]
  },
  {
   "cell_type": "markdown",
   "id": "4e69ebf2-5a90-44a6-a0c6-0bd993be1f22",
   "metadata": {},
   "source": [
    "Creating sequences\n",
    "* Sequence length = number of data points in one training example\n",
    "* 24 × 4 = 96 -> consider last 24 hours Predict single next data point"
   ]
  },
  {
   "cell_type": "code",
   "execution_count": 394,
   "id": "5db849ce-ec8c-492a-965f-3f421b1ec23a",
   "metadata": {},
   "outputs": [],
   "source": [
    "import numpy as np"
   ]
  },
  {
   "cell_type": "code",
   "execution_count": 395,
   "id": "da9526f6-e5c1-4788-80ab-13a80ca1b535",
   "metadata": {},
   "outputs": [],
   "source": [
    "def create_sequences(df, seq_length):\n",
    "    # xs is a list for inputs, ys is a list for targets \n",
    "    xs, ys = [], []\n",
    "    # iterate over data frame \n",
    "    for i in range(len(df) - seq_length): # Ensure that there are enough sequence length data points\n",
    "        # Define inputs \n",
    "        x = df.iloc[i:(i+seq_length), 1]\n",
    "        # Define target\n",
    "        y = df.iloc[i+seq_length, 1]\n",
    "        xs.append(x)\n",
    "        ys.append(y)\n",
    "    return np.array(xs), np.array(ys)"
   ]
  },
  {
   "cell_type": "code",
   "execution_count": null,
   "id": "77c05543-bc93-40b9-b2e1-4757759d8aad",
   "metadata": {},
   "outputs": [],
   "source": [
    "# Create training examples \n",
    "X_train, y_train = create_sequences(train_data, seq_length)\n",
    "print(X_train.shape, y_train.shape)"
   ]
  },
  {
   "cell_type": "code",
   "execution_count": null,
   "id": "d5770cbf-9a1c-4984-bf00-dad6c796e5ee",
   "metadata": {},
   "outputs": [],
   "source": [
    "# Convert training examples to to a Torch Dataset\n",
    "dataset_train = TensorDataset(\n",
    "     torch.from_numpy(X_train).float(),\n",
    "     torch.from_numpy(y_train).float(),\n",
    ")"
   ]
  },
  {
   "cell_type": "markdown",
   "id": "5fbe87a1-9b1a-4afd-9d48-f290cf1240f1",
   "metadata": {},
   "source": [
    "------------"
   ]
  },
  {
   "cell_type": "markdown",
   "id": "74fa2eb4-0b98-44ae-abe0-c345a14295b7",
   "metadata": {},
   "source": [
    "# Recurrent Neural Networks "
   ]
  },
  {
   "cell_type": "markdown",
   "id": "0aa05a07-c792-4dd5-a75c-2389c2cd260c",
   "metadata": {},
   "source": [
    "Simple networks and convolutional networks are feed-forward netwroks   \n",
    "RNNs have connections that point back \n",
    "Recurrent neuron: \n",
    "* Input `x` that passes through weights get biases added and then activated \n",
    "* Outputs:\n",
    "    * Main output `y`\n",
    "    * Hidden state `h`"
   ]
  },
  {
   "cell_type": "markdown",
   "id": "8ef52168-2fd6-49a3-abfd-8d17ebf46f31",
   "metadata": {},
   "source": [
    "Architectures: \n",
    "* **Sequence-to-sequence**\n",
    "    * Pass sequence as input, use the entire output sequence \n",
    "    * Example: Real-time speech recognition\n",
    "* **Sequence-to-vector**\n",
    "    * Pass sequence as input, use only the last output \n",
    "    * Example: Text topic classification, Sentiment Analysis, One-step time series prediction\n",
    "* **Vector-to-sequence**\n",
    "    * Pass single input, use the entire output sequence \n",
    "    * Example: Text generation, Image captioning\n",
    "* **Encoder-decoder**\n",
    "    * Pass entire input sequence, only then start using output sequence \n",
    "    * Example: Machine translation, Many-step Forecast, Not-real-time speech recognition (Alexa, Google Assistant, etc.)"
   ]
  },
  {
   "cell_type": "code",
   "execution_count": 398,
   "id": "ebc716be-b0b8-40b2-be25-3cc624612020",
   "metadata": {},
   "outputs": [],
   "source": [
    "class Net(nn.Module):\n",
    "     def __init__(self):\n",
    "         super().__init__()\n",
    "         self.rnn = nn.RNN(\n",
    "             input_size=1,\n",
    "             hidden_size=32,\n",
    "             num_layers=2,\n",
    "             batch_first=True,\n",
    "         )\n",
    "         self.fc = nn.Linear(32, 1)\n",
    "\n",
    "     def forward(self, x):\n",
    "         # Initialize first hidden state to zeros\n",
    "         h0 = torch.zeros(2, x.size(0), 32)\n",
    "         # Pass input and first hidden state through RNN layer\n",
    "         out, _ = self.rnn(x, h0)\n",
    "         # Select last RNN's output and pass it through linear layer\n",
    "         out = self.fc(out[:, -1, :])\n",
    "         return out"
   ]
  },
  {
   "cell_type": "markdown",
   "id": "302647a0-d327-4cef-ae90-758afb2de368",
   "metadata": {},
   "source": [
    "-------------"
   ]
  },
  {
   "cell_type": "markdown",
   "id": "9f458901-5209-46c4-81a4-3be05f18f63c",
   "metadata": {},
   "source": [
    "# Short-term memory problem"
   ]
  },
  {
   "cell_type": "markdown",
   "id": "f9087ec9-0c54-493d-b8b2-1a1891fa3a01",
   "metadata": {},
   "source": [
    "RNN cells maintain memory via hidden state  \n",
    "This memory is very short-term  \n",
    "Two more powerful cells solve the problem:  \n",
    "* LSTM (Long Short-Term Memory) cell \n",
    "* GRU (Gated Recurrent Unit) cell -> simplified version of LSTM cells as it has only one hidden state"
   ]
  },
  {
   "cell_type": "code",
   "execution_count": 399,
   "id": "56f49f7b-015b-460a-831c-22dc11567699",
   "metadata": {},
   "outputs": [],
   "source": [
    "class Net(nn.Module):\n",
    "    def __init__(self, input_size):\n",
    "        super().__init__()\n",
    "        # Define lstm layer\n",
    "        self.lstm = nn.LSTM(\n",
    "            input_size=1,\n",
    "            hidden_size=32,\n",
    "            num_layers=2,\n",
    "            batch_first=True,\n",
    "        )\n",
    "        self.fc = nn.Linear(32, 1)\n",
    "\n",
    "    def forward(self, x):\n",
    "        h0 = torch.zeros(2, x.size(0), 32)\n",
    "        # Initialize long-term memory\n",
    "        c0 = torch.zeros(2, x.size(0), 32)\n",
    "        # Pass all inputs to lstm layer\n",
    "        out, _ = self.lstm(x, (h0, c0))\n",
    "        out = self.fc(out[:, -1, :])\n",
    "        return out"
   ]
  },
  {
   "cell_type": "code",
   "execution_count": 400,
   "id": "a05e6e72-9ac1-44be-9e2b-c9f3bb79c8e7",
   "metadata": {},
   "outputs": [],
   "source": [
    "class Net(nn.Module):\n",
    "    def __init__(self):\n",
    "        super().__init__()\n",
    "        # Define RNN layer\n",
    "        self.gru = nn.GRU(\n",
    "            input_size=1,\n",
    "            hidden_size=32,\n",
    "            num_layers=2,\n",
    "            batch_first=True,\n",
    "        )\n",
    "        self.fc = nn.Linear(32, 1)\n",
    "\n",
    "    def forward(self, x):\n",
    "        h0 = torch.zeros(2, x.size(0), 32)\n",
    "        out, _ = self.gru(x, h0)  \n",
    "        out = self.fc(out[:, -1, :])\n",
    "        return out"
   ]
  },
  {
   "cell_type": "markdown",
   "id": "12ba6cbb-f016-4031-8423-f274aa03992b",
   "metadata": {},
   "source": [
    "-----------"
   ]
  },
  {
   "cell_type": "markdown",
   "id": "e93c23fe-6780-457e-abd1-729cf8332052",
   "metadata": {},
   "source": [
    "Error:\n",
    "$$prediction - target$$ \n",
    "Squared Error:\n",
    "$${(prediction - target)}^2$$\n",
    "Meann Squared Error:\n",
    "$$avg[{(prediction - target)}^2]$$"
   ]
  },
  {
   "cell_type": "markdown",
   "id": "84ef5b97-6ffb-4ab7-8b3a-f6aa33c13f5a",
   "metadata": {},
   "source": [
    "Squaring the error:\n",
    "* Ensures positive and negative errors don't cancel out\n",
    "* Penalizes large errors more"
   ]
  },
  {
   "cell_type": "code",
   "execution_count": 401,
   "id": "bb828985-a8c5-4964-92ec-5d80394db3a2",
   "metadata": {},
   "outputs": [],
   "source": [
    "criterion = nn.MSELoss()"
   ]
  },
  {
   "cell_type": "markdown",
   "id": "454e99df-113f-4b42-b966-f1e6e5993630",
   "metadata": {},
   "source": [
    "# Expanding tensors"
   ]
  },
  {
   "cell_type": "markdown",
   "id": "a9da97e4-1d38-4446-94a3-a1672035ecdf",
   "metadata": {},
   "source": [
    "Recurrent layers expect input shape  \n",
    "(`batch_size`, `seq_length`, `num_features`)   \n",
    "We got (`batch_size`, `seq_length`)  \n",
    "We must add one dimension at the end"
   ]
  },
  {
   "cell_type": "code",
   "execution_count": null,
   "id": "5d3687b1-b319-406d-bb1a-ae31ac41d88b",
   "metadata": {},
   "outputs": [],
   "source": [
    "net = Net()\n",
    "# Set up MSE loss\n",
    "criterion = nn.MSELoss()\n",
    "optimizer = optim.Adam(\n",
    "  net.parameters(), lr=0.0001\n",
    ")\n",
    "\n",
    "for epoch in range(3):\n",
    "    for seqs, labels in dataloader_train:\n",
    "        # Reshape model inputs\n",
    "        seqs = seqs.view(16, 96, 1)\n",
    "        # Get model outputs\n",
    "        outputs = net(seqs)\n",
    "        # Compute loss\n",
    "        loss = criterion(outputs, labels)\n",
    "        optimizer.zero_grad()\n",
    "        loss.backward()\n",
    "        optimizer.step()\n",
    "    print(f\"Epoch {epoch+1}, Loss: {loss.item()}\")"
   ]
  },
  {
   "cell_type": "code",
   "execution_count": null,
   "id": "597c0fc3-f1aa-49de-a2a4-06b2fb3c020c",
   "metadata": {},
   "outputs": [],
   "source": [
    "# Define MSE metric\n",
    "mse = torchmetrics.MeanSquaredError()\n",
    "\n",
    "net.eval()\n",
    "with torch.no_grad():\n",
    "    for seqs, labels in dataloader_test:\n",
    "        seqs = seqs.view(32, 96, 1)\n",
    "        # Pass seqs to net and squeeze the result\n",
    "        outputs = net(seqs).squeeze()\n",
    "        mse(outputs, labels)\n",
    "\n",
    "# Compute final metric value\n",
    "test_mse = mse.compute()\n",
    "print(f\"Test MSE: {test_mse}\")"
   ]
  },
  {
   "cell_type": "markdown",
   "id": "3abcf721-7d54-4160-be03-56c3f0b0d0e7",
   "metadata": {},
   "source": [
    "-----------"
   ]
  },
  {
   "cell_type": "markdown",
   "id": "ffa7ea48-92d0-40f3-84ff-add2b20a2873",
   "metadata": {},
   "source": [
    "# Multi-input Models"
   ]
  },
  {
   "cell_type": "code",
   "execution_count": null,
   "id": "d9d950b3-3c7a-4a4f-bae6-79c41df21972",
   "metadata": {},
   "outputs": [],
   "source": []
  },
  {
   "cell_type": "markdown",
   "id": "5d97cef8-d01c-4dbe-b3be-06d4f1eaba12",
   "metadata": {},
   "source": [
    "----------"
   ]
  },
  {
   "cell_type": "markdown",
   "id": "0d769cd2-b025-4202-b29c-81fe546f872e",
   "metadata": {},
   "source": [
    "# Text Processing Pipeling"
   ]
  },
  {
   "cell_type": "markdown",
   "id": "7ba769a6-e7df-4af3-befb-7d734fd0bed0",
   "metadata": {},
   "source": [
    "1. Raw Data \n",
    "2. Preprocessing \n",
    "3. Encoding \n",
    "4. Dataset & Dataloader"
   ]
  },
  {
   "cell_type": "code",
   "execution_count": 419,
   "id": "99226f7b-bfda-4093-ae79-ec69e7bd879d",
   "metadata": {},
   "outputs": [
    {
     "name": "stdout",
     "output_type": "stream",
     "text": [
      "['the', 'of', ',', 'data', 'alex', 'data', '.', ',', 'alex', ',', 'the', 'data', ',', '.', 'the', 'of', '.']\n"
     ]
    }
   ],
   "source": [
    "# Import the necessary functions\n",
    "from torchtext.data.utils import get_tokenizer\n",
    "from nltk.probability import FreqDist\n",
    "\n",
    "text = \"In the city of Dataville, a data analyst named Alex explores hidden insights within vast data. With determination, Alex uncovers patterns, cleanses the data, and unlocks innovation. Join this adventure to unleash the power of data-driven decisions.\"\n",
    "\n",
    "# Initialize the tokenizer and tokenize the text\n",
    "tokenizer = get_tokenizer(\"basic_english\")\n",
    "tokens = tokenizer(text)\n",
    "\n",
    "threshold = 1\n",
    "# Remove rare words and print common tokens\n",
    "freq_dist = FreqDist(tokens)\n",
    "common_tokens = [token for token in tokens if freq_dist[token] > threshold]\n",
    "print(common_tokens)"
   ]
  },
  {
   "cell_type": "code",
   "execution_count": 421,
   "id": "42a8f805-4b69-467b-8d5a-3dcff8ad6b11",
   "metadata": {},
   "outputs": [
    {
     "name": "stdout",
     "output_type": "stream",
     "text": [
      "['in', 'the', 'city', 'of', 'dataville', ',', 'a', 'data', 'analyst', 'named', 'alex', 'explores', 'hidden', 'insights', 'within', 'vast', 'data', '.', 'with', 'determination', ',', 'alex', 'uncovers', 'patterns', ',', 'cleanses', 'the', 'data', ',', 'and', 'unlocks', 'innovation', '.', 'join', 'this', 'adventure', 'to', 'unleash', 'the', 'power', 'of', 'data-driven', 'decisions', '.']\n"
     ]
    }
   ],
   "source": [
    "# Initialize and tokenize the text\n",
    "tokenizer = get_tokenizer(\"basic_english\")\n",
    "tokens = tokenizer(text)\n",
    "print(tokens)"
   ]
  },
  {
   "cell_type": "code",
   "execution_count": null,
   "id": "66f75be0-6ac4-499b-9715-5e1d85ddb775",
   "metadata": {},
   "outputs": [],
   "source": [
    "# Remove any stopwords\n",
    "stop_words = set(stopwords.words(\"english\"))\n",
    "filtered_tokens = [token for token in tokens if token.lower() not in stop_words]\n",
    "print(filtered_tokens)"
   ]
  },
  {
   "cell_type": "code",
   "execution_count": null,
   "id": "0537f3f1-c25e-4b71-b2a0-95f1ab75291a",
   "metadata": {},
   "outputs": [],
   "source": [
    "# Perform stemming on the filtered tokens\n",
    "stemmer = PorterStemmer()\n",
    "stemmed_tokens = [stemmer.stem(token) for token in filtered_tokens]\n",
    "print(stemmed_tokens)"
   ]
  },
  {
   "cell_type": "code",
   "execution_count": 44,
   "id": "680ed5a7-6f6f-4359-87a4-821c74663636",
   "metadata": {},
   "outputs": [],
   "source": [
    "y = 1\n",
    "num_classes = 3\n",
    "\n",
    "# Create the one-hot encoded vector using NumPy\n",
    "one_hot_numpy = np.array([0, 1, 0])\n",
    "\n",
    "# Create the one-hot encoded vector using PyTorch\n",
    "one_hot_pytorch = F.one_hot(torch.tensor(y), num_classes)"
   ]
  },
  {
   "cell_type": "code",
   "execution_count": null,
   "id": "b7e76853-a755-417c-97c5-0941e5eea921",
   "metadata": {},
   "outputs": [],
   "source": [
    "Cross entropy loss is the most used loss for classification problems."
   ]
  },
  {
   "cell_type": "raw",
   "id": "103f6436-d021-42af-a1a7-842dd59a09b2",
   "metadata": {},
   "source": [
    "Nicely done calculating cross entropy loss in PyTorch! This is one of the most commonly used loss functions for classification tasks, where the goal is to predict the probability distribution of a set of target categories or classes."
   ]
  },
  {
   "cell_type": "code",
   "execution_count": null,
   "id": "31e910bc-820c-4cc2-aa3c-a73a7eda118d",
   "metadata": {},
   "outputs": [],
   "source": [
    "Gradient is the term for the derivative in deep learning "
   ]
  },
  {
   "cell_type": "markdown",
   "id": "074df07c-f19e-4634-8c3b-ef2fb45389a6",
   "metadata": {},
   "source": [
    "Some functions, such as the one on the left, have one minimum and one only, called the \"global\" minimum. These functions are \"convex\". Some, \"non-convex\" functions have more than one \"local\" minimum. At a local minimum, the function value is lowest compared to nearby points, but points further away may be even lower. When minimizing loss functions, our goal is to find the global minimum of the non-convex function, here, when x is approximately one."
   ]
  },
  {
   "cell_type": "code",
   "execution_count": null,
   "id": "d2367621-7aa5-4f92-8c07-824d5ab77d80",
   "metadata": {},
   "outputs": [],
   "source": [
    "criterion = nn.CrossEntropyLoss()\n",
    "\n",
    "# Calculate the loss\n",
    "loss = criterion(preds, target)\n",
    "\n",
    "# Compute the gradients of the loss\n",
    "loss.backward()\n",
    "\n",
    "# Display gradients of the weight and bias tensors in order\n",
    "print(weight.grad)\n",
    "print(bias.grad)"
   ]
  },
  {
   "cell_type": "code",
   "execution_count": 48,
   "id": "0d17b4df-f08d-480f-bcf1-4cde585451f9",
   "metadata": {},
   "outputs": [],
   "source": [
    "model = nn.Sequential(nn.Linear(16, 8),\n",
    "                      nn.Sigmoid(),\n",
    "                      nn.Linear(8, 2))\n",
    "\n",
    "# Access the weight of the first linear layer\n",
    "weight_0 = model[0].weight\n",
    "\n",
    "# Access the bias of the second linear layer\n",
    "bias_1 = model[2].bias"
   ]
  },
  {
   "cell_type": "code",
   "execution_count": null,
   "id": "362bdd92-1088-419e-92df-ea2a862dc432",
   "metadata": {},
   "outputs": [],
   "source": [
    "weight0 = model[0].weight\n",
    "weight1 = model[1].weight\n",
    "weight2 = model[2].weight\n",
    "\n",
    "# Access the gradients of the weight of each linear layer\n",
    "grads0 = weight0.grad\n",
    "grads1 = weight1.grad\n",
    "grads2 = weight2.grad"
   ]
  },
  {
   "cell_type": "code",
   "execution_count": null,
   "id": "8bf4036e-7225-459f-ba46-9de49ce020c8",
   "metadata": {},
   "outputs": [],
   "source": [
    "weight0 = model[0].weight\n",
    "weight1 = model[1].weight\n",
    "weight2 = model[2].weight\n",
    "\n",
    "# Access the gradients of the weight of each linear layer\n",
    "grads0 = model[0].weight.grad\n",
    "grads1 = model[1].weight.grad\n",
    "grads2 = model[2].weight.grad\n",
    "\n",
    "# Update the weights using the learning rate and the gradients\n",
    "weight0 = weight0 - lr * grads0\n",
    "weight1 = weight1 - lr * grads1\n",
    "weight2 = weight2 - lr * grads2"
   ]
  },
  {
   "cell_type": "code",
   "execution_count": null,
   "id": "8033d8fd-2d33-454d-91d2-0055b3cbd6c2",
   "metadata": {},
   "outputs": [],
   "source": [
    "SGD - Stochastic Gradient Descend"
   ]
  },
  {
   "cell_type": "code",
   "execution_count": null,
   "id": "821e3f9f-7a03-42f8-a998-d8eeb19395e9",
   "metadata": {},
   "outputs": [],
   "source": [
    "# Create the optimizer\n",
    "optimizer = optim.SGD(model.parameters(), lr=0.001)\n",
    "\n",
    "loss = criterion(pred, target)\n",
    "loss.backward()\n",
    "\n",
    "# Update the model's parameters using the optimizer\n",
    "optimizer.step()"
   ]
  },
  {
   "cell_type": "markdown",
   "id": "a164de66-d4a0-4a62-8685-5cf2b29753f2",
   "metadata": {},
   "source": [
    "------"
   ]
  },
  {
   "cell_type": "code",
   "execution_count": 52,
   "id": "481b99d2-0ef4-49a5-838d-af41a7c27b96",
   "metadata": {},
   "outputs": [],
   "source": [
    "# The mean squared error loss (MSE loss) is the squared difference between the prediction and the ground truth.\n",
    "def mean_squared_loss (prediction, target):\n",
    "    return np.mean((prediction - target)**2)"
   ]
  },
  {
   "cell_type": "code",
   "execution_count": null,
   "id": "ebf11a2c-8dca-4d35-8561-68f0387f76d5",
   "metadata": {},
   "outputs": [],
   "source": [
    "epoch -> looping through the entrie dataset once "
   ]
  },
  {
   "cell_type": "code",
   "execution_count": null,
   "id": "dffec491-76bf-4178-9bb2-7260885a1be1",
   "metadata": {},
   "outputs": [],
   "source": [
    "Using the MSELoss\n",
    "Recall that we can't use cross-entropy loss for regression problems. The mean squared error loss (MSELoss) is a common loss function for regression problems. In this exercise, you will practice calculating and observing the loss using NumPy as well as its PyTorch implementation.\n",
    "\n",
    "The torch package has been imported as well as numpy as np and torch.nn as nn."
   ]
  },
  {
   "cell_type": "code",
   "execution_count": 53,
   "id": "d5fbf78b-dd06-4c60-8e8e-ce987eff5e01",
   "metadata": {},
   "outputs": [
    {
     "name": "stdout",
     "output_type": "stream",
     "text": [
      "tensor(81.)\n"
     ]
    }
   ],
   "source": [
    "y_hat = np.array(10)\n",
    "y = np.array(1)\n",
    "\n",
    "# Calculate the MSELoss using NumPy\n",
    "mse_numpy = np.mean((y_hat - y)**2)\n",
    "\n",
    "# Create the MSELoss function\n",
    "criterion = nn.MSELoss()\n",
    "\n",
    "# Calculate the MSELoss using the created loss function\n",
    "mse_pytorch = criterion(torch.tensor(y_hat).float(), torch.tensor(y).float())\n",
    "print(mse_pytorch)"
   ]
  },
  {
   "cell_type": "raw",
   "id": "c1f6a5c4-ee3e-4a8f-8253-df8e5d4f4f6a",
   "metadata": {},
   "source": [
    "Writing a training loop\n",
    "In scikit-learn, the whole training loop is contained in the .fit() method. In PyTorch, however, you implement the loop manually. While this provides control over loop's content, it requires a custom implementation.\n",
    "\n",
    "You will write a training loop every time you train a deep learning model with PyTorch, which you'll practice in this exercise. The show_results() function provided will display some sample ground truth and the model predictions.\n",
    "\n",
    "The package imports provided are: pandas as pd, torch, torch.nn as nn, torch.optim as optim, as well as DataLoader and TensorDataset from torch.utils.data.\n",
    "\n",
    "The following variables have been created: dataloader, containing the dataloader; model, containing the neural network; criterion, containing the loss function, nn.MSELoss(); optimizer, containing the SGD optimizer; and num_epochs, containing the number of epochs."
   ]
  },
  {
   "cell_type": "code",
   "execution_count": null,
   "id": "140d73cc-239f-4c2d-af33-063f506466ca",
   "metadata": {},
   "outputs": [],
   "source": [
    "# Loop over the number of epochs and then the dataloader\n",
    "for i in range(num_epochs):\n",
    "  for data in dataloader:\n",
    "    # Set the gradients to zero\n",
    "    optimizer.zero_grad()"
   ]
  },
  {
   "cell_type": "code",
   "execution_count": null,
   "id": "fdd77104-8ceb-40a0-a1b2-f93ccee764f1",
   "metadata": {},
   "outputs": [],
   "source": [
    "# Loop over the number of epochs and the dataloader\n",
    "for i in range(num_epochs):\n",
    "  for data in dataloader:\n",
    "    # Set the gradients to zero\n",
    "    optimizer.zero_grad()\n",
    "    # Run a forward pass\n",
    "    feature, target = data\n",
    "    prediction = model(feature)    \n",
    "    # Calculate the loss\n",
    "    loss = criterion(prediction, target)    \n",
    "    # Compute the gradients\n",
    "    loss.backward()"
   ]
  },
  {
   "cell_type": "code",
   "execution_count": null,
   "id": "0b1e86c0-84e0-42c1-ac11-a187b47ffbf6",
   "metadata": {},
   "outputs": [],
   "source": [
    "# Loop over the number of epochs and the dataloader\n",
    "for i in range(num_epochs):\n",
    "  for data in dataloader:\n",
    "    # Set the gradients to zero\n",
    "    optimizer.zero_grad()  \n",
    "    # Run a forward pass\n",
    "    feature, target = data\n",
    "    prediction = model(feature)    \n",
    "    # Calculate the loss\n",
    "    loss = criterion(prediction, target)    \n",
    "    # Compute the gradients\n",
    "    loss.backward()\n",
    "    # Update the model's parameters\n",
    "    optimizer.step()\n",
    "show_results(model, dataloader)"
   ]
  },
  {
   "cell_type": "markdown",
   "id": "898b97ab-4f93-4a4d-b87c-4ca916044a58",
   "metadata": {},
   "source": [
    "Together, we have discovered two activation functions: the sigmoid and the softmax functions. These activation functions are usually applied on the last linear layer of a model. There are other activation functions used between linear layers."
   ]
  },
  {
   "cell_type": "code",
   "execution_count": null,
   "id": "d78ef13e-4c25-4bba-863c-d79fba732e51",
   "metadata": {},
   "outputs": [],
   "source": [
    "# ReLU - Rectified Linear Unit "
   ]
  },
  {
   "cell_type": "code",
   "execution_count": 57,
   "id": "45f7c50c-827d-4544-b4e7-bc87ebebbe31",
   "metadata": {},
   "outputs": [],
   "source": [
    "relu = nn.ReLU()"
   ]
  },
  {
   "cell_type": "code",
   "execution_count": 58,
   "id": "31a61bb0-8fd3-4f0a-8b22-3c11d4897424",
   "metadata": {},
   "outputs": [],
   "source": [
    "leaky_relu = nn.LeakyReLU(negative_slope=0.05)"
   ]
  },
  {
   "cell_type": "markdown",
   "id": "03efa416-f68f-4223-9c15-be9df436808b",
   "metadata": {},
   "source": [
    "------------"
   ]
  },
  {
   "cell_type": "markdown",
   "id": "8b89123e-394a-42e4-a874-139e7589cc7d",
   "metadata": {},
   "source": [
    "# Keras "
   ]
  },
  {
   "cell_type": "markdown",
   "id": "6924582e-cbb0-4e77-bbfb-53521dd7cce1",
   "metadata": {},
   "source": [
    "• Deep Learning Framework  \n",
    "• Enables fast experimentation  \n",
    "• Runs on top of other frameworks  \n",
    "• Fast industry-ready models  \n",
    "• For beginners and experts  \n",
    "• Less code  \n",
    "• Build any architecture  \n",
    "• Deploy models in multiple platforms  "
   ]
  },
  {
   "cell_type": "markdown",
   "id": "48547664-82f3-47fa-9cff-123a1d017379",
   "metadata": {},
   "source": [
    "A non-constrained output can be obtained by avoiding setting an activation function in the output layer. This is useful for problems like regression, when we want our output to be able to take any non-constrained value."
   ]
  },
  {
   "cell_type": "code",
   "execution_count": 3,
   "id": "8b7d9fc2-27a8-4301-973c-07953f84cb37",
   "metadata": {},
   "outputs": [
    {
     "name": "stdout",
     "output_type": "stream",
     "text": [
      "Model: \"sequential\"\n",
      "_________________________________________________________________\n",
      " Layer (type)                Output Shape              Param #   \n",
      "=================================================================\n",
      " dense (Dense)               (None, 10)                30        \n",
      "                                                                 \n",
      " dense_1 (Dense)             (None, 1)                 11        \n",
      "                                                                 \n",
      "=================================================================\n",
      "Total params: 41 (164.00 Byte)\n",
      "Trainable params: 41 (164.00 Byte)\n",
      "Non-trainable params: 0 (0.00 Byte)\n",
      "_________________________________________________________________\n"
     ]
    }
   ],
   "source": [
    "# Import the Sequential model and Dense layer\n",
    "from tensorflow.keras.models import Sequential\n",
    "from tensorflow.keras.layers import Dense"
   ]
  },
  {
   "cell_type": "code",
   "execution_count": 4,
   "id": "8794fd00-fd19-4529-94c5-2e12ac42fea0",
   "metadata": {},
   "outputs": [
    {
     "name": "stdout",
     "output_type": "stream",
     "text": [
      "Model: \"sequential_1\"\n",
      "_________________________________________________________________\n",
      " Layer (type)                Output Shape              Param #   \n",
      "=================================================================\n",
      " dense_2 (Dense)             (None, 10)                30        \n",
      "                                                                 \n",
      " dense_3 (Dense)             (None, 1)                 11        \n",
      "                                                                 \n",
      "=================================================================\n",
      "Total params: 41 (164.00 Byte)\n",
      "Trainable params: 41 (164.00 Byte)\n",
      "Non-trainable params: 0 (0.00 Byte)\n",
      "_________________________________________________________________\n"
     ]
    }
   ],
   "source": [
    "# Create a Sequential model\n",
    "model = Sequential()\n",
    "\n",
    "# Add an input layer and a hidden layer with 10 neurons\n",
    "# Keras Dense == PyTorch Linear\n",
    "model.add(Dense(10, input_shape=(2,), activation=\"relu\"))\n",
    "\n",
    "# Add a 1-neuron output layer\n",
    "model.add(Dense(1))\n",
    "\n",
    "# Summarise your model\n",
    "model.summary()"
   ]
  },
  {
   "cell_type": "code",
   "execution_count": null,
   "id": "75b3bdcd-5d4f-4666-85d3-5ab893c12c70",
   "metadata": {},
   "outputs": [],
   "source": [
    "# Compile your model\n",
    "# Optimizer - updates the weights during backpropagation \n",
    "# Loss -  target to minimize during training\n",
    "model.compile(optimizer = 'adam', loss = 'mse')\n",
    "\n",
    "print(\"Training started..., this can take a while:\")\n",
    "\n",
    "# Fit your model on your data for 30 epochs\n",
    "model.fit(time_steps, y_positions, epochs = 30)\n",
    "\n",
    "# Evaluate your model \n",
    "print(\"Final loss value:\",model.evaluate(time_steps, y_positions))"
   ]
  },
  {
   "cell_type": "code",
   "execution_count": null,
   "id": "ec03c480-0486-46c4-8527-1751fb859cac",
   "metadata": {},
   "outputs": [],
   "source": [
    "# Predict the twenty minutes orbit\n",
    "twenty_min_orbit = model.predict(np.arange(-10, 11))\n",
    "\n",
    "# Plot the twenty minute orbit \n",
    "plot_orbit(twenty_min_orbit)"
   ]
  },
  {
   "cell_type": "code",
   "execution_count": null,
   "id": "35d833b5-dab9-4f4b-95ed-6dee61e72637",
   "metadata": {},
   "outputs": [],
   "source": [
    "# Predict the eighty minute orbit\n",
    "eighty_min_orbit = model.predict(np.arange(-40, 41))\n",
    "\n",
    "# Plot the eighty minute orbit \n",
    "plot_orbit(eighty_min_orbit)"
   ]
  }
 ],
 "metadata": {
  "kernelspec": {
   "display_name": "Python 3 (ipykernel)",
   "language": "python",
   "name": "python3"
  },
  "language_info": {
   "codemirror_mode": {
    "name": "ipython",
    "version": 3
   },
   "file_extension": ".py",
   "mimetype": "text/x-python",
   "name": "python",
   "nbconvert_exporter": "python",
   "pygments_lexer": "ipython3",
   "version": "3.9.6"
  }
 },
 "nbformat": 4,
 "nbformat_minor": 5
}
