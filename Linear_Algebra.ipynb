{
 "cells": [
  {
   "cell_type": "markdown",
   "id": "3b7645b7-e6b0-4fdd-b991-41d63ae9b016",
   "metadata": {},
   "source": [
    "# Linear Algebra"
   ]
  },
  {
   "cell_type": "markdown",
   "id": "921752c8-0190-43a0-944d-3ea461a49162",
   "metadata": {},
   "source": [
    "Linear algebra is a branch of mathematics focusing on the study of vector spaces, vectors, and linear mappings between these spaces. It includes the analysis of lines, planes, and subspaces."
   ]
  },
  {
   "cell_type": "markdown",
   "id": "caa9805d-4f4c-4598-bc67-ffc3b6ca718d",
   "metadata": {},
   "source": [
    "---------"
   ]
  },
  {
   "cell_type": "markdown",
   "id": "a4f3c62b-7d9a-44df-9e27-80f21b9bcd5a",
   "metadata": {},
   "source": [
    "# Libraries"
   ]
  },
  {
   "cell_type": "code",
   "execution_count": 25,
   "id": "b021325d-101c-4f51-a1d2-483d2a36fd66",
   "metadata": {},
   "outputs": [],
   "source": [
    "# Numeric Python\n",
    "import numpy as np\n",
    "\n",
    "# Symbolic mathematics - computer algebra system (CAS)\n",
    "import sympy as sy\n",
    "\n",
    "# Linear algebra solver\n",
    "from scipy.optimize import fsolve"
   ]
  },
  {
   "cell_type": "code",
   "execution_count": 14,
   "id": "f95f3186-c6bf-4356-8d7b-638275304d45",
   "metadata": {},
   "outputs": [],
   "source": [
    "import matplotlib.pyplot as plt\n",
    "import seaborn as sns"
   ]
  },
  {
   "cell_type": "code",
   "execution_count": 28,
   "id": "5b9a8b3b-b12b-45a0-8480-399431ec0c0f",
   "metadata": {},
   "outputs": [],
   "source": [
    "from typing import Callable, Tuple, List\n",
    "import numpy as np\n",
    "import matplotlib.pyplot as plt\n",
    "import seaborn as sns\n",
    "from scipy.optimize import fsolve, OptimizeWarning\n",
    "import warnings"
   ]
  },
  {
   "cell_type": "markdown",
   "id": "6c7aab21-61ef-42b6-a996-dd04151d158a",
   "metadata": {},
   "source": [
    "---------"
   ]
  },
  {
   "cell_type": "markdown",
   "id": "9b9e5561-1c4f-41d7-8333-df79cfaee965",
   "metadata": {},
   "source": [
    "## Linear System of Equations"
   ]
  },
  {
   "cell_type": "markdown",
   "id": "52c1ca58-cd76-48fa-9a7a-9633918d657e",
   "metadata": {},
   "source": [
    "* a collection of one or more linear equations involving the same set of variables\n",
    "* the goal is to find the values of the variables that satisfy all the equations simultaneously."
   ]
  },
  {
   "cell_type": "markdown",
   "id": "ab027d9d-0a4e-48bf-9b02-f4283982f3e5",
   "metadata": {},
   "source": [
    "\\begin{align*}\n",
    "\\left\\{\n",
    "\\begin{array}{rcl}\n",
    "x + y &=& 5 \\\\\n",
    "x - y &=& 1\n",
    "\\end{array}\n",
    "\\right.\n",
    "\\end{align*}"
   ]
  },
  {
   "cell_type": "markdown",
   "id": "17e58c8e-7445-4cf2-aa30-b0033f136d99",
   "metadata": {},
   "source": [
    "A linear system of equations can have:\n",
    "• No solution\n",
    "• Many solutions\n",
    "• Exactly one solution: this means multiplication by\n",
    "the matrix is an invertible function"
   ]
  },
  {
   "cell_type": "code",
   "execution_count": 29,
   "id": "f0f52f7b-ac21-4092-b0db-29a601ce744c",
   "metadata": {},
   "outputs": [],
   "source": [
    "def solve_system(eq1: Callable[[float, float], float], \n",
    "                 eq2: Callable[[float, float], float],\n",
    "                 initial_guess: Tuple[float, float] = (0, 0)) -> Tuple[float, float]:\n",
    "    \"\"\"\n",
    "    Solves a system of two equations.\n",
    "\n",
    "    Args:\n",
    "        eq1: A callable representing the first equation of the form f(x, y) = 0.\n",
    "        eq2: A callable representing the second equation of the form f(x, y) = 0.\n",
    "        initial_guess: A tuple representing the initial guess for the solution.\n",
    "\n",
    "    Returns:\n",
    "        A tuple of floats representing the solution (x, y).\n",
    "\n",
    "    Raises:\n",
    "        ValueError: If the system cannot be solved with the provided initial guess.\n",
    "    \"\"\"\n",
    "    def func_combined(variables: Tuple[float, float]) -> List[float]:\n",
    "        x, y = variables\n",
    "        return [eq1(x, y), eq2(x, y)]\n",
    "\n",
    "    try:\n",
    "        with warnings.catch_warnings():\n",
    "            warnings.simplefilter(\"error\", OptimizeWarning)\n",
    "            solution = fsolve(func_combined, initial_guess)\n",
    "            return tuple(solution)\n",
    "    except OptimizeWarning:\n",
    "        raise ValueError(\"No solution found with the provided initial guess.\")"
   ]
  },
  {
   "cell_type": "code",
   "execution_count": 30,
   "id": "2520afe6-d162-4215-8bab-a0dca6b1a61a",
   "metadata": {},
   "outputs": [],
   "source": [
    "def plot_system(eq1: Callable[[float, float], float], \n",
    "                eq2: Callable[[float, float], float], \n",
    "                solution: Tuple[float, float],\n",
    "                x_range: Tuple[float, float] = (-10, 10),\n",
    "                y_range: Tuple[float, float] = (-10, 10)):\n",
    "    \"\"\"\n",
    "    Plots a system of two equations and their solution.\n",
    "\n",
    "    Args:\n",
    "        eq1: A callable representing the first equation of the form f(x, y) = 0.\n",
    "        eq2: A callable representing the second equation of the form f(x, y) = 0.\n",
    "        solution: A tuple representing the solution point (x, y).\n",
    "        x_range: A tuple representing the x-axis range for the plot.\n",
    "        y_range: A tuple representing the y-axis range for the plot.\n",
    "    \"\"\"\n",
    "    # Setting up the plot\n",
    "    sns.set(style=\"darkgrid\")\n",
    "    fig, ax = plt.subplots(figsize=(12, 7))\n",
    "\n",
    "    # Generating points for the lines\n",
    "    x_vals = np.linspace(*x_range, 400)\n",
    "    y_vals1 = np.array([fsolve(lambda y: eq1(x, y), 0)[0] for x in x_vals])\n",
    "    y_vals2 = np.array([fsolve(lambda y: eq2(x, y), 0)[0] for x in x_vals])\n",
    "\n",
    "    # Plotting the lines\n",
    "    ax.plot(x_vals, y_vals1, lw=3, label='Equation 1')\n",
    "    ax.plot(x_vals, y_vals2, lw=3, label='Equation 2')\n",
    "\n",
    "    # Highlighting the solution point if it's within the plotting range\n",
    "    x_sol, y_sol = solution\n",
    "    if x_range[0] <= x_sol <= x_range[1] and y_range[0] <= y_sol <= y_range[1]:\n",
    "        ax.scatter(x_sol, y_sol, s=200, zorder=5, color='r', alpha=.8)\n",
    "        ax.plot([x_sol, x_sol], [y_range[0], y_sol], ls='--', color='b', alpha=.5)\n",
    "        ax.plot([x_range[0], x_sol], [y_sol, y_sol], ls='--', color='b', alpha=.5)\n",
    "        s = f'$(x,y) = ({x_sol:.2f}, {y_sol:.2f})$'\n",
    "        ax.text(x_sol, y_sol + 1, s, fontsize=12)\n",
    "\n",
    "    # Setting the plot limits and labels\n",
    "    ax.set_xlim(x_range)\n",
    "    ax.set_ylim(y_range)\n",
    "    ax.legend()\n",
    "    ax.set_title('Solution of the System', size=16)\n",
    "\n",
    "    # Displaying the plot\n",
    "    plt.show()"
   ]
  },
  {
   "cell_type": "code",
   "execution_count": 31,
   "id": "8dc8f16b-8151-4075-ad15-7140535b47aa",
   "metadata": {},
   "outputs": [],
   "source": [
    "# Solving our system\n",
    "def eq1(x, y): return x + y - 5\n",
    "def eq2(x, y): return x - y - 1"
   ]
  },
  {
   "cell_type": "code",
   "execution_count": 32,
   "id": "88a75b4b-2a75-44f7-bb8a-d3a6c98d0ca5",
   "metadata": {},
   "outputs": [
    {
     "data": {
      "image/png": "[encoded data removed]",
      "text/plain": [
       "<Figure size 1200x700 with 1 Axes>"
      ]
     },
     "metadata": {},
     "output_type": "display_data"
    }
   ],
   "source": [
    "# Example usage\n",
    "try:\n",
    "    solution = solve_system(eq1, eq2)\n",
    "    plot_system(eq1, eq2, solution)\n",
    "except ValueError as e:\n",
    "    print(e)"
   ]
  },
  {
   "cell_type": "markdown",
   "id": "8b85f1b1-6a14-400c-a5fd-526d30c35355",
   "metadata": {},
   "source": [
    "----"
   ]
  },
  {
   "cell_type": "markdown",
   "id": "9f53f12c-ea26-4dd7-92da-0589e1d4b432",
   "metadata": {},
   "source": [
    "### Reduced Row Echelon Form (RREF)"
   ]
  },
  {
   "cell_type": "markdown",
   "id": "a535be0a-63c5-430b-82be-aefb48f099f1",
   "metadata": {},
   "source": [
    "* a specific form of a matrix achieved through the process of Gaussian elimination, a method for solving systems of linear equations.\n",
    "* provides a clear and simplified structure, which is particularly useful for identifying solutions to a system of linear equations, understanding the rank of the matrix, and determining linear independence of the rows or columns of the matrix."
   ]
  },
  {
   "cell_type": "code",
   "execution_count": 34,
   "id": "dea7df32-2d08-40b2-98bc-73d08bc4fc16",
   "metadata": {},
   "outputs": [
    {
     "data": {
      "text/latex": [
       "$\\displaystyle \\left[\\begin{matrix}5 & 0 & 11 & 3\\\\7 & 23 & -3 & 7\\\\12 & 11 & 3 & -4\\end{matrix}\\right]$"
      ],
      "text/plain": [
       "Matrix([\n",
       "[ 5,  0, 11,  3],\n",
       "[ 7, 23, -3,  7],\n",
       "[12, 11,  3, -4]])"
      ]
     },
     "execution_count": 34,
     "metadata": {},
     "output_type": "execute_result"
    }
   ],
   "source": [
    "M = sy.Matrix([[5, 0, 11, 3], [7, 23, -3, 7], [12, 11, 3, -4]]); \n",
    "M"
   ]
  },
  {
   "cell_type": "code",
   "execution_count": 35,
   "id": "77d22179-e67b-4075-a799-1fbb9b453323",
   "metadata": {},
   "outputs": [
    {
     "data": {
      "text/plain": [
       "(Matrix([\n",
       " [1, 0, 0, -2165/1679],\n",
       " [0, 1, 0,  1358/1679],\n",
       " [0, 0, 1,  1442/1679]]),\n",
       " (0, 1, 2))"
      ]
     },
     "execution_count": 35,
     "metadata": {},
     "output_type": "execute_result"
    }
   ],
   "source": [
    "# This shows how the reduced row echelon form was achieved \n",
    "M_rref = M.rref(); \n",
    "M_rref # .rref() is the SymPy method for row reduced echelon form"
   ]
  },
  {
   "cell_type": "code",
   "execution_count": 36,
   "id": "c5667157-22dd-40b7-8edd-58bf1a7b7e4f",
   "metadata": {},
   "outputs": [
    {
     "data": {
      "text/plain": [
       "array([[1, 0, 0, -2165/1679],\n",
       "       [0, 1, 0, 1358/1679],\n",
       "       [0, 0, 1, 1442/1679]], dtype=object)"
      ]
     },
     "execution_count": 36,
     "metadata": {},
     "output_type": "execute_result"
    }
   ],
   "source": [
    "# This is the actual reduced row echelon form \n",
    "M_rref = np.array(M_rref[0]);\n",
    "M_rref"
   ]
  },
  {
   "cell_type": "code",
   "execution_count": 37,
   "id": "bda1ba0e-e5bb-4827-a6f4-c59eab658244",
   "metadata": {},
   "outputs": [
    {
     "data": {
      "text/plain": [
       "array([[ 1.        ,  0.        ,  0.        , -1.28945801],\n",
       "       [ 0.        ,  1.        ,  0.        ,  0.80881477],\n",
       "       [ 0.        ,  0.        ,  1.        ,  0.85884455]])"
      ]
     },
     "execution_count": 37,
     "metadata": {},
     "output_type": "execute_result"
    }
   ],
   "source": [
    "# The last column shows the solution of a system\n",
    "M_rref.astype(float)"
   ]
  },
  {
   "cell_type": "markdown",
   "id": "9ebdc57f-a8f4-4b85-8652-4986d2ab4712",
   "metadata": {},
   "source": [
    "----"
   ]
  },
  {
   "cell_type": "markdown",
   "id": "05838162-38e3-484f-a3fd-7582073c04b7",
   "metadata": {},
   "source": [
    "#### Vector\n",
    "* mathematical object that has **magnitude** and **direction**\n",
    "* simplest form - **one-dimensional array** - coordinates in Euclidean space:  \n",
    "  for instance, threee-dimensional space would be represented by vector [x, y, z]"
   ]
  },
  {
   "cell_type": "code",
   "execution_count": 2,
   "id": "cb51a43d-e497-45e9-a557-fc957909571e",
   "metadata": {},
   "outputs": [
    {
     "name": "stdout",
     "output_type": "stream",
     "text": [
      "Vector: [1 2 3]\n",
      "Length of the vector: 3.7416573867739413\n",
      "Vector scaled by 2: [2 4 6]\n"
     ]
    }
   ],
   "source": [
    "# Creating a 3D vector\n",
    "vector = np.array([1, 2, 3])\n",
    "\n",
    "# Basic operations\n",
    "vector_length = np.linalg.norm(vector)\n",
    "vector_scaled = 2 * vector  # Scaling the vector\n",
    "\n",
    "print(\"Vector:\", vector)\n",
    "print(\"Length of the vector:\", vector_length)\n",
    "print(\"Vector scaled by 2:\", vector_scaled)"
   ]
  },
  {
   "cell_type": "markdown",
   "id": "a7d15b4b-df34-4675-aaac-a5768b30d648",
   "metadata": {},
   "source": [
    "#### Matrix\n",
    "* multidimensional array - array of vectors"
   ]
  },
  {
   "cell_type": "code",
   "execution_count": 3,
   "id": "73b4f398-682d-4eb0-98b1-7829ef333f62",
   "metadata": {},
   "outputs": [
    {
     "name": "stdout",
     "output_type": "stream",
     "text": [
      "Matrix:\n",
      " [[1 2]\n",
      " [3 4]]\n",
      "Determinant of the matrix: -2.0000000000000004\n",
      "Inverse of the matrix:\n",
      " [[-2.   1. ]\n",
      " [ 1.5 -0.5]]\n"
     ]
    }
   ],
   "source": [
    "# Creating a 2x2 matrix\n",
    "matrix = np.array([[1, 2], [3, 4]])\n",
    "\n",
    "# Matrix operations\n",
    "determinant = np.linalg.det(matrix)\n",
    "inverse_matrix = np.linalg.inv(matrix)\n",
    "\n",
    "print(\"Matrix:\\n\", matrix)\n",
    "print(\"Determinant of the matrix:\", determinant)\n",
    "print(\"Inverse of the matrix:\\n\", inverse_matrix)"
   ]
  },
  {
   "cell_type": "markdown",
   "id": "5b157447-8393-4646-86a1-6b69a0466f0a",
   "metadata": {},
   "source": [
    "* The determinant of a matrix is a scalar value that is computed from the elements of a square matrix. \n",
    "* Matrix Invertibility: A square matrix A is invertible (or non-singular) if and only if its determinant is not zero. If the determinant is zero, the matrix is singular and does not have an inverse.\n",
    "* Solution of Linear Systems: The determinant can be used to determine whether a system of linear equations has a unique solution, no solution, or infinitely many solutions."
   ]
  },
  {
   "cell_type": "code",
   "execution_count": 9,
   "id": "c44a5ecb-6799-41ee-9610-1bd0a5ae1c40",
   "metadata": {},
   "outputs": [
    {
     "name": "stdout",
     "output_type": "stream",
     "text": [
      "Matrix:\n"
     ]
    },
    {
     "data": {
      "text/latex": [
       "$\\displaystyle \\left[\\begin{matrix}1 & 2\\\\3 & 4\\end{matrix}\\right]$"
      ],
      "text/plain": [
       "Matrix([\n",
       "[1, 2],\n",
       "[3, 4]])"
      ]
     },
     "metadata": {},
     "output_type": "display_data"
    },
    {
     "name": "stdout",
     "output_type": "stream",
     "text": [
      "Determinant of the matrix: -2\n",
      "Inverse of the matrix:\n"
     ]
    },
    {
     "data": {
      "text/latex": [
       "$\\displaystyle \\left[\\begin{matrix}-2 & 1\\\\\\frac{3}{2} & - \\frac{1}{2}\\end{matrix}\\right]$"
      ],
      "text/plain": [
       "Matrix([\n",
       "[ -2,    1],\n",
       "[3/2, -1/2]])"
      ]
     },
     "metadata": {},
     "output_type": "display_data"
    }
   ],
   "source": [
    "# Creating a 2x2 matrix\n",
    "matrix = sy.Matrix([[1, 2], [3, 4]])\n",
    "\n",
    "# Matrix operations\n",
    "determinant = matrix.det()\n",
    "inverse_matrix = matrix.inv()\n",
    "\n",
    "print(\"Matrix:\")\n",
    "display(matrix)\n",
    "print(\"Determinant of the matrix:\", determinant)\n",
    "print(\"Inverse of the matrix:\")\n",
    "display(inverse_matrix)"
   ]
  },
  {
   "cell_type": "markdown",
   "id": "54c786e9-9683-4109-8909-70b1450fcbf1",
   "metadata": {},
   "source": [
    "### Scalar"
   ]
  },
  {
   "cell_type": "markdown",
   "id": "040736b8-32e6-4b21-b182-31bf0b01742b",
   "metadata": {},
   "source": [
    "* single number - magnitude or quantity"
   ]
  },
  {
   "cell_type": "markdown",
   "id": "3123f47c-a186-48f8-894c-0ce2007682be",
   "metadata": {},
   "source": [
    "#### Tensor \n",
    "* generalized concept that extends arrays into higher dimensions\n",
    "* describe relationships between sets of geometric vectors, scalars, and other tensors "
   ]
  },
  {
   "cell_type": "markdown",
   "id": "41a9b228-88b9-42c5-a036-c91522f8271b",
   "metadata": {},
   "source": [
    "* scalar - tensor of order 0\n",
    "* vector - tensor of order 1\n",
    "* matrix - tensor of order 2"
   ]
  },
  {
   "cell_type": "code",
   "execution_count": 4,
   "id": "804094b1-22a1-41ad-bebb-689e9799b5e1",
   "metadata": {},
   "outputs": [
    {
     "name": "stdout",
     "output_type": "stream",
     "text": [
      "Tensor:\n",
      " [[[1 2]\n",
      "  [3 4]]\n",
      "\n",
      " [[5 6]\n",
      "  [7 8]]]\n",
      "Sum along axis 0:\n",
      " [[ 6  8]\n",
      " [10 12]]\n"
     ]
    }
   ],
   "source": [
    "# Creating a 3D tensor\n",
    "tensor = np.array([[[1, 2], [3, 4]], [[5, 6], [7, 8]]])\n",
    "\n",
    "# Tensor operation\n",
    "sum_along_axis = np.sum(tensor, axis=0)\n",
    "\n",
    "print(\"Tensor:\\n\", tensor)\n",
    "print(\"Sum along axis 0:\\n\", sum_along_axis)"
   ]
  },
  {
   "cell_type": "code",
   "execution_count": null,
   "id": "972218dd-37ac-4027-ab42-86278af6138f",
   "metadata": {},
   "outputs": [],
   "source": []
  },
  {
   "cell_type": "markdown",
   "id": "d477554f-44d1-48af-ab70-a546e85f1a83",
   "metadata": {},
   "source": [
    "---------"
   ]
  },
  {
   "cell_type": "markdown",
   "id": "14f65c4b-843e-42df-a43a-91ab85a6907c",
   "metadata": {},
   "source": [
    "### Matrix Operations"
   ]
  },
  {
   "cell_type": "markdown",
   "id": "f58fb696-5bd9-4f99-b9a1-9c040ca77f91",
   "metadata": {},
   "source": [
    "Matrix _addition_ operations are straightforward:\n",
    "1. $A+ B= B+ A$\n",
    "2. $(A+B)+ C=A+(B+C)$\n",
    "3. $c(A+B)=cA+cB$\n",
    "4. $(c+d)A=cA+c{D}$\n",
    "5. $c(dA)=(cd)A$\n",
    "6. $A+{0}=A$, where ${0}$ is the zero matrix\n",
    "7. For any $A$, there exists an $- A$, such that $ A+(- A)=0$.\n",
    "\n",
    "They are as obvious as it looks, so no proofs are provided. And the matrix _multiplication_ properties are:\n",
    "1. $ A({BC})=({AB}) C$\n",
    "2. $c({AB})=(cA)B=A(cB)$\n",
    "3. $A(B+ C)={AB}+{AC}$\n",
    "4. $(B+C)A={BA}+{CA}$"
   ]
  },
  {
   "cell_type": "markdown",
   "id": "9dbb8067-1a6e-41b5-978a-9ee072ed9247",
   "metadata": {},
   "source": [
    "Two kinds of multiplication:\n",
    "* **Hadamard multiplication** - element-wise product\n",
    "* **matrix multiplication** - matrix product"
   ]
  },
  {
   "cell_type": "code",
   "execution_count": 50,
   "id": "4896d734-e823-4008-90e8-aeb2624a23ed",
   "metadata": {},
   "outputs": [],
   "source": [
    "A = np.array([[1, 2], [3, 4]])\n",
    "B = np.array([[5, 6], [7, 8]])"
   ]
  },
  {
   "cell_type": "code",
   "execution_count": 51,
   "id": "b5f83a86-4845-4ef9-bb9b-5a780d5f9f07",
   "metadata": {},
   "outputs": [
    {
     "data": {
      "text/plain": [
       "array([[ 5, 12],\n",
       "       [21, 32]])"
      ]
     },
     "execution_count": 51,
     "metadata": {},
     "output_type": "execute_result"
    }
   ],
   "source": [
    "# Hadamard elementwise product\n",
    "A*B"
   ]
  },
  {
   "cell_type": "code",
   "execution_count": 52,
   "id": "b8a72ed6-db23-44d0-83c3-869149ac4fda",
   "metadata": {},
   "outputs": [
    {
     "data": {
      "text/plain": [
       "array([[19, 22],\n",
       "       [43, 50]])"
      ]
     },
     "execution_count": 52,
     "metadata": {},
     "output_type": "execute_result"
    }
   ],
   "source": [
    "# Matrix product\n",
    "A@B"
   ]
  },
  {
   "cell_type": "code",
   "execution_count": 54,
   "id": "99e4d3c6-53b4-4708-bde3-7ee6d5405b5a",
   "metadata": {},
   "outputs": [
    {
     "data": {
      "text/plain": [
       "array([[1, 3],\n",
       "       [2, 4]])"
      ]
     },
     "execution_count": 54,
     "metadata": {},
     "output_type": "execute_result"
    }
   ],
   "source": [
    "# Matrix transpose\n",
    "A.T"
   ]
  },
  {
   "cell_type": "markdown",
   "id": "d3ec57d5-bd56-4d5f-8e73-5814ccf2ab51",
   "metadata": {},
   "source": [
    "The properties of transpose are\n",
    "1. $(A^T)^T$\n",
    "2. $(A+B)^T=A^T+B^T$\n",
    "3. $(cA)^T=cA^T$\n",
    "4. $(AB)^T=B^TA^T$"
   ]
  },
  {
   "cell_type": "code",
   "execution_count": 56,
   "id": "216a62a3-28dd-4638-bbd0-dfd842b9fca6",
   "metadata": {},
   "outputs": [
    {
     "data": {
      "text/latex": [
       "$\\displaystyle \\left[\\begin{matrix}1 & 0 & 0 & 0 & 0\\\\0 & 1 & 0 & 0 & 0\\\\0 & 0 & 1 & 0 & 0\\\\0 & 0 & 0 & 1 & 0\\\\0 & 0 & 0 & 0 & 1\\end{matrix}\\right]$"
      ],
      "text/plain": [
       "Matrix([\n",
       "[1, 0, 0, 0, 0],\n",
       "[0, 1, 0, 0, 0],\n",
       "[0, 0, 1, 0, 0],\n",
       "[0, 0, 0, 1, 0],\n",
       "[0, 0, 0, 0, 1]])"
      ]
     },
     "execution_count": 56,
     "metadata": {},
     "output_type": "execute_result"
    }
   ],
   "source": [
    "# Identity Matrix\n",
    "sy.eye(5)"
   ]
  },
  {
   "cell_type": "markdown",
   "id": "52e0410d-ba3a-41b1-963e-a5a9d14902bb",
   "metadata": {},
   "source": [
    "An **identity matrix** is a square matrix that has 1s on the main diagonal (from the top left to the bottom right) and 0s in all other positions.  \n",
    "The identity matrix is a key element in matrix algebra and is often used in solving matrix equations and in defining the inverse of a matrix.\n",
    "When multiplied by any matrix of an appropriate size, identity matrix leaves it unchanged.\n",
    "\n",
    "$$\n",
    "AI=IA = A\n",
    "$$"
   ]
  },
  {
   "cell_type": "markdown",
   "id": "75797ac2-2a37-43ce-a91a-2a36531c8f6a",
   "metadata": {},
   "source": [
    "The **inverse matrix** is a matrix, such that when it is multiplied by original matrix, it results in the identity matrix."
   ]
  },
  {
   "cell_type": "markdown",
   "id": "df121317-52ab-41a7-8115-78c3c9fc0e8b",
   "metadata": {},
   "source": [
    "If ${AB}={BA}=\\mathbf{I}$, $ B$ is called the inverse of matrix $  A$, denoted as $ B=  A^{-1}$."
   ]
  },
  {
   "cell_type": "code",
   "execution_count": 58,
   "id": "549c1017-ff03-4c48-94c6-282b230b70b9",
   "metadata": {},
   "outputs": [
    {
     "data": {
      "text/plain": [
       "array([[ -8., -10.,   0.,  -5.,   9.],\n",
       "       [ -1.,  10.,  -2.,   9.,  -7.],\n",
       "       [ -0.,   5.,  -0., -23.,   8.],\n",
       "       [ -8.,  12.,   8.,   9.,  -7.],\n",
       "       [ -1.,  11.,  13., -17.,   7.]])"
      ]
     },
     "execution_count": 58,
     "metadata": {},
     "output_type": "execute_result"
    }
   ],
   "source": [
    "A = np.round(10*np.random.randn(5,5)); A"
   ]
  },
  {
   "cell_type": "code",
   "execution_count": 59,
   "id": "700cbb5f-ea28-4e3c-bd30-f91c21fe487f",
   "metadata": {},
   "outputs": [
    {
     "data": {
      "text/plain": [
       "array([[-0.04256564,  0.03215238, -0.0616371 , -0.0943277 ,  0.06299434],\n",
       "       [ 0.03866359,  0.15729864, -0.02097861, -0.06646347,  0.06510039],\n",
       "       [-0.03752867, -0.10895306, -0.03895025,  0.0472633 ,  0.03107596],\n",
       "       [ 0.06053143,  0.13006037, -0.09321617, -0.08589765,  0.07286938],\n",
       "       [ 0.14986311,  0.27561192, -0.12988487, -0.20541606,  0.16881172]])"
      ]
     },
     "execution_count": 59,
     "metadata": {},
     "output_type": "execute_result"
    }
   ],
   "source": [
    "Ainv = np.linalg.inv(A); \n",
    "Ainv"
   ]
  },
  {
   "cell_type": "code",
   "execution_count": 60,
   "id": "90a83c9d-8895-49a9-9cb7-b86d4ab162dc",
   "metadata": {},
   "outputs": [
    {
     "data": {
      "text/plain": [
       "array([[ 1.00000000e+00,  5.55111512e-17,  5.55111512e-17,\n",
       "         2.77555756e-17,  5.55111512e-17],\n",
       "       [ 3.60822483e-16,  1.00000000e+00, -2.77555756e-16,\n",
       "        -4.16333634e-16,  2.77555756e-16],\n",
       "       [ 2.22044605e-16,  4.44089210e-16,  1.00000000e+00,\n",
       "        -2.22044605e-16,  2.22044605e-16],\n",
       "       [ 1.38777878e-16,  5.55111512e-17,  5.55111512e-17,\n",
       "         1.00000000e+00,  2.77555756e-16],\n",
       "       [-1.38777878e-16, -5.55111512e-17,  5.55111512e-17,\n",
       "         1.94289029e-16,  1.00000000e+00]])"
      ]
     },
     "execution_count": 60,
     "metadata": {},
     "output_type": "execute_result"
    }
   ],
   "source": [
    "A@Ainv"
   ]
  },
  {
   "cell_type": "markdown",
   "id": "c2b70d11-9217-4c64-b005-7908e2ce49cc",
   "metadata": {},
   "source": [
    "-------"
   ]
  },
  {
   "cell_type": "markdown",
   "id": "9cbfaad9-41be-4a12-9fcd-d08940e13f60",
   "metadata": {},
   "source": [
    "### Eigendecomposition"
   ]
  },
  {
   "cell_type": "markdown",
   "id": "3ec2059c-55ac-441d-89ed-dc03c5f07598",
   "metadata": {},
   "source": [
    "**Eigenvalue** and  **eigenvector** linear transformations represented by matrices. Here's a basic explanation:\n",
    "\n",
    "**Eigenvalue**: An eigenvalue of a matrix \\( A \\) is a scalar \\( \\lambda \\) such that there exists a non-zero vector \\( v \\) (an eigenvector) which, when multiplied by \\( A \\), results in a vector that is a scalar multiple of \\( v \\). Mathematically, this is expressed as:\n",
    "\n",
    "   Av=λv,\n",
    "   where A is a square matrix,\n",
    "   λ is the eigenvalue,\n",
    "   and v is the corresponding eigenvector\n",
    "\n",
    "**Eigenvector**: An eigenvector \\( \\mathbf{v} \\) of a matrix \\( A \\) is a non-zero vector that, when the matrix is applied to it, does not change its direction. Instead, it is scaled by a certain factor, which is the eigenvalue \\( \\lambda \\). Eigenvectors are central in determining the character of the linear transformation described by the matrix.\n"
   ]
  },
  {
   "cell_type": "raw",
   "id": "3adb1819-9dc1-44f9-b37c-a8324fd67564",
   "metadata": {},
   "source": [
    "eigen = 'own'"
   ]
  },
  {
   "cell_type": "markdown",
   "id": "bd3ace63-f236-480d-9734-a74918ca0f7c",
   "metadata": {},
   "source": [
    "-------"
   ]
  },
  {
   "cell_type": "markdown",
   "id": "b676062e-b9f8-499d-9bd1-7bfaf0e2e205",
   "metadata": {},
   "source": [
    "Norms\n",
    "* Functions that measure how “large” a vector is\n",
    "* Similar to a distance between zero and the point represented by the vector"
   ]
  },
  {
   "cell_type": "markdown",
   "id": "d88c03f3-3649-4116-9791-f6863d8de70d",
   "metadata": {},
   "source": [
    "------"
   ]
  },
  {
   "cell_type": "markdown",
   "id": "3c44e6ef-fe69-4018-938d-901c27ac9aec",
   "metadata": {},
   "source": [
    "Special Matrices and Vectors"
   ]
  },
  {
   "cell_type": "markdown",
   "id": "ca9bfb82-a681-4598-a298-4c2f7e748ed3",
   "metadata": {},
   "source": [
    "* Unit vector\n",
    "\\hat{\\mathbf{a}}\n",
    "* Symmatric matrix \n",
    "A = \\begin{pmatrix}\n",
    "    a & b & c \\\\\n",
    "    b & d & e \\\\\n",
    "    c & e & f\n",
    "\\end{pmatrix}\n",
    "* Orthogonal matrix\n",
    "Q = \\begin{pmatrix}\n",
    "    q_{11} & q_{12} & q_{13} \\\\\n",
    "    q_{21} & q_{22} & q_{23} \\\\\n",
    "    q_{31} & q_{32} & q_{33}\n",
    "\\end{pmatrix}\n"
   ]
  }
 ],
 "metadata": {
  "kernelspec": {
   "display_name": "Python 3 (ipykernel)",
   "language": "python",
   "name": "python3"
  },
  "language_info": {
   "codemirror_mode": {
    "name": "ipython",
    "version": 3
   },
   "file_extension": ".py",
   "mimetype": "text/x-python",
   "name": "python",
   "nbconvert_exporter": "python",
   "pygments_lexer": "ipython3",
   "version": "3.9.6"
  }
 },
 "nbformat": 4,
 "nbformat_minor": 5
}
